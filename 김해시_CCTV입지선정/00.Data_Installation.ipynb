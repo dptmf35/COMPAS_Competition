{
 "cells": [
  {
   "cell_type": "code",
   "execution_count": null,
   "id": "analyzed-gateway",
   "metadata": {},
   "outputs": [],
   "source": [
    "!mkdir data"
   ]
  },
  {
   "cell_type": "code",
   "execution_count": null,
   "id": "banned-being",
   "metadata": {},
   "outputs": [],
   "source": [
    "from geoband.API import *\n",
    "GetCompasData('SBJ_2206_001', '1', '1.김해시_CCTV설치현황.csv')\n",
    "GetCompasData('SBJ_2206_001', '2', '2.김해시_주차장현황.csv')\n",
    "GetCompasData('SBJ_2206_001', '3', '3.김해시_성연령별_요일별_유동인구.zip')\n",
    "GetCompasData('SBJ_2206_001', '25', '4.김해시_112신고이력(격자매핑).csv')\n",
    "GetCompasData('SBJ_2206_001', '5', '5.김해시_격자(100X100).geojson')\n",
    "GetCompasData('SBJ_2206_001', '6', '6.김해시_보안등설치현황.csv')\n",
    "GetCompasData('SBJ_2206_001', '28', '7.김해시_안전비상벨설치현황.csv')\n",
    "GetCompasData('SBJ_2206_001', '26', '8.김해시_공원현황.geojson')\n",
    "GetCompasData('SBJ_2206_001', '9', '9.김해시_하천현황.geojson')\n",
    "GetCompasData('SBJ_2206_001', '22', '10.김해시_성연령별_거주인구격자.geojson')\n",
    "GetCompasData('SBJ_2206_001', '11', '11.김해시_외국인_읍면동별_격자.geojson')\n",
    "GetCompasData('SBJ_2206_001', '23', '12.김해시_건물노후도.geojson')\n",
    "GetCompasData('SBJ_2206_001', '13', '13.김해시_도로명주소(건물).geojson')\n",
    "GetCompasData('SBJ_2206_001', '14', '14.김해시_법정경계(읍면동).geojson')\n",
    "GetCompasData('SBJ_2206_001', '15', '15.김해시_행정경계(읍면동).geojson')\n",
    "GetCompasData('SBJ_2206_001', '27', '16.김해시_토지소유정보.geojson')\n",
    "GetCompasData('SBJ_2206_001', '17', '17.김해시_어린이집현황.csv')\n",
    "GetCompasData('SBJ_2206_001', '18', '18.김해시_유치원현황.csv')\n",
    "GetCompasData('SBJ_2206_001', '19', '19.김해시_학교(초,중,고)현황.csv')\n",
    "GetCompasData('SBJ_2206_001', '24', '20.김해시_치안_유관업종_현황.csv')\n",
    "GetCompasData('SBJ_2206_001', '21', '21.김해시_아동안전지킴이집_현황.csv')"
   ]
  },
  {
   "cell_type": "code",
   "execution_count": null,
   "id": "demanding-corruption",
   "metadata": {},
   "outputs": [],
   "source": [
    "from zipfile import ZipFile\n",
    "\n",
    "with ZipFile('3.김해시_성연령별_요일별_유동인구.zip', 'r') as zip :\n",
    "    zip_info = zip.infolist()\n",
    "    for info in zip_info :\n",
    "        info.filename = info.filename.encode('cp437').decode('euc-kr')\n",
    "        zip.extract(info)"
   ]
  },
  {
   "cell_type": "code",
   "execution_count": null,
   "id": "legendary-frequency",
   "metadata": {},
   "outputs": [],
   "source": [
    "!mv *'.csv' ./data\n",
    "!mv *'.geojson' ./data\n",
    "!mv *'.zip' ./data"
   ]
  },
  {
   "cell_type": "code",
   "execution_count": null,
   "id": "exotic-laugh",
   "metadata": {},
   "outputs": [],
   "source": []
  }
 ],
 "metadata": {
  "kernelspec": {
   "display_name": "Python 3",
   "language": "python",
   "name": "python3"
  },
  "language_info": {
   "codemirror_mode": {
    "name": "ipython",
    "version": 3
   },
   "file_extension": ".py",
   "mimetype": "text/x-python",
   "name": "python",
   "nbconvert_exporter": "python",
   "pygments_lexer": "ipython3",
   "version": "3.7.10"
  },
  "toc": {
   "base_numbering": 1,
   "nav_menu": {},
   "number_sections": true,
   "sideBar": true,
   "skip_h1_title": false,
   "title_cell": "Table of Contents",
   "title_sidebar": "Contents",
   "toc_cell": false,
   "toc_position": {},
   "toc_section_display": true,
   "toc_window_display": false
  }
 },
 "nbformat": 4,
 "nbformat_minor": 5
}
