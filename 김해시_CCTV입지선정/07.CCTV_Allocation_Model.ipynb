{
 "cells": [
  {
   "cell_type": "markdown",
   "id": "9040c604",
   "metadata": {},
   "source": [
    "# CCTV 입지 모델링"
   ]
  },
  {
   "cell_type": "markdown",
   "id": "633b442a",
   "metadata": {},
   "source": [
    "## 📌 목표\n",
    "- 전처리한 데이터 활용하여 학습 데이터 생성, 격자별 cctv 설치 유무 예측 모델 학습(2018 ~ 2020)\n",
    "- 예측 모델 학습 시 주간, 야간 신고 모델 따로 만들기\n",
    "- 학습 모델로 2021년 격자 데이터에 예측\n",
    "- proba 값 추출\n",
    "- `낮 * 0.3` / `밤 * 0.7` 가중치로 최종 스코어(설치우선순위) 추출 "
   ]
  },
  {
   "cell_type": "code",
   "execution_count": 1,
   "id": "serious-worcester",
   "metadata": {
    "scrolled": true
   },
   "outputs": [],
   "source": [
    "import matplotlib.pyplot as plt\n",
    "%matplotlib inline\n",
    "import pandas as pd\n",
    "import geopandas as gpd\n",
    "from shapely.geometry import Point, Polygon, LineString\n",
    "from tqdm import tqdm \n",
    "import folium as f\n",
    "import warnings\n",
    "from catboost import CatBoostClassifier\n",
    "from sklearn import metrics, model_selection\n",
    "warnings.filterwarnings('ignore')\n",
    "tqdm.pandas()"
   ]
  },
  {
   "cell_type": "code",
   "execution_count": 2,
   "id": "republican-telescope",
   "metadata": {},
   "outputs": [],
   "source": [
    "buildings_status = pd.read_csv('./data/buildings_status.csv')\n",
    "candi_cctv_cover_area = pd.read_csv('./data/candi_cctv_coverage_area.csv')\n",
    "pop_status = pd.read_csv('./data/pop_status_total.csv')\n",
    "report_cnt = pd.read_csv('./data/report_class_cnt.csv')\n",
    "lights_bells_status = pd.read_csv('./data/lights_bells_status.csv')\n",
    "facilities_count = pd.read_csv('./data/facilities_count.csv')"
   ]
  },
  {
   "cell_type": "markdown",
   "id": "aada3d9f",
   "metadata": {},
   "source": [
    "## 학습 데이터 생성 \n",
    "전처리한 데이터 로드해서 merge"
   ]
  },
  {
   "cell_type": "code",
   "execution_count": 3,
   "id": "strong-toolbox",
   "metadata": {},
   "outputs": [
    {
     "data": {
      "text/html": [
       "<div>\n",
       "<style scoped>\n",
       "    .dataframe tbody tr th:only-of-type {\n",
       "        vertical-align: middle;\n",
       "    }\n",
       "\n",
       "    .dataframe tbody tr th {\n",
       "        vertical-align: top;\n",
       "    }\n",
       "\n",
       "    .dataframe thead th {\n",
       "        text-align: right;\n",
       "    }\n",
       "</style>\n",
       "<table border=\"1\" class=\"dataframe\">\n",
       "  <thead>\n",
       "    <tr style=\"text-align: right;\">\n",
       "      <th></th>\n",
       "      <th>gid</th>\n",
       "      <th>year</th>\n",
       "      <th>float_pop</th>\n",
       "      <th>total_pop</th>\n",
       "      <th>total_weak</th>\n",
       "      <th>total_foreign</th>\n",
       "      <th>car_accident_cnt</th>\n",
       "      <th>misdemeanour_cnt</th>\n",
       "      <th>etc_cnt</th>\n",
       "      <th>fire_accident_cnt</th>\n",
       "      <th>...</th>\n",
       "      <th>old_building_total_area</th>\n",
       "      <th>recreation_total_area</th>\n",
       "      <th>security_business_count</th>\n",
       "      <th>bell_cnt</th>\n",
       "      <th>securitylight_cnt</th>\n",
       "      <th>nur_nm</th>\n",
       "      <th>kin_nm</th>\n",
       "      <th>school_nm</th>\n",
       "      <th>child_safety_count</th>\n",
       "      <th>carpark_cnt</th>\n",
       "    </tr>\n",
       "  </thead>\n",
       "  <tbody>\n",
       "    <tr>\n",
       "      <th>0</th>\n",
       "      <td>마라095999</td>\n",
       "      <td>2018.0</td>\n",
       "      <td>20.27</td>\n",
       "      <td>0.0</td>\n",
       "      <td>0.0</td>\n",
       "      <td>0.0</td>\n",
       "      <td>0.0</td>\n",
       "      <td>0.0</td>\n",
       "      <td>1.0</td>\n",
       "      <td>0.0</td>\n",
       "      <td>...</td>\n",
       "      <td>NaN</td>\n",
       "      <td>NaN</td>\n",
       "      <td>NaN</td>\n",
       "      <td>NaN</td>\n",
       "      <td>NaN</td>\n",
       "      <td>NaN</td>\n",
       "      <td>NaN</td>\n",
       "      <td>NaN</td>\n",
       "      <td>NaN</td>\n",
       "      <td>NaN</td>\n",
       "    </tr>\n",
       "    <tr>\n",
       "      <th>1</th>\n",
       "      <td>마라096990</td>\n",
       "      <td>2018.0</td>\n",
       "      <td>3.14</td>\n",
       "      <td>0.0</td>\n",
       "      <td>0.0</td>\n",
       "      <td>0.0</td>\n",
       "      <td>NaN</td>\n",
       "      <td>NaN</td>\n",
       "      <td>NaN</td>\n",
       "      <td>NaN</td>\n",
       "      <td>...</td>\n",
       "      <td>NaN</td>\n",
       "      <td>NaN</td>\n",
       "      <td>NaN</td>\n",
       "      <td>NaN</td>\n",
       "      <td>NaN</td>\n",
       "      <td>NaN</td>\n",
       "      <td>NaN</td>\n",
       "      <td>NaN</td>\n",
       "      <td>NaN</td>\n",
       "      <td>NaN</td>\n",
       "    </tr>\n",
       "    <tr>\n",
       "      <th>2</th>\n",
       "      <td>마라096991</td>\n",
       "      <td>2018.0</td>\n",
       "      <td>34.71</td>\n",
       "      <td>0.0</td>\n",
       "      <td>0.0</td>\n",
       "      <td>0.0</td>\n",
       "      <td>NaN</td>\n",
       "      <td>NaN</td>\n",
       "      <td>NaN</td>\n",
       "      <td>NaN</td>\n",
       "      <td>...</td>\n",
       "      <td>NaN</td>\n",
       "      <td>NaN</td>\n",
       "      <td>NaN</td>\n",
       "      <td>NaN</td>\n",
       "      <td>NaN</td>\n",
       "      <td>NaN</td>\n",
       "      <td>NaN</td>\n",
       "      <td>NaN</td>\n",
       "      <td>NaN</td>\n",
       "      <td>NaN</td>\n",
       "    </tr>\n",
       "    <tr>\n",
       "      <th>3</th>\n",
       "      <td>마라096992</td>\n",
       "      <td>2018.0</td>\n",
       "      <td>31.34</td>\n",
       "      <td>0.0</td>\n",
       "      <td>0.0</td>\n",
       "      <td>0.0</td>\n",
       "      <td>NaN</td>\n",
       "      <td>NaN</td>\n",
       "      <td>NaN</td>\n",
       "      <td>NaN</td>\n",
       "      <td>...</td>\n",
       "      <td>NaN</td>\n",
       "      <td>NaN</td>\n",
       "      <td>NaN</td>\n",
       "      <td>NaN</td>\n",
       "      <td>NaN</td>\n",
       "      <td>NaN</td>\n",
       "      <td>NaN</td>\n",
       "      <td>NaN</td>\n",
       "      <td>NaN</td>\n",
       "      <td>NaN</td>\n",
       "    </tr>\n",
       "    <tr>\n",
       "      <th>4</th>\n",
       "      <td>마라096993</td>\n",
       "      <td>2018.0</td>\n",
       "      <td>0.00</td>\n",
       "      <td>0.0</td>\n",
       "      <td>0.0</td>\n",
       "      <td>0.0</td>\n",
       "      <td>NaN</td>\n",
       "      <td>NaN</td>\n",
       "      <td>NaN</td>\n",
       "      <td>NaN</td>\n",
       "      <td>...</td>\n",
       "      <td>NaN</td>\n",
       "      <td>NaN</td>\n",
       "      <td>NaN</td>\n",
       "      <td>NaN</td>\n",
       "      <td>NaN</td>\n",
       "      <td>NaN</td>\n",
       "      <td>NaN</td>\n",
       "      <td>NaN</td>\n",
       "      <td>NaN</td>\n",
       "      <td>NaN</td>\n",
       "    </tr>\n",
       "  </tbody>\n",
       "</table>\n",
       "<p>5 rows × 32 columns</p>\n",
       "</div>"
      ],
      "text/plain": [
       "        gid    year  float_pop  total_pop  total_weak  total_foreign  \\\n",
       "0  마라095999  2018.0      20.27        0.0         0.0            0.0   \n",
       "1  마라096990  2018.0       3.14        0.0         0.0            0.0   \n",
       "2  마라096991  2018.0      34.71        0.0         0.0            0.0   \n",
       "3  마라096992  2018.0      31.34        0.0         0.0            0.0   \n",
       "4  마라096993  2018.0       0.00        0.0         0.0            0.0   \n",
       "\n",
       "   car_accident_cnt  misdemeanour_cnt  etc_cnt  fire_accident_cnt  ...  \\\n",
       "0               0.0               0.0      1.0                0.0  ...   \n",
       "1               NaN               NaN      NaN                NaN  ...   \n",
       "2               NaN               NaN      NaN                NaN  ...   \n",
       "3               NaN               NaN      NaN                NaN  ...   \n",
       "4               NaN               NaN      NaN                NaN  ...   \n",
       "\n",
       "   old_building_total_area  recreation_total_area  security_business_count  \\\n",
       "0                      NaN                    NaN                      NaN   \n",
       "1                      NaN                    NaN                      NaN   \n",
       "2                      NaN                    NaN                      NaN   \n",
       "3                      NaN                    NaN                      NaN   \n",
       "4                      NaN                    NaN                      NaN   \n",
       "\n",
       "   bell_cnt  securitylight_cnt  nur_nm  kin_nm  school_nm  child_safety_count  \\\n",
       "0       NaN                NaN     NaN     NaN        NaN                 NaN   \n",
       "1       NaN                NaN     NaN     NaN        NaN                 NaN   \n",
       "2       NaN                NaN     NaN     NaN        NaN                 NaN   \n",
       "3       NaN                NaN     NaN     NaN        NaN                 NaN   \n",
       "4       NaN                NaN     NaN     NaN        NaN                 NaN   \n",
       "\n",
       "   carpark_cnt  \n",
       "0          NaN  \n",
       "1          NaN  \n",
       "2          NaN  \n",
       "3          NaN  \n",
       "4          NaN  \n",
       "\n",
       "[5 rows x 32 columns]"
      ]
     },
     "execution_count": 3,
     "metadata": {},
     "output_type": "execute_result"
    }
   ],
   "source": [
    "# 마라230983' -> 이상치\n",
    "t = pd.merge(pop_status, report_cnt, how='outer')\n",
    "temp = pd.merge(t, candi_cctv_cover_area, how='outer')\n",
    "temp = pd.merge(temp, buildings_status, how='outer')\n",
    "temp = pd.merge(temp, lights_bells_status, how='outer')\n",
    "df = pd.merge(temp, facilities_count, how='outer')\n",
    "\n",
    "df.head()"
   ]
  },
  {
   "cell_type": "code",
   "execution_count": 4,
   "id": "c2dd5bee",
   "metadata": {},
   "outputs": [],
   "source": [
    "df = df[df['gid']!='마라230983']\n",
    "df.reset_index(drop=True, inplace=True)"
   ]
  },
  {
   "cell_type": "code",
   "execution_count": 5,
   "id": "overall-range",
   "metadata": {},
   "outputs": [],
   "source": [
    "temp = df[['gid', 'year','medicare_total_area', 'transport_total_area', 'attraction_total_area', 'old_building_total_area', \n",
    "           'security_business_count','bell_cnt', 'securitylight_cnt', 'nur_nm', 'kin_nm', 'school_nm', 'child_safety_count', \n",
    "           'carpark_cnt', 'recreation_total_area']].groupby(['gid', 'year']).sum().groupby(level=0).cumsum().reset_index()\n",
    "df = pd.merge(df.drop(['medicare_total_area', 'transport_total_area', 'attraction_total_area', 'old_building_total_area',\n",
    "               'security_business_count','recreation_total_area', 'bell_cnt', 'securitylight_cnt', 'nur_nm', 'kin_nm',\n",
    "                'school_nm', 'child_safety_count', 'carpark_cnt'],axis=1), temp)"
   ]
  },
  {
   "cell_type": "code",
   "execution_count": 6,
   "id": "orange-values",
   "metadata": {},
   "outputs": [
    {
     "data": {
      "text/plain": [
       "1563"
      ]
     },
     "execution_count": 6,
     "metadata": {},
     "output_type": "execute_result"
    }
   ],
   "source": [
    "candi_grids = gpd.read_file('./data/candidate_grids.geojson')\n",
    "candi_grids['gid'].nunique()"
   ]
  },
  {
   "cell_type": "code",
   "execution_count": 7,
   "id": "healthy-reading",
   "metadata": {},
   "outputs": [],
   "source": [
    "df = df[df['gid'].isin(candi_grids['gid'].unique())]\n",
    "del df['total_area'], df['non_cover_area']"
   ]
  },
  {
   "cell_type": "code",
   "execution_count": 8,
   "id": "942941cb",
   "metadata": {},
   "outputs": [],
   "source": [
    "df.fillna(0, inplace=True)"
   ]
  },
  {
   "cell_type": "code",
   "execution_count": 9,
   "id": "fe6e50cd",
   "metadata": {},
   "outputs": [
    {
     "data": {
      "text/plain": [
       "Index(['gid', 'year', 'float_pop', 'total_pop', 'total_weak', 'total_foreign',\n",
       "       'car_accident_cnt', 'misdemeanour_cnt', 'etc_cnt', 'fire_accident_cnt',\n",
       "       'ordinary_crime_cnt', 'top_5_crime_cnt', 'sucide_accident_cnt',\n",
       "       'midnight_report_yn', 'daytime_report_yn', 'covering_cctv_cnt',\n",
       "       'coverage_area', 'medicare_total_area', 'transport_total_area',\n",
       "       'attraction_total_area', 'old_building_total_area',\n",
       "       'security_business_count', 'bell_cnt', 'securitylight_cnt', 'nur_nm',\n",
       "       'kin_nm', 'school_nm', 'child_safety_count', 'carpark_cnt',\n",
       "       'recreation_total_area'],\n",
       "      dtype='object')"
      ]
     },
     "execution_count": 9,
     "metadata": {},
     "output_type": "execute_result"
    }
   ],
   "source": [
    "df.columns"
   ]
  },
  {
   "cell_type": "code",
   "execution_count": 10,
   "id": "funny-society",
   "metadata": {},
   "outputs": [],
   "source": [
    "df.to_csv('./data/train.csv', index=None)"
   ]
  },
  {
   "cell_type": "markdown",
   "id": "prescription-variable",
   "metadata": {},
   "source": [
    "---"
   ]
  },
  {
   "cell_type": "code",
   "execution_count": 11,
   "id": "proud-mechanics",
   "metadata": {},
   "outputs": [
    {
     "data": {
      "text/plain": [
       "2019.0    1563\n",
       "2018.0    1563\n",
       "2021.0    1563\n",
       "2020.0    1563\n",
       "2017.0    1563\n",
       "Name: year, dtype: int64"
      ]
     },
     "execution_count": 11,
     "metadata": {},
     "output_type": "execute_result"
    }
   ],
   "source": [
    "df['year'].value_counts()"
   ]
  },
  {
   "cell_type": "code",
   "execution_count": 12,
   "id": "13056337",
   "metadata": {},
   "outputs": [],
   "source": [
    "# from xgboost import XGBClassifier\n",
    "\n",
    "# model = XGBClassifier()\n",
    "# model.fit(X_tr, y_tr)\n",
    "# pred = model.predict(X_te)\n",
    "# print(metrics.f1_score(pred,y_te))\n",
    "# print(metrics.accuracy_score(pred,y_te))"
   ]
  },
  {
   "cell_type": "code",
   "execution_count": null,
   "id": "41703975",
   "metadata": {},
   "outputs": [],
   "source": []
  },
  {
   "cell_type": "code",
   "execution_count": null,
   "id": "6a684122",
   "metadata": {},
   "outputs": [],
   "source": []
  },
  {
   "cell_type": "markdown",
   "id": "70083a00",
   "metadata": {},
   "source": [
    "---"
   ]
  },
  {
   "cell_type": "code",
   "execution_count": 13,
   "id": "447820a6",
   "metadata": {},
   "outputs": [],
   "source": [
    "df = df[df['year']!=2017]"
   ]
  },
  {
   "cell_type": "code",
   "execution_count": 14,
   "id": "4e47cdb7",
   "metadata": {},
   "outputs": [],
   "source": [
    "# df.corr()[['cctv_yn']].sort_values(by='cctv_yn', ascending=False)"
   ]
  },
  {
   "cell_type": "code",
   "execution_count": 15,
   "id": "faced-product",
   "metadata": {},
   "outputs": [],
   "source": [
    "# 유동(float_pop)은 2020년까지만"
   ]
  },
  {
   "cell_type": "code",
   "execution_count": 16,
   "id": "proved-dress",
   "metadata": {},
   "outputs": [],
   "source": [
    "# df.to_csv('./data/train.csv', index=None)"
   ]
  },
  {
   "cell_type": "code",
   "execution_count": 17,
   "id": "d7f7bdf0",
   "metadata": {},
   "outputs": [],
   "source": [
    "df.sort_values(\"gid\",inplace=True)\n",
    "df.reset_index(drop=True,inplace=True)"
   ]
  },
  {
   "cell_type": "code",
   "execution_count": 18,
   "id": "f56aa47d",
   "metadata": {},
   "outputs": [],
   "source": [
    "# y1 = df['coverage_area']\n",
    "# y2 = df['covering_cctv_cnt']"
   ]
  },
  {
   "cell_type": "code",
   "execution_count": 19,
   "id": "72c912bb",
   "metadata": {},
   "outputs": [],
   "source": [
    "# def cctv_classification(x) :\n",
    "#     if x == 0 :\n",
    "#         return 0\n",
    "#     elif x <= 3 :\n",
    "#         return 1\n",
    "#     else : \n",
    "#         return 2"
   ]
  },
  {
   "cell_type": "code",
   "execution_count": 20,
   "id": "e9f13c04",
   "metadata": {},
   "outputs": [],
   "source": [
    "# 설치 cctv 개수가 1 이상이면 1, 없으면 0\n",
    "df['cctv_yn'] = df['covering_cctv_cnt'].apply(lambda x : 1 if x > 0 else 0)\n",
    "\n",
    "# 설치 cctv 개수가 0개면 0, 1~3개면 1, 4개 이상이면 2\n",
    "# df['cctv_class'] = df['covering_cctv_cnt'].apply(cctv_classification)"
   ]
  },
  {
   "cell_type": "markdown",
   "id": "b176afe5",
   "metadata": {},
   "source": [
    "---"
   ]
  },
  {
   "cell_type": "markdown",
   "id": "687087f8",
   "metadata": {},
   "source": [
    "### 로지스틱 회귀 "
   ]
  },
  {
   "cell_type": "code",
   "execution_count": 21,
   "id": "89c7515c",
   "metadata": {},
   "outputs": [
    {
     "name": "stdout",
     "output_type": "stream",
     "text": [
      "Optimization terminated successfully.    (Exit mode 0)\n",
      "            Current function value: 0.6019789864034376\n",
      "            Iterations: 316\n",
      "            Function evaluations: 354\n",
      "            Gradient evaluations: 316\n"
     ]
    },
    {
     "name": "stderr",
     "output_type": "stream",
     "text": [
      "C:\\Users\\PC\\AppData\\Roaming\\Python\\Python37\\site-packages\\statsmodels\\base\\l1_solvers_common.py:71: ConvergenceWarning: QC check did not pass for 8 out of 24 parameters\n",
      "Try increasing solver accuracy or number of iterations, decreasing alpha, or switch solvers\n",
      "  warnings.warn(message, ConvergenceWarning)\n",
      "C:\\Users\\PC\\AppData\\Roaming\\Python\\Python37\\site-packages\\statsmodels\\base\\l1_solvers_common.py:144: ConvergenceWarning: Could not trim params automatically due to failed QC check. Trimming using trim_mode == 'size' will still work.\n",
      "  warnings.warn(msg, ConvergenceWarning)\n"
     ]
    },
    {
     "data": {
      "text/html": [
       "<table class=\"simpletable\">\n",
       "<caption>Logit Regression Results</caption>\n",
       "<tr>\n",
       "  <th>Dep. Variable:</th>        <td>cctv_yn</td>     <th>  No. Observations:  </th>   <td>  6252</td>  \n",
       "</tr>\n",
       "<tr>\n",
       "  <th>Model:</th>                 <td>Logit</td>      <th>  Df Residuals:      </th>   <td>  6228</td>  \n",
       "</tr>\n",
       "<tr>\n",
       "  <th>Method:</th>                 <td>MLE</td>       <th>  Df Model:          </th>   <td>    23</td>  \n",
       "</tr>\n",
       "<tr>\n",
       "  <th>Date:</th>            <td>Fri, 19 Aug 2022</td> <th>  Pseudo R-squ.:     </th>   <td>0.1285</td>  \n",
       "</tr>\n",
       "<tr>\n",
       "  <th>Time:</th>                <td>09:28:27</td>     <th>  Log-Likelihood:    </th>  <td> -3763.0</td> \n",
       "</tr>\n",
       "<tr>\n",
       "  <th>converged:</th>             <td>True</td>       <th>  LL-Null:           </th>  <td> -4318.1</td> \n",
       "</tr>\n",
       "<tr>\n",
       "  <th>Covariance Type:</th>     <td>nonrobust</td>    <th>  LLR p-value:       </th> <td>4.913e-220</td>\n",
       "</tr>\n",
       "</table>\n",
       "<table class=\"simpletable\">\n",
       "<tr>\n",
       "             <td></td>                <th>coef</th>     <th>std err</th>      <th>z</th>      <th>P>|z|</th>  <th>[0.025</th>    <th>0.975]</th>  \n",
       "</tr>\n",
       "<tr>\n",
       "  <th>total_pop</th>               <td>    0.0020</td> <td>    0.001</td> <td>    3.842</td> <td> 0.000</td> <td>    0.001</td> <td>    0.003</td>\n",
       "</tr>\n",
       "<tr>\n",
       "  <th>total_weak</th>              <td>   -0.0108</td> <td>    0.002</td> <td>   -6.283</td> <td> 0.000</td> <td>   -0.014</td> <td>   -0.007</td>\n",
       "</tr>\n",
       "<tr>\n",
       "  <th>total_foreign</th>           <td>   -0.0057</td> <td>    0.003</td> <td>   -1.915</td> <td> 0.055</td> <td>   -0.012</td> <td>    0.000</td>\n",
       "</tr>\n",
       "<tr>\n",
       "  <th>car_accident_cnt</th>        <td>   -0.0523</td> <td>    0.006</td> <td>   -8.713</td> <td> 0.000</td> <td>   -0.064</td> <td>   -0.041</td>\n",
       "</tr>\n",
       "<tr>\n",
       "  <th>misdemeanour_cnt</th>        <td>    0.0172</td> <td>    0.005</td> <td>    3.251</td> <td> 0.001</td> <td>    0.007</td> <td>    0.028</td>\n",
       "</tr>\n",
       "<tr>\n",
       "  <th>etc_cnt</th>                 <td>    0.0019</td> <td>    0.001</td> <td>    2.042</td> <td> 0.041</td> <td> 7.47e-05</td> <td>    0.004</td>\n",
       "</tr>\n",
       "<tr>\n",
       "  <th>fire_accident_cnt</th>       <td>    0.0967</td> <td>    0.050</td> <td>    1.946</td> <td> 0.052</td> <td>   -0.001</td> <td>    0.194</td>\n",
       "</tr>\n",
       "<tr>\n",
       "  <th>ordinary_crime_cnt</th>      <td>   -0.0046</td> <td>    0.004</td> <td>   -1.171</td> <td> 0.242</td> <td>   -0.012</td> <td>    0.003</td>\n",
       "</tr>\n",
       "<tr>\n",
       "  <th>top_5_crime_cnt</th>         <td>   -0.0284</td> <td>    0.008</td> <td>   -3.470</td> <td> 0.001</td> <td>   -0.044</td> <td>   -0.012</td>\n",
       "</tr>\n",
       "<tr>\n",
       "  <th>sucide_accident_cnt</th>     <td>   -0.0190</td> <td>    0.024</td> <td>   -0.803</td> <td> 0.422</td> <td>   -0.065</td> <td>    0.027</td>\n",
       "</tr>\n",
       "<tr>\n",
       "  <th>midnight_report_yn</th>      <td>    0.0032</td> <td>    0.003</td> <td>    1.061</td> <td> 0.289</td> <td>   -0.003</td> <td>    0.009</td>\n",
       "</tr>\n",
       "<tr>\n",
       "  <th>medicare_total_area</th>     <td>   -0.0002</td> <td> 7.24e-05</td> <td>   -2.892</td> <td> 0.004</td> <td>   -0.000</td> <td>-6.75e-05</td>\n",
       "</tr>\n",
       "<tr>\n",
       "  <th>transport_total_area</th>    <td>    0.0004</td> <td>    0.001</td> <td>    0.819</td> <td> 0.413</td> <td>   -0.001</td> <td>    0.001</td>\n",
       "</tr>\n",
       "<tr>\n",
       "  <th>attraction_total_area</th>   <td>   -0.0003</td> <td>  7.6e-05</td> <td>   -4.246</td> <td> 0.000</td> <td>   -0.000</td> <td>   -0.000</td>\n",
       "</tr>\n",
       "<tr>\n",
       "  <th>old_building_total_area</th> <td>    0.0005</td> <td> 3.02e-05</td> <td>   15.465</td> <td> 0.000</td> <td>    0.000</td> <td>    0.001</td>\n",
       "</tr>\n",
       "<tr>\n",
       "  <th>security_business_count</th> <td>   -0.0440</td> <td>    0.020</td> <td>   -2.230</td> <td> 0.026</td> <td>   -0.083</td> <td>   -0.005</td>\n",
       "</tr>\n",
       "<tr>\n",
       "  <th>bell_cnt</th>                <td>    0.2137</td> <td>    0.148</td> <td>    1.447</td> <td> 0.148</td> <td>   -0.076</td> <td>    0.503</td>\n",
       "</tr>\n",
       "<tr>\n",
       "  <th>securitylight_cnt</th>       <td>    0.2135</td> <td>    0.022</td> <td>    9.874</td> <td> 0.000</td> <td>    0.171</td> <td>    0.256</td>\n",
       "</tr>\n",
       "<tr>\n",
       "  <th>nur_nm</th>                  <td>   -0.1081</td> <td>    0.065</td> <td>   -1.659</td> <td> 0.097</td> <td>   -0.236</td> <td>    0.020</td>\n",
       "</tr>\n",
       "<tr>\n",
       "  <th>kin_nm</th>                  <td>    1.9742</td> <td>    0.303</td> <td>    6.509</td> <td> 0.000</td> <td>    1.380</td> <td>    2.569</td>\n",
       "</tr>\n",
       "<tr>\n",
       "  <th>school_nm</th>               <td>    0.0553</td> <td>    0.232</td> <td>    0.238</td> <td> 0.812</td> <td>   -0.400</td> <td>    0.510</td>\n",
       "</tr>\n",
       "<tr>\n",
       "  <th>child_safety_count</th>      <td>   -1.7388</td> <td>    0.555</td> <td>   -3.133</td> <td> 0.002</td> <td>   -2.827</td> <td>   -0.651</td>\n",
       "</tr>\n",
       "<tr>\n",
       "  <th>carpark_cnt</th>             <td>    1.0722</td> <td>    0.259</td> <td>    4.139</td> <td> 0.000</td> <td>    0.564</td> <td>    1.580</td>\n",
       "</tr>\n",
       "<tr>\n",
       "  <th>recreation_total_area</th>   <td>   -0.0016</td> <td>    0.001</td> <td>   -3.005</td> <td> 0.003</td> <td>   -0.003</td> <td>   -0.001</td>\n",
       "</tr>\n",
       "</table>"
      ],
      "text/plain": [
       "<class 'statsmodels.iolib.summary.Summary'>\n",
       "\"\"\"\n",
       "                           Logit Regression Results                           \n",
       "==============================================================================\n",
       "Dep. Variable:                cctv_yn   No. Observations:                 6252\n",
       "Model:                          Logit   Df Residuals:                     6228\n",
       "Method:                           MLE   Df Model:                           23\n",
       "Date:                Fri, 19 Aug 2022   Pseudo R-squ.:                  0.1285\n",
       "Time:                        09:28:27   Log-Likelihood:                -3763.0\n",
       "converged:                       True   LL-Null:                       -4318.1\n",
       "Covariance Type:            nonrobust   LLR p-value:                4.913e-220\n",
       "===========================================================================================\n",
       "                              coef    std err          z      P>|z|      [0.025      0.975]\n",
       "-------------------------------------------------------------------------------------------\n",
       "total_pop                   0.0020      0.001      3.842      0.000       0.001       0.003\n",
       "total_weak                 -0.0108      0.002     -6.283      0.000      -0.014      -0.007\n",
       "total_foreign              -0.0057      0.003     -1.915      0.055      -0.012       0.000\n",
       "car_accident_cnt           -0.0523      0.006     -8.713      0.000      -0.064      -0.041\n",
       "misdemeanour_cnt            0.0172      0.005      3.251      0.001       0.007       0.028\n",
       "etc_cnt                     0.0019      0.001      2.042      0.041    7.47e-05       0.004\n",
       "fire_accident_cnt           0.0967      0.050      1.946      0.052      -0.001       0.194\n",
       "ordinary_crime_cnt         -0.0046      0.004     -1.171      0.242      -0.012       0.003\n",
       "top_5_crime_cnt            -0.0284      0.008     -3.470      0.001      -0.044      -0.012\n",
       "sucide_accident_cnt        -0.0190      0.024     -0.803      0.422      -0.065       0.027\n",
       "midnight_report_yn          0.0032      0.003      1.061      0.289      -0.003       0.009\n",
       "medicare_total_area        -0.0002   7.24e-05     -2.892      0.004      -0.000   -6.75e-05\n",
       "transport_total_area        0.0004      0.001      0.819      0.413      -0.001       0.001\n",
       "attraction_total_area      -0.0003    7.6e-05     -4.246      0.000      -0.000      -0.000\n",
       "old_building_total_area     0.0005   3.02e-05     15.465      0.000       0.000       0.001\n",
       "security_business_count    -0.0440      0.020     -2.230      0.026      -0.083      -0.005\n",
       "bell_cnt                    0.2137      0.148      1.447      0.148      -0.076       0.503\n",
       "securitylight_cnt           0.2135      0.022      9.874      0.000       0.171       0.256\n",
       "nur_nm                     -0.1081      0.065     -1.659      0.097      -0.236       0.020\n",
       "kin_nm                      1.9742      0.303      6.509      0.000       1.380       2.569\n",
       "school_nm                   0.0553      0.232      0.238      0.812      -0.400       0.510\n",
       "child_safety_count         -1.7388      0.555     -3.133      0.002      -2.827      -0.651\n",
       "carpark_cnt                 1.0722      0.259      4.139      0.000       0.564       1.580\n",
       "recreation_total_area      -0.0016      0.001     -3.005      0.003      -0.003      -0.001\n",
       "===========================================================================================\n",
       "\"\"\""
      ]
     },
     "execution_count": 21,
     "metadata": {},
     "output_type": "execute_result"
    }
   ],
   "source": [
    "# logisticRegression\n",
    "import statsmodels.api as sm\n",
    "\n",
    "X = df.drop(['coverage_area', 'covering_cctv_cnt', 'gid', 'float_pop', 'year', 'daytime_report_yn','cctv_yn'], axis=1)\n",
    "y = df[['cctv_yn']]\n",
    "\n",
    "lr_model = sm.Logit(y, X)\n",
    "result = lr_model.fit_regularized(alpha=0.1 )\n",
    "result.summary()"
   ]
  },
  {
   "cell_type": "markdown",
   "id": "e43ed2f3",
   "metadata": {},
   "source": [
    "---"
   ]
  },
  {
   "cell_type": "code",
   "execution_count": 22,
   "id": "535c9828",
   "metadata": {},
   "outputs": [
    {
     "data": {
      "text/plain": [
       "total_pop                  1.002017\n",
       "total_weak                 0.989266\n",
       "total_foreign              0.994297\n",
       "car_accident_cnt           0.949081\n",
       "misdemeanour_cnt           1.017331\n",
       "etc_cnt                    1.001859\n",
       "fire_accident_cnt          1.101556\n",
       "ordinary_crime_cnt         0.995418\n",
       "top_5_crime_cnt            0.972040\n",
       "sucide_accident_cnt        0.981202\n",
       "midnight_report_yn         1.003179\n",
       "medicare_total_area        0.999791\n",
       "transport_total_area       1.000442\n",
       "attraction_total_area      0.999678\n",
       "old_building_total_area    1.000468\n",
       "security_business_count    0.956986\n",
       "bell_cnt                   1.238254\n",
       "securitylight_cnt          1.237999\n",
       "nur_nm                     0.897524\n",
       "kin_nm                     7.200753\n",
       "school_nm                  1.056813\n",
       "child_safety_count         0.175725\n",
       "carpark_cnt                2.921743\n",
       "recreation_total_area      0.998376\n",
       "dtype: float64"
      ]
     },
     "execution_count": 22,
     "metadata": {},
     "output_type": "execute_result"
    }
   ],
   "source": [
    "import numpy as np\n",
    "np.exp(result.params)"
   ]
  },
  {
   "cell_type": "code",
   "execution_count": null,
   "id": "001bc1c5",
   "metadata": {},
   "outputs": [],
   "source": []
  },
  {
   "cell_type": "markdown",
   "id": "b7d5b30a",
   "metadata": {},
   "source": [
    "## 심야시간 모델 학습"
   ]
  },
  {
   "cell_type": "code",
   "execution_count": 23,
   "id": "54610819",
   "metadata": {},
   "outputs": [],
   "source": [
    "# X, y 분리\n",
    "X = df[df['year']!=2021].drop(['coverage_area', 'covering_cctv_cnt', 'gid', 'float_pop', 'year', 'daytime_report_yn', 'cctv_yn'], axis=1)\n",
    "y = df[df['year']!=2021]['cctv_yn']"
   ]
  },
  {
   "cell_type": "code",
   "execution_count": 24,
   "id": "6f8358d8",
   "metadata": {},
   "outputs": [],
   "source": [
    "X_tr, X_te, y_tr, y_te = model_selection.train_test_split(X,y, test_size=0.2, random_state=2022)"
   ]
  },
  {
   "cell_type": "code",
   "execution_count": 25,
   "id": "19556607",
   "metadata": {},
   "outputs": [],
   "source": [
    "from sklearn import *\n",
    "from catboost import CatBoostClassifier,CatBoostRegressor"
   ]
  },
  {
   "cell_type": "code",
   "execution_count": 26,
   "id": "482508b4",
   "metadata": {},
   "outputs": [],
   "source": [
    "model = CatBoostClassifier(logging_level=\"Silent\", random_state=2022)\n",
    "model.fit(X_tr,y_tr)\n",
    "pred = model.predict(X_te)"
   ]
  },
  {
   "cell_type": "code",
   "execution_count": 27,
   "id": "8262c9e0",
   "metadata": {
    "scrolled": true
   },
   "outputs": [
    {
     "name": "stdout",
     "output_type": "stream",
     "text": [
      "0.7674897119341564\n",
      "0.7590618336886994\n"
     ]
    }
   ],
   "source": [
    "print(metrics.f1_score(pred,y_te))\n",
    "print(metrics.accuracy_score(pred,y_te))"
   ]
  },
  {
   "cell_type": "markdown",
   "id": "c4bdeb24",
   "metadata": {},
   "source": [
    "## 심야시간 Model 예측"
   ]
  },
  {
   "cell_type": "code",
   "execution_count": 28,
   "id": "45ffb5e4",
   "metadata": {},
   "outputs": [],
   "source": [
    "# 예측하고자 하는 연도(2021)를 타겟으로 정함\n",
    "target = df[df['year']==2021]\n",
    "target.sort_values(\"gid\",inplace=True)\n",
    "target.reset_index(drop=True,inplace=True)"
   ]
  },
  {
   "cell_type": "code",
   "execution_count": 29,
   "id": "d96810c6",
   "metadata": {},
   "outputs": [],
   "source": [
    "target_gid = target['gid']\n",
    "target = target.drop(['gid', 'year', 'coverage_area', 'covering_cctv_cnt', 'float_pop', 'daytime_report_yn', 'cctv_yn'],axis=1)\n",
    "\n",
    "pred_proba = model.predict_proba(target)"
   ]
  },
  {
   "cell_type": "code",
   "execution_count": 30,
   "id": "78d3dc29",
   "metadata": {},
   "outputs": [],
   "source": [
    "# 각 후보 gid에 대한 proba 구하기\n",
    "proba_df = pd.DataFrame(pred_proba)\n",
    "final_df_midnight = pd.concat([pd.Series(target_gid),proba_df],axis=1)"
   ]
  },
  {
   "cell_type": "code",
   "execution_count": 31,
   "id": "6733e209",
   "metadata": {},
   "outputs": [
    {
     "data": {
      "text/html": [
       "<div>\n",
       "<style scoped>\n",
       "    .dataframe tbody tr th:only-of-type {\n",
       "        vertical-align: middle;\n",
       "    }\n",
       "\n",
       "    .dataframe tbody tr th {\n",
       "        vertical-align: top;\n",
       "    }\n",
       "\n",
       "    .dataframe thead th {\n",
       "        text-align: right;\n",
       "    }\n",
       "</style>\n",
       "<table border=\"1\" class=\"dataframe\">\n",
       "  <thead>\n",
       "    <tr style=\"text-align: right;\">\n",
       "      <th></th>\n",
       "      <th>gid</th>\n",
       "      <th>0</th>\n",
       "      <th>1</th>\n",
       "    </tr>\n",
       "  </thead>\n",
       "  <tbody>\n",
       "    <tr>\n",
       "      <th>0</th>\n",
       "      <td>마라122929</td>\n",
       "      <td>0.349213</td>\n",
       "      <td>0.650787</td>\n",
       "    </tr>\n",
       "    <tr>\n",
       "      <th>1</th>\n",
       "      <td>마라135954</td>\n",
       "      <td>0.712164</td>\n",
       "      <td>0.287836</td>\n",
       "    </tr>\n",
       "    <tr>\n",
       "      <th>2</th>\n",
       "      <td>마라141954</td>\n",
       "      <td>0.288245</td>\n",
       "      <td>0.711755</td>\n",
       "    </tr>\n",
       "    <tr>\n",
       "      <th>3</th>\n",
       "      <td>마라143979</td>\n",
       "      <td>0.713986</td>\n",
       "      <td>0.286014</td>\n",
       "    </tr>\n",
       "    <tr>\n",
       "      <th>4</th>\n",
       "      <td>마라145881</td>\n",
       "      <td>0.736905</td>\n",
       "      <td>0.263095</td>\n",
       "    </tr>\n",
       "    <tr>\n",
       "      <th>...</th>\n",
       "      <td>...</td>\n",
       "      <td>...</td>\n",
       "      <td>...</td>\n",
       "    </tr>\n",
       "    <tr>\n",
       "      <th>1558</th>\n",
       "      <td>마마226043</td>\n",
       "      <td>0.556897</td>\n",
       "      <td>0.443103</td>\n",
       "    </tr>\n",
       "    <tr>\n",
       "      <th>1559</th>\n",
       "      <td>마마266018</td>\n",
       "      <td>0.785853</td>\n",
       "      <td>0.214147</td>\n",
       "    </tr>\n",
       "    <tr>\n",
       "      <th>1560</th>\n",
       "      <td>마마295001</td>\n",
       "      <td>0.499160</td>\n",
       "      <td>0.500840</td>\n",
       "    </tr>\n",
       "    <tr>\n",
       "      <th>1561</th>\n",
       "      <td>마마300023</td>\n",
       "      <td>0.093332</td>\n",
       "      <td>0.906668</td>\n",
       "    </tr>\n",
       "    <tr>\n",
       "      <th>1562</th>\n",
       "      <td>마마349001</td>\n",
       "      <td>0.884614</td>\n",
       "      <td>0.115386</td>\n",
       "    </tr>\n",
       "  </tbody>\n",
       "</table>\n",
       "<p>1563 rows × 3 columns</p>\n",
       "</div>"
      ],
      "text/plain": [
       "           gid         0         1\n",
       "0     마라122929  0.349213  0.650787\n",
       "1     마라135954  0.712164  0.287836\n",
       "2     마라141954  0.288245  0.711755\n",
       "3     마라143979  0.713986  0.286014\n",
       "4     마라145881  0.736905  0.263095\n",
       "...        ...       ...       ...\n",
       "1558  마마226043  0.556897  0.443103\n",
       "1559  마마266018  0.785853  0.214147\n",
       "1560  마마295001  0.499160  0.500840\n",
       "1561  마마300023  0.093332  0.906668\n",
       "1562  마마349001  0.884614  0.115386\n",
       "\n",
       "[1563 rows x 3 columns]"
      ]
     },
     "execution_count": 31,
     "metadata": {},
     "output_type": "execute_result"
    }
   ],
   "source": [
    "final_df_midnight"
   ]
  },
  {
   "cell_type": "code",
   "execution_count": null,
   "id": "0819c805",
   "metadata": {},
   "outputs": [],
   "source": []
  },
  {
   "cell_type": "markdown",
   "id": "77f67f43",
   "metadata": {},
   "source": [
    "## 주간 Model 학습"
   ]
  },
  {
   "cell_type": "code",
   "execution_count": 32,
   "id": "1f7a0e11",
   "metadata": {},
   "outputs": [],
   "source": [
    "# X, y 분리\n",
    "X = df[df['year']!=2021].drop(['coverage_area', 'covering_cctv_cnt', 'gid', 'float_pop', 'year', 'midnight_report_yn', 'cctv_yn'], axis=1)\n",
    "y = df[df['year']!=2021]['cctv_yn']"
   ]
  },
  {
   "cell_type": "code",
   "execution_count": 33,
   "id": "b79e7b92",
   "metadata": {},
   "outputs": [],
   "source": [
    "from sklearn import *\n",
    "from catboost import CatBoostClassifier,CatBoostRegressor"
   ]
  },
  {
   "cell_type": "code",
   "execution_count": 34,
   "id": "7fe623bb",
   "metadata": {},
   "outputs": [],
   "source": [
    "X_tr, X_te, y_tr, y_te = model_selection.train_test_split(X,y, test_size=0.2, random_state=2022)"
   ]
  },
  {
   "cell_type": "code",
   "execution_count": 35,
   "id": "8377fb4c",
   "metadata": {},
   "outputs": [],
   "source": [
    "model = CatBoostClassifier(logging_level=\"Silent\", random_state=2022)\n",
    "model.fit(X_tr,y_tr)\n",
    "pred = model.predict(X_te)"
   ]
  },
  {
   "cell_type": "code",
   "execution_count": 36,
   "id": "ac960071",
   "metadata": {
    "scrolled": true
   },
   "outputs": [
    {
     "name": "stdout",
     "output_type": "stream",
     "text": [
      "0.7689161554192228\n",
      "0.7590618336886994\n"
     ]
    }
   ],
   "source": [
    "print(metrics.f1_score(pred,y_te))\n",
    "print(metrics.accuracy_score(pred,y_te))"
   ]
  },
  {
   "cell_type": "code",
   "execution_count": null,
   "id": "5d988708",
   "metadata": {},
   "outputs": [],
   "source": []
  },
  {
   "cell_type": "code",
   "execution_count": null,
   "id": "7ea5fe7f",
   "metadata": {},
   "outputs": [],
   "source": []
  },
  {
   "cell_type": "markdown",
   "id": "264fd30b",
   "metadata": {},
   "source": [
    "## 주간 Model 예측"
   ]
  },
  {
   "cell_type": "code",
   "execution_count": 37,
   "id": "6ab2d024",
   "metadata": {},
   "outputs": [],
   "source": [
    "# 예측하고자 하는 연도(2021)를 타겟으로 정함\n",
    "target = df[df['year']==2021]\n",
    "target.sort_values(\"gid\",inplace=True)\n",
    "target.reset_index(drop=True,inplace=True)"
   ]
  },
  {
   "cell_type": "code",
   "execution_count": 38,
   "id": "61ea2abc",
   "metadata": {},
   "outputs": [],
   "source": [
    "target_gid = target['gid']\n",
    "target = target.drop(['gid', 'year', 'coverage_area', 'covering_cctv_cnt', 'float_pop', 'midnight_report_yn', 'cctv_yn'],axis=1)\n",
    "\n",
    "pred_proba = model.predict_proba(target)"
   ]
  },
  {
   "cell_type": "code",
   "execution_count": 39,
   "id": "4cec04f8",
   "metadata": {},
   "outputs": [
    {
     "data": {
      "text/html": [
       "<div>\n",
       "<style scoped>\n",
       "    .dataframe tbody tr th:only-of-type {\n",
       "        vertical-align: middle;\n",
       "    }\n",
       "\n",
       "    .dataframe tbody tr th {\n",
       "        vertical-align: top;\n",
       "    }\n",
       "\n",
       "    .dataframe thead th {\n",
       "        text-align: right;\n",
       "    }\n",
       "</style>\n",
       "<table border=\"1\" class=\"dataframe\">\n",
       "  <thead>\n",
       "    <tr style=\"text-align: right;\">\n",
       "      <th></th>\n",
       "      <th>gid</th>\n",
       "      <th>0</th>\n",
       "      <th>1</th>\n",
       "    </tr>\n",
       "  </thead>\n",
       "  <tbody>\n",
       "    <tr>\n",
       "      <th>0</th>\n",
       "      <td>마라122929</td>\n",
       "      <td>0.249521</td>\n",
       "      <td>0.750479</td>\n",
       "    </tr>\n",
       "    <tr>\n",
       "      <th>1</th>\n",
       "      <td>마라135954</td>\n",
       "      <td>0.685026</td>\n",
       "      <td>0.314974</td>\n",
       "    </tr>\n",
       "    <tr>\n",
       "      <th>2</th>\n",
       "      <td>마라141954</td>\n",
       "      <td>0.336042</td>\n",
       "      <td>0.663958</td>\n",
       "    </tr>\n",
       "    <tr>\n",
       "      <th>3</th>\n",
       "      <td>마라143979</td>\n",
       "      <td>0.619935</td>\n",
       "      <td>0.380065</td>\n",
       "    </tr>\n",
       "    <tr>\n",
       "      <th>4</th>\n",
       "      <td>마라145881</td>\n",
       "      <td>0.775450</td>\n",
       "      <td>0.224550</td>\n",
       "    </tr>\n",
       "    <tr>\n",
       "      <th>...</th>\n",
       "      <td>...</td>\n",
       "      <td>...</td>\n",
       "      <td>...</td>\n",
       "    </tr>\n",
       "    <tr>\n",
       "      <th>1558</th>\n",
       "      <td>마마226043</td>\n",
       "      <td>0.562149</td>\n",
       "      <td>0.437851</td>\n",
       "    </tr>\n",
       "    <tr>\n",
       "      <th>1559</th>\n",
       "      <td>마마266018</td>\n",
       "      <td>0.801433</td>\n",
       "      <td>0.198567</td>\n",
       "    </tr>\n",
       "    <tr>\n",
       "      <th>1560</th>\n",
       "      <td>마마295001</td>\n",
       "      <td>0.460167</td>\n",
       "      <td>0.539833</td>\n",
       "    </tr>\n",
       "    <tr>\n",
       "      <th>1561</th>\n",
       "      <td>마마300023</td>\n",
       "      <td>0.096778</td>\n",
       "      <td>0.903222</td>\n",
       "    </tr>\n",
       "    <tr>\n",
       "      <th>1562</th>\n",
       "      <td>마마349001</td>\n",
       "      <td>0.867256</td>\n",
       "      <td>0.132744</td>\n",
       "    </tr>\n",
       "  </tbody>\n",
       "</table>\n",
       "<p>1563 rows × 3 columns</p>\n",
       "</div>"
      ],
      "text/plain": [
       "           gid         0         1\n",
       "0     마라122929  0.249521  0.750479\n",
       "1     마라135954  0.685026  0.314974\n",
       "2     마라141954  0.336042  0.663958\n",
       "3     마라143979  0.619935  0.380065\n",
       "4     마라145881  0.775450  0.224550\n",
       "...        ...       ...       ...\n",
       "1558  마마226043  0.562149  0.437851\n",
       "1559  마마266018  0.801433  0.198567\n",
       "1560  마마295001  0.460167  0.539833\n",
       "1561  마마300023  0.096778  0.903222\n",
       "1562  마마349001  0.867256  0.132744\n",
       "\n",
       "[1563 rows x 3 columns]"
      ]
     },
     "execution_count": 39,
     "metadata": {},
     "output_type": "execute_result"
    }
   ],
   "source": [
    "# 각 후보 gid에 대한 proba 구하기\n",
    "proba_df = pd.DataFrame(pred_proba)\n",
    "final_df_daytime = pd.concat([pd.Series(target_gid),proba_df],axis=1)\n",
    "final_df_daytime"
   ]
  },
  {
   "cell_type": "markdown",
   "id": "9e6fd1ba",
   "metadata": {},
   "source": [
    "## 종합 및 가중치 부여"
   ]
  },
  {
   "cell_type": "code",
   "execution_count": 40,
   "id": "0c2bec8b",
   "metadata": {},
   "outputs": [
    {
     "data": {
      "text/html": [
       "<div>\n",
       "<style scoped>\n",
       "    .dataframe tbody tr th:only-of-type {\n",
       "        vertical-align: middle;\n",
       "    }\n",
       "\n",
       "    .dataframe tbody tr th {\n",
       "        vertical-align: top;\n",
       "    }\n",
       "\n",
       "    .dataframe thead th {\n",
       "        text-align: right;\n",
       "    }\n",
       "</style>\n",
       "<table border=\"1\" class=\"dataframe\">\n",
       "  <thead>\n",
       "    <tr style=\"text-align: right;\">\n",
       "      <th></th>\n",
       "      <th>gid</th>\n",
       "      <th>daytime_score</th>\n",
       "      <th>midnight_score</th>\n",
       "      <th>final_score</th>\n",
       "    </tr>\n",
       "  </thead>\n",
       "  <tbody>\n",
       "    <tr>\n",
       "      <th>0</th>\n",
       "      <td>마라122929</td>\n",
       "      <td>0.750479</td>\n",
       "      <td>0.650787</td>\n",
       "      <td>0.680695</td>\n",
       "    </tr>\n",
       "    <tr>\n",
       "      <th>1</th>\n",
       "      <td>마라135954</td>\n",
       "      <td>0.314974</td>\n",
       "      <td>0.287836</td>\n",
       "      <td>0.295977</td>\n",
       "    </tr>\n",
       "    <tr>\n",
       "      <th>2</th>\n",
       "      <td>마라141954</td>\n",
       "      <td>0.663958</td>\n",
       "      <td>0.711755</td>\n",
       "      <td>0.697416</td>\n",
       "    </tr>\n",
       "    <tr>\n",
       "      <th>3</th>\n",
       "      <td>마라143979</td>\n",
       "      <td>0.380065</td>\n",
       "      <td>0.286014</td>\n",
       "      <td>0.314229</td>\n",
       "    </tr>\n",
       "    <tr>\n",
       "      <th>4</th>\n",
       "      <td>마라145881</td>\n",
       "      <td>0.224550</td>\n",
       "      <td>0.263095</td>\n",
       "      <td>0.251532</td>\n",
       "    </tr>\n",
       "  </tbody>\n",
       "</table>\n",
       "</div>"
      ],
      "text/plain": [
       "        gid  daytime_score  midnight_score  final_score\n",
       "0  마라122929       0.750479        0.650787     0.680695\n",
       "1  마라135954       0.314974        0.287836     0.295977\n",
       "2  마라141954       0.663958        0.711755     0.697416\n",
       "3  마라143979       0.380065        0.286014     0.314229\n",
       "4  마라145881       0.224550        0.263095     0.251532"
      ]
     },
     "execution_count": 40,
     "metadata": {},
     "output_type": "execute_result"
    }
   ],
   "source": [
    "# proba : 심야시간 점수, 주간 점수 추출\n",
    "# 가중치 midnight * 0.7 / daytime * 0.3\n",
    "# 최종 스코어 = (daytime * 0.3) + (midnight * 0.7)\n",
    "final_df_midnight = final_df_midnight.rename(columns={1 : 'midnight_score'})\n",
    "final_df_daytime = final_df_daytime.rename(columns={1 : 'daytime_score'})\n",
    "\n",
    "result = pd.merge(final_df_daytime[['gid', 'daytime_score']], final_df_midnight[['gid', 'midnight_score']])\n",
    "result['final_score'] = (result['midnight_score'] * 0.7) + (result['daytime_score'] * 0.3)\n",
    "result.head()"
   ]
  },
  {
   "cell_type": "code",
   "execution_count": null,
   "id": "99359dc8",
   "metadata": {},
   "outputs": [],
   "source": []
  },
  {
   "cell_type": "markdown",
   "id": "7d9502f3",
   "metadata": {},
   "source": [
    "#### 기설치 cctv 입지확인\n"
   ]
  },
  {
   "cell_type": "code",
   "execution_count": 41,
   "id": "1d94d1ac",
   "metadata": {},
   "outputs": [],
   "source": [
    "def geo_transform(DataFrame) :\n",
    "    # csv to geopandas\n",
    "    # lon, lat data를 geometry로 변경\n",
    "    DataFrame['lat'] = DataFrame['lat'].astype(float)\n",
    "    DataFrame['lon'] = DataFrame['lon'].astype(float)\n",
    "    DataFrame['geometry'] = DataFrame.apply(lambda row : Point([row['lon'], row['lat']]), axis=1)\n",
    "    DataFrame = gpd.GeoDataFrame(DataFrame, geometry='geometry')\n",
    "    DataFrame.crs = {'init':'epsg:4326'}\n",
    "    DataFrame = DataFrame.to_crs({'init':'epsg:4326'}) # 좌표계 epsg : 4326\n",
    "    return DataFrame"
   ]
  },
  {
   "cell_type": "code",
   "execution_count": 42,
   "id": "4c6ce086",
   "metadata": {},
   "outputs": [],
   "source": [
    "cctv_status = pd.read_csv('./data/1.김해시_CCTV설치현황.csv')\n",
    "cctv_status = geo_transform(cctv_status)\n",
    "\n",
    "grid = gpd.read_file('./data/5.김해시_격자(100X100).geojson')"
   ]
  },
  {
   "cell_type": "code",
   "execution_count": 43,
   "id": "ddb43a6a",
   "metadata": {},
   "outputs": [],
   "source": [
    "# 중복 위치 제거(한위치 다중설치)\n",
    "cctv_status['round_lon'] = cctv_status['lon'].apply(lambda x : round(x, 5))\n",
    "cctv_status['round_lat'] = cctv_status['lat'].apply(lambda x : round(x, 5))\n",
    "cctv_status.drop_duplicates(subset=['round_lon', 'round_lat'], inplace=True)\n",
    "cctv_status.reset_index(drop=True, inplace=True)"
   ]
  },
  {
   "cell_type": "code",
   "execution_count": 44,
   "id": "d9dcdfee",
   "metadata": {},
   "outputs": [],
   "source": [
    "# 반경 50M 설정\n",
    "cctv_status['geometry'] = cctv_status.to_crs({'init':'epsg:5179'}).buffer(50).to_crs({'init':'epsg:4326'})\n",
    "\n",
    "cctv_status['year'] = cctv_status['install_ym'].apply(lambda x : 2017 if int(x[1:5]) < 2018 else int(x[1:5]))\n",
    "\n",
    "# cctv 반경에 격자 위치 매핑\n",
    "cctv_overlay = gpd.overlay(cctv_status, grid, how='intersection')\n",
    "# cctv_overlay.head()"
   ]
  },
  {
   "cell_type": "code",
   "execution_count": 45,
   "id": "1dfa20b2",
   "metadata": {},
   "outputs": [
    {
     "name": "stdout",
     "output_type": "stream",
     "text": [
      "413\n"
     ]
    }
   ],
   "source": [
    "# 2021년에 기 설치된 cctv\n",
    "installed_cctv_gid_list = cctv_overlay[cctv_overlay['year']==2021]['gid'].unique()\n",
    "print(len(installed_cctv_gid_list))\n",
    "result.drop(result[result['gid'].isin(installed_cctv_gid_list)].index, inplace=True)"
   ]
  },
  {
   "cell_type": "code",
   "execution_count": 46,
   "id": "7ec7e023",
   "metadata": {},
   "outputs": [],
   "source": [
    "# final score 기준 내림차순 100 선정(기대효과에서 top 50 거름)\n",
    "result = result.sort_values(by='final_score', ascending=False).head(100)\n",
    "result.reset_index(drop=True, inplace=True)"
   ]
  },
  {
   "cell_type": "code",
   "execution_count": 47,
   "id": "07a85d27",
   "metadata": {},
   "outputs": [],
   "source": [
    "result.to_csv(\"./data/final_score.csv\", index=None)"
   ]
  },
  {
   "cell_type": "code",
   "execution_count": 48,
   "id": "f5df3fd8",
   "metadata": {},
   "outputs": [
    {
     "data": {
      "text/html": [
       "<div>\n",
       "<style scoped>\n",
       "    .dataframe tbody tr th:only-of-type {\n",
       "        vertical-align: middle;\n",
       "    }\n",
       "\n",
       "    .dataframe tbody tr th {\n",
       "        vertical-align: top;\n",
       "    }\n",
       "\n",
       "    .dataframe thead th {\n",
       "        text-align: right;\n",
       "    }\n",
       "</style>\n",
       "<table border=\"1\" class=\"dataframe\">\n",
       "  <thead>\n",
       "    <tr style=\"text-align: right;\">\n",
       "      <th></th>\n",
       "      <th>gid</th>\n",
       "      <th>daytime_score</th>\n",
       "      <th>midnight_score</th>\n",
       "      <th>final_score</th>\n",
       "    </tr>\n",
       "  </thead>\n",
       "  <tbody>\n",
       "    <tr>\n",
       "      <th>0</th>\n",
       "      <td>마마118014</td>\n",
       "      <td>0.977725</td>\n",
       "      <td>0.982696</td>\n",
       "      <td>0.981205</td>\n",
       "    </tr>\n",
       "    <tr>\n",
       "      <th>1</th>\n",
       "      <td>마라254937</td>\n",
       "      <td>0.981995</td>\n",
       "      <td>0.977600</td>\n",
       "      <td>0.978919</td>\n",
       "    </tr>\n",
       "    <tr>\n",
       "      <th>2</th>\n",
       "      <td>마라232927</td>\n",
       "      <td>0.966124</td>\n",
       "      <td>0.975427</td>\n",
       "      <td>0.972636</td>\n",
       "    </tr>\n",
       "    <tr>\n",
       "      <th>3</th>\n",
       "      <td>마라257943</td>\n",
       "      <td>0.969133</td>\n",
       "      <td>0.972981</td>\n",
       "      <td>0.971827</td>\n",
       "    </tr>\n",
       "    <tr>\n",
       "      <th>4</th>\n",
       "      <td>마라235940</td>\n",
       "      <td>0.974831</td>\n",
       "      <td>0.970411</td>\n",
       "      <td>0.971737</td>\n",
       "    </tr>\n",
       "    <tr>\n",
       "      <th>...</th>\n",
       "      <td>...</td>\n",
       "      <td>...</td>\n",
       "      <td>...</td>\n",
       "      <td>...</td>\n",
       "    </tr>\n",
       "    <tr>\n",
       "      <th>95</th>\n",
       "      <td>마라254932</td>\n",
       "      <td>0.896257</td>\n",
       "      <td>0.898342</td>\n",
       "      <td>0.897716</td>\n",
       "    </tr>\n",
       "    <tr>\n",
       "      <th>96</th>\n",
       "      <td>마라272938</td>\n",
       "      <td>0.899588</td>\n",
       "      <td>0.894947</td>\n",
       "      <td>0.896339</td>\n",
       "    </tr>\n",
       "    <tr>\n",
       "      <th>97</th>\n",
       "      <td>마라273946</td>\n",
       "      <td>0.910378</td>\n",
       "      <td>0.889000</td>\n",
       "      <td>0.895414</td>\n",
       "    </tr>\n",
       "    <tr>\n",
       "      <th>98</th>\n",
       "      <td>마라255938</td>\n",
       "      <td>0.873381</td>\n",
       "      <td>0.904706</td>\n",
       "      <td>0.895309</td>\n",
       "    </tr>\n",
       "    <tr>\n",
       "      <th>99</th>\n",
       "      <td>마라275938</td>\n",
       "      <td>0.898096</td>\n",
       "      <td>0.893490</td>\n",
       "      <td>0.894872</td>\n",
       "    </tr>\n",
       "  </tbody>\n",
       "</table>\n",
       "<p>100 rows × 4 columns</p>\n",
       "</div>"
      ],
      "text/plain": [
       "         gid  daytime_score  midnight_score  final_score\n",
       "0   마마118014       0.977725        0.982696     0.981205\n",
       "1   마라254937       0.981995        0.977600     0.978919\n",
       "2   마라232927       0.966124        0.975427     0.972636\n",
       "3   마라257943       0.969133        0.972981     0.971827\n",
       "4   마라235940       0.974831        0.970411     0.971737\n",
       "..       ...            ...             ...          ...\n",
       "95  마라254932       0.896257        0.898342     0.897716\n",
       "96  마라272938       0.899588        0.894947     0.896339\n",
       "97  마라273946       0.910378        0.889000     0.895414\n",
       "98  마라255938       0.873381        0.904706     0.895309\n",
       "99  마라275938       0.898096        0.893490     0.894872\n",
       "\n",
       "[100 rows x 4 columns]"
      ]
     },
     "execution_count": 48,
     "metadata": {},
     "output_type": "execute_result"
    }
   ],
   "source": [
    "result"
   ]
  },
  {
   "cell_type": "code",
   "execution_count": null,
   "id": "dad41db5",
   "metadata": {},
   "outputs": [],
   "source": []
  }
 ],
 "metadata": {
  "kernelspec": {
   "display_name": "yeseul",
   "language": "python",
   "name": "yeseul"
  },
  "language_info": {
   "codemirror_mode": {
    "name": "ipython",
    "version": 3
   },
   "file_extension": ".py",
   "mimetype": "text/x-python",
   "name": "python",
   "nbconvert_exporter": "python",
   "pygments_lexer": "ipython3",
   "version": "3.7.10"
  },
  "toc": {
   "base_numbering": 1,
   "nav_menu": {},
   "number_sections": false,
   "sideBar": true,
   "skip_h1_title": false,
   "title_cell": "Table of Contents",
   "title_sidebar": "Contents",
   "toc_cell": false,
   "toc_position": {},
   "toc_section_display": true,
   "toc_window_display": true
  }
 },
 "nbformat": 4,
 "nbformat_minor": 5
}
