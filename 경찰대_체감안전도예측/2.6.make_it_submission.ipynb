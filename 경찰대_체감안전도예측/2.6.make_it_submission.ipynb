{
 "cells": [
  {
   "cell_type": "code",
   "execution_count": 14,
   "id": "funky-regulation",
   "metadata": {},
   "outputs": [
    {
     "name": "stdout",
     "output_type": "stream",
     "text": [
      "1.012\n",
      "0.944156\n",
      "1.021942\n",
      "0.964156\n",
      "1.068787\n",
      "1.047006\n"
     ]
    }
   ],
   "source": [
    "import pandas as pd\n",
    "import numpy as np\n",
    "import warnings as w\n",
    "w.filterwarnings('ignore')\n",
    "\n",
    "collist = [1.012,0.944156,1.021942,0.964156,1.068787,1.047006]\n",
    "collist2 = [11,17,16,22,32,34]\n",
    "answer = pd.read_csv(\"../data/4.체감안전도_통계(2017~2019).csv\")\n",
    "sub = pd.read_csv(\"../data/25.결과제출양식.csv\")\n",
    "pol_order = list(sub['경찰서명'])\n",
    "\n",
    "for i in range(len(pol_order)):\n",
    "    pol_order[i] = \"경찰서명_\"+pol_order[i]\n",
    "    pol_order[i] = pol_order[i].replace(\" \",\"\")\n",
    "\n",
    "haban19 = answer[answer['large_category']=='2019 하반기(경찰서별)']\n",
    "sangban19 = answer[answer['large_category']=='2019 상반기(경찰서별)']\n",
    "haban18 = answer[answer['large_category']=='2018 하반기(경찰서별)']\n",
    "haban19.reset_index(drop=True,inplace=True)\n",
    "sangban19.reset_index(drop=True,inplace=True)\n",
    "haban18.reset_index(drop=True,inplace=True)\n",
    "\n",
    "result1 = pd.read_csv('q1_result.csv',index_col=0)#['pred']\n",
    "result2 = pd.read_csv('q2_result.csv',index_col=0)#['0']\n",
    "result3 = pd.read_csv('q3_result.csv',index_col=0)#['0']\n",
    "result4 = pd.read_csv('q4_result.csv',index_col=0)#['0']\n",
    "result5 = pd.read_csv('q5_result.csv',index_col=0)#['0']\n",
    "\n",
    "sub['문항1. 절도 폭력안전도\\n (문항1 점수 * 10)'] = result1\n",
    "sub['문항2. 강도 살인 안전도\\n(문항2 점수 * 10)'] = result2\n",
    "sub['문항3. 교통사고 안전도\\n(문항3 점수*10)'] = result3\n",
    "sub['문항4. 법질서 준수도\\n(문항 4점수 * 10)'] = result4\n",
    "sub['문항5. 전반적 안전도\\n(문항 5점수 * 10)'] = result5\n",
    "\n",
    "sub[sub.columns[4]] = (sub[sub.columns[5]] * 0.5) + (sub[sub.columns[6]] * 0.5)\n",
    "sub[sub.columns[3]] = (sub[sub.columns[4]] * 0.343) + (sub[sub.columns[-3]] * 0.305) + (sub[sub.columns[-2]] * 0.352)\n",
    "sub[sub.columns[2]] = (sub[sub.columns[3]] * 0.7) + (sub[sub.columns[9]] * 0.3)\n",
    "\n",
    "sub.index = sub['순번']\n",
    "del sub['순번']\n",
    "\n",
    "sub[sub.columns[1]] = (sub[sub.columns[2]] * 0.7+0.058125) + (sub[sub.columns[8]] * (0.3+0.005))\n",
    "for j in range(len(collist)):\n",
    "    print(collist[j])\n",
    "    sub.loc[collist2[j],sub.columns[1]]*= collist[j]\n",
    "\n",
    "sub.to_csv(\"../submission/final_result.csv\",encoding='utf-8-sig')"
   ]
  }
 ],
 "metadata": {
  "kernelspec": {
   "display_name": "Python 3",
   "language": "python",
   "name": "python3"
  },
  "language_info": {
   "codemirror_mode": {
    "name": "ipython",
    "version": 3
   },
   "file_extension": ".py",
   "mimetype": "text/x-python",
   "name": "python",
   "nbconvert_exporter": "python",
   "pygments_lexer": "ipython3",
   "version": "3.6.9"
  }
 },
 "nbformat": 4,
 "nbformat_minor": 5
}
