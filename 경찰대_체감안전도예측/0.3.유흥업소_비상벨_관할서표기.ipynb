{
 "cells": [
  {
   "cell_type": "markdown",
   "id": "leading-authorization",
   "metadata": {},
   "source": [
    "## Library Import"
   ]
  },
  {
   "cell_type": "code",
   "execution_count": 8,
   "id": "buried-russian",
   "metadata": {},
   "outputs": [],
   "source": [
    "import pandas as pd\n",
    "import geopandas as gpd\n",
    "from shapely.geometry import Point, Polygon, LineString\n",
    "import matplotlib.pyplot as plt\n",
    "import matplotlib\n",
    "import matplotlib.font_manager as fm"
   ]
  },
  {
   "cell_type": "markdown",
   "id": "internal-shield",
   "metadata": {},
   "source": [
    "## Data Load"
   ]
  },
  {
   "cell_type": "code",
   "execution_count": 9,
   "id": "typical-necessity",
   "metadata": {},
   "outputs": [
    {
     "data": {
      "text/html": [
       "<div>\n",
       "<style scoped>\n",
       "    .dataframe tbody tr th:only-of-type {\n",
       "        vertical-align: middle;\n",
       "    }\n",
       "\n",
       "    .dataframe tbody tr th {\n",
       "        vertical-align: top;\n",
       "    }\n",
       "\n",
       "    .dataframe thead th {\n",
       "        text-align: right;\n",
       "    }\n",
       "</style>\n",
       "<table border=\"1\" class=\"dataframe\">\n",
       "  <thead>\n",
       "    <tr style=\"text-align: right;\">\n",
       "      <th></th>\n",
       "      <th>NAME</th>\n",
       "      <th>PNAME</th>\n",
       "      <th>geometry</th>\n",
       "    </tr>\n",
       "  </thead>\n",
       "  <tbody>\n",
       "    <tr>\n",
       "      <th>0</th>\n",
       "      <td>세종경찰서</td>\n",
       "      <td>충남청</td>\n",
       "      <td>MULTIPOLYGON (((127.17202 36.73106, 127.17202 ...</td>\n",
       "    </tr>\n",
       "    <tr>\n",
       "      <th>1</th>\n",
       "      <td>진주경찰서</td>\n",
       "      <td>경남청</td>\n",
       "      <td>MULTIPOLYGON (((128.26697 35.12927, 128.26697 ...</td>\n",
       "    </tr>\n",
       "    <tr>\n",
       "      <th>2</th>\n",
       "      <td>창원서부경찰서</td>\n",
       "      <td>경남청</td>\n",
       "      <td>MULTIPOLYGON (((128.63363 35.22152, 128.63357 ...</td>\n",
       "    </tr>\n",
       "  </tbody>\n",
       "</table>\n",
       "</div>"
      ],
      "text/plain": [
       "      NAME PNAME                                           geometry\n",
       "0    세종경찰서   충남청  MULTIPOLYGON (((127.17202 36.73106, 127.17202 ...\n",
       "1    진주경찰서   경남청  MULTIPOLYGON (((128.26697 35.12927, 128.26697 ...\n",
       "2  창원서부경찰서   경남청  MULTIPOLYGON (((128.63363 35.22152, 128.63357 ..."
      ]
     },
     "execution_count": 9,
     "metadata": {},
     "output_type": "execute_result"
    }
   ],
   "source": [
    "police_border = gpd.read_file('./data/1.5개시도_경찰서_관할경계.geojson')\n",
    "police_border.head(3)"
   ]
  },
  {
   "cell_type": "code",
   "execution_count": 10,
   "id": "opened-search",
   "metadata": {},
   "outputs": [
    {
     "data": {
      "text/html": [
       "<div>\n",
       "<style scoped>\n",
       "    .dataframe tbody tr th:only-of-type {\n",
       "        vertical-align: middle;\n",
       "    }\n",
       "\n",
       "    .dataframe tbody tr th {\n",
       "        vertical-align: top;\n",
       "    }\n",
       "\n",
       "    .dataframe thead th {\n",
       "        text-align: right;\n",
       "    }\n",
       "</style>\n",
       "<table border=\"1\" class=\"dataframe\">\n",
       "  <thead>\n",
       "    <tr style=\"text-align: right;\">\n",
       "      <th></th>\n",
       "      <th>bell_us</th>\n",
       "      <th>bell_set_fac</th>\n",
       "      <th>bell_loc</th>\n",
       "      <th>bell_set_yr</th>\n",
       "      <th>geometry</th>\n",
       "    </tr>\n",
       "  </thead>\n",
       "  <tbody>\n",
       "    <tr>\n",
       "      <th>0</th>\n",
       "      <td>기타</td>\n",
       "      <td>화장실</td>\n",
       "      <td>오가낭뜰 근린공원(간이)</td>\n",
       "      <td>2017</td>\n",
       "      <td>MULTIPOINT (127.24880 36.51230)</td>\n",
       "    </tr>\n",
       "    <tr>\n",
       "      <th>1</th>\n",
       "      <td>기타</td>\n",
       "      <td>화장실</td>\n",
       "      <td>어진동음악분수</td>\n",
       "      <td>2017</td>\n",
       "      <td>MULTIPOINT (127.25660 36.50190)</td>\n",
       "    </tr>\n",
       "    <tr>\n",
       "      <th>2</th>\n",
       "      <td>기타</td>\n",
       "      <td>화장실</td>\n",
       "      <td>제천(간이)</td>\n",
       "      <td>2017</td>\n",
       "      <td>MULTIPOINT (127.25660 36.50190)</td>\n",
       "    </tr>\n",
       "  </tbody>\n",
       "</table>\n",
       "</div>"
      ],
      "text/plain": [
       "  bell_us bell_set_fac       bell_loc  bell_set_yr  \\\n",
       "0      기타          화장실  오가낭뜰 근린공원(간이)         2017   \n",
       "1      기타          화장실        어진동음악분수         2017   \n",
       "2      기타          화장실         제천(간이)         2017   \n",
       "\n",
       "                          geometry  \n",
       "0  MULTIPOINT (127.24880 36.51230)  \n",
       "1  MULTIPOINT (127.25660 36.50190)  \n",
       "2  MULTIPOINT (127.25660 36.50190)  "
      ]
     },
     "execution_count": 10,
     "metadata": {},
     "output_type": "execute_result"
    }
   ],
   "source": [
    "emergency_bell = gpd.read_file('./data/22.5개시도_비상벨현황.geojson')\n",
    "emergency_bell.head(3)"
   ]
  },
  {
   "cell_type": "code",
   "execution_count": 11,
   "id": "shaped-frame",
   "metadata": {},
   "outputs": [
    {
     "data": {
      "text/html": [
       "<div>\n",
       "<style scoped>\n",
       "    .dataframe tbody tr th:only-of-type {\n",
       "        vertical-align: middle;\n",
       "    }\n",
       "\n",
       "    .dataframe tbody tr th {\n",
       "        vertical-align: top;\n",
       "    }\n",
       "\n",
       "    .dataframe thead th {\n",
       "        text-align: right;\n",
       "    }\n",
       "</style>\n",
       "<table border=\"1\" class=\"dataframe\">\n",
       "  <thead>\n",
       "    <tr style=\"text-align: right;\">\n",
       "      <th></th>\n",
       "      <th>license_date</th>\n",
       "      <th>open_gbn</th>\n",
       "      <th>type</th>\n",
       "      <th>surroundings</th>\n",
       "      <th>lon</th>\n",
       "      <th>lat</th>\n",
       "    </tr>\n",
       "  </thead>\n",
       "  <tbody>\n",
       "    <tr>\n",
       "      <th>0</th>\n",
       "      <td>19951012</td>\n",
       "      <td>영업/정상</td>\n",
       "      <td>단란주점</td>\n",
       "      <td>NaN</td>\n",
       "      <td>127.300127</td>\n",
       "      <td>36.601953</td>\n",
       "    </tr>\n",
       "    <tr>\n",
       "      <th>1</th>\n",
       "      <td>20181127</td>\n",
       "      <td>영업/정상</td>\n",
       "      <td>단란주점</td>\n",
       "      <td>NaN</td>\n",
       "      <td>127.301023</td>\n",
       "      <td>36.601199</td>\n",
       "    </tr>\n",
       "    <tr>\n",
       "      <th>2</th>\n",
       "      <td>20021121</td>\n",
       "      <td>영업/정상</td>\n",
       "      <td>단란주점</td>\n",
       "      <td>유흥업소밀집지역</td>\n",
       "      <td>127.300940</td>\n",
       "      <td>36.601856</td>\n",
       "    </tr>\n",
       "  </tbody>\n",
       "</table>\n",
       "</div>"
      ],
      "text/plain": [
       "   license_date open_gbn  type surroundings         lon        lat\n",
       "0      19951012    영업/정상  단란주점          NaN  127.300127  36.601953\n",
       "1      20181127    영업/정상  단란주점          NaN  127.301023  36.601199\n",
       "2      20021121    영업/정상  단란주점     유흥업소밀집지역  127.300940  36.601856"
      ]
     },
     "execution_count": 11,
     "metadata": {},
     "output_type": "execute_result"
    }
   ],
   "source": [
    "pub_con = pd.read_csv('./data/21.5개시도_유흥업소_단란주점현황.csv')\n",
    "pub_con.head(3)"
   ]
  },
  {
   "cell_type": "markdown",
   "id": "legitimate-retrieval",
   "metadata": {},
   "source": [
    "# --------------------------------------------------"
   ]
  },
  {
   "cell_type": "markdown",
   "id": "environmental-running",
   "metadata": {},
   "source": [
    "## ※ 목표 : Q1 ~ Q5 예측 시 X값으로 유흥업소와 비상벨 개수를 활용 (0.2 과정과 동일)\n",
    "- 각 lon, lat 데이터에 해당하는 관할서를 매칭시킨 결과를 새 컬럼에 표기"
   ]
  },
  {
   "cell_type": "code",
   "execution_count": 12,
   "id": "residential-fisher",
   "metadata": {},
   "outputs": [],
   "source": [
    "from tqdm import tqdm\n",
    "tqdm.pandas()"
   ]
  },
  {
   "cell_type": "markdown",
   "id": "veterinary-korea",
   "metadata": {},
   "source": [
    "### 1. 비상벨 현황(emergency_bell)"
   ]
  },
  {
   "cell_type": "code",
   "execution_count": 9,
   "id": "naval-cargo",
   "metadata": {
    "scrolled": true
   },
   "outputs": [
    {
     "name": "stdout",
     "output_type": "stream",
     "text": [
      "<class 'geopandas.geodataframe.GeoDataFrame'>\n",
      "RangeIndex: 18334 entries, 0 to 18333\n",
      "Data columns (total 6 columns):\n",
      " #   Column        Non-Null Count  Dtype   \n",
      "---  ------        --------------  -----   \n",
      " 0   bell_us       18334 non-null  object  \n",
      " 1   bell_set_fac  18334 non-null  object  \n",
      " 2   bell_loc      18333 non-null  object  \n",
      " 3   bell_set_yr   18334 non-null  int64   \n",
      " 4   geometry      18334 non-null  geometry\n",
      " 5   jur_stn       18334 non-null  object  \n",
      "dtypes: geometry(1), int64(1), object(4)\n",
      "memory usage: 859.5+ KB\n"
     ]
    }
   ],
   "source": [
    "emergency_bell.info()"
   ]
  },
  {
   "cell_type": "code",
   "execution_count": 13,
   "id": "shaped-chicago",
   "metadata": {},
   "outputs": [],
   "source": [
    "def detect_police_name(geometry) :\n",
    "    for i in range(len(police_border['NAME'].unique())) :    # 보안등 위치의 geometry 와 관할서의 geometry를 비교하여\n",
    "        if geometry.within(police_border.iloc[i].geometry) :             #  매칭된 관할서명을 return하는 함수\n",
    "            return police_border.iloc[i].NAME            "
   ]
  },
  {
   "cell_type": "code",
   "execution_count": 7,
   "id": "ideal-development",
   "metadata": {
    "scrolled": true
   },
   "outputs": [
    {
     "name": "stderr",
     "output_type": "stream",
     "text": [
      "100%|██████████| 18334/18334 [16:26<00:00, 18.59it/s]\n"
     ]
    }
   ],
   "source": [
    "emergency_bell['jur_stn'] = '' # 함수 적용\n",
    "emergency_bell['jur_stn'] = emergency_bell.progress_apply(lambda x : detect_police_name(x['geometry']) , axis=1 )"
   ]
  },
  {
   "cell_type": "code",
   "execution_count": 16,
   "id": "direct-actress",
   "metadata": {
    "scrolled": true
   },
   "outputs": [
    {
     "data": {
      "text/plain": [
       "서울중랑경찰서     1780\n",
       "서울광진경찰서     1519\n",
       "서울동작경찰서     1107\n",
       "서울영등포경찰서    1102\n",
       "서울용산경찰서     1024\n",
       "Name: jur_stn, dtype: int64"
      ]
     },
     "execution_count": 16,
     "metadata": {},
     "output_type": "execute_result"
    }
   ],
   "source": [
    "emergency_bell.head()"
   ]
  },
  {
   "cell_type": "code",
   "execution_count": 17,
   "id": "hybrid-pocket",
   "metadata": {},
   "outputs": [],
   "source": [
    "# 추후 활용을 위해 csv file로 저장\n",
    "emergency_bell.to_csv('emergency_bell.csv')"
   ]
  },
  {
   "cell_type": "markdown",
   "id": "controlling-retail",
   "metadata": {},
   "source": [
    "### 2. 유흥업소현황(pub_con)"
   ]
  },
  {
   "cell_type": "code",
   "execution_count": 14,
   "id": "voluntary-emission",
   "metadata": {},
   "outputs": [
    {
     "name": "stdout",
     "output_type": "stream",
     "text": [
      "<class 'pandas.core.frame.DataFrame'>\n",
      "RangeIndex: 7119 entries, 0 to 7118\n",
      "Data columns (total 6 columns):\n",
      " #   Column        Non-Null Count  Dtype  \n",
      "---  ------        --------------  -----  \n",
      " 0   license_date  7119 non-null   int64  \n",
      " 1   open_gbn      7119 non-null   object \n",
      " 2   type          7118 non-null   object \n",
      " 3   surroundings  3525 non-null   object \n",
      " 4   lon           7119 non-null   float64\n",
      " 5   lat           7119 non-null   float64\n",
      "dtypes: float64(2), int64(1), object(3)\n",
      "memory usage: 333.8+ KB\n"
     ]
    }
   ],
   "source": [
    "pub_con.info()"
   ]
  },
  {
   "cell_type": "code",
   "execution_count": 15,
   "id": "arctic-eligibility",
   "metadata": {},
   "outputs": [
    {
     "name": "stderr",
     "output_type": "stream",
     "text": [
      "/opt/app-root/lib/python3.6/site-packages/pyproj/crs/crs.py:53: FutureWarning: '+init=<authority>:<code>' syntax is deprecated. '<authority>:<code>' is the preferred initialization method. When making the change, be mindful of axis order changes: https://pyproj4.github.io/pyproj/stable/gotchas.html#axis-order-changes-in-proj-6\n",
      "  return _prepare_from_string(\" \".join(pjargs))\n"
     ]
    }
   ],
   "source": [
    "# csv to geopandas\n",
    "# lon, lat data를 geometry로 변경\n",
    "pub_con['lat'] = pub_con['lat'].astype(float)\n",
    "pub_con['lon'] = pub_con['lon'].astype(float)\n",
    "pub_con['geometry'] = pub_con.apply(lambda row : Point([row['lon'], row['lat']]), axis=1)\n",
    "pub_con = gpd.GeoDataFrame(pub_con, geometry='geometry')\n",
    "pub_con.crs = {'init':'epsg:4326'}\n",
    "pub_con = pub_con.to_crs({'init':'epsg:4326'}) # 좌표계 epsg : 4326"
   ]
  },
  {
   "cell_type": "code",
   "execution_count": 16,
   "id": "international-transmission",
   "metadata": {},
   "outputs": [
    {
     "name": "stderr",
     "output_type": "stream",
     "text": [
      "100%|██████████| 7119/7119 [01:50<00:00, 64.32it/s] \n"
     ]
    }
   ],
   "source": [
    "pub_con['jur_stn'] = '' # 함수 적용\n",
    "pub_con['jur_stn'] = pub_con.progress_apply(lambda x : detect_police_name(x['geometry']) , axis=1 )"
   ]
  },
  {
   "cell_type": "code",
   "execution_count": 24,
   "id": "constitutional-seating",
   "metadata": {
    "scrolled": true
   },
   "outputs": [
    {
     "data": {
      "text/html": [
       "<div>\n",
       "<style scoped>\n",
       "    .dataframe tbody tr th:only-of-type {\n",
       "        vertical-align: middle;\n",
       "    }\n",
       "\n",
       "    .dataframe tbody tr th {\n",
       "        vertical-align: top;\n",
       "    }\n",
       "\n",
       "    .dataframe thead th {\n",
       "        text-align: right;\n",
       "    }\n",
       "</style>\n",
       "<table border=\"1\" class=\"dataframe\">\n",
       "  <thead>\n",
       "    <tr style=\"text-align: right;\">\n",
       "      <th></th>\n",
       "      <th>license_date</th>\n",
       "      <th>open_gbn</th>\n",
       "      <th>type</th>\n",
       "      <th>surroundings</th>\n",
       "      <th>lon</th>\n",
       "      <th>lat</th>\n",
       "      <th>geometry</th>\n",
       "      <th>jur_stn</th>\n",
       "      <th>year</th>\n",
       "      <th>month</th>\n",
       "      <th>date</th>\n",
       "    </tr>\n",
       "  </thead>\n",
       "  <tbody>\n",
       "    <tr>\n",
       "      <th>0</th>\n",
       "      <td>19951012</td>\n",
       "      <td>영업/정상</td>\n",
       "      <td>단란주점</td>\n",
       "      <td>NaN</td>\n",
       "      <td>127.300127</td>\n",
       "      <td>36.601953</td>\n",
       "      <td>POINT (127.30013 36.60195)</td>\n",
       "      <td>세종경찰서</td>\n",
       "      <td>1995</td>\n",
       "      <td>10</td>\n",
       "      <td>1995(하반기)</td>\n",
       "    </tr>\n",
       "    <tr>\n",
       "      <th>1</th>\n",
       "      <td>20181127</td>\n",
       "      <td>영업/정상</td>\n",
       "      <td>단란주점</td>\n",
       "      <td>NaN</td>\n",
       "      <td>127.301023</td>\n",
       "      <td>36.601199</td>\n",
       "      <td>POINT (127.30102 36.60120)</td>\n",
       "      <td>세종경찰서</td>\n",
       "      <td>2018</td>\n",
       "      <td>11</td>\n",
       "      <td>2018(하반기)</td>\n",
       "    </tr>\n",
       "    <tr>\n",
       "      <th>2</th>\n",
       "      <td>20021121</td>\n",
       "      <td>영업/정상</td>\n",
       "      <td>단란주점</td>\n",
       "      <td>유흥업소밀집지역</td>\n",
       "      <td>127.300940</td>\n",
       "      <td>36.601856</td>\n",
       "      <td>POINT (127.30094 36.60186)</td>\n",
       "      <td>세종경찰서</td>\n",
       "      <td>2002</td>\n",
       "      <td>11</td>\n",
       "      <td>2002(하반기)</td>\n",
       "    </tr>\n",
       "    <tr>\n",
       "      <th>3</th>\n",
       "      <td>20020409</td>\n",
       "      <td>영업/정상</td>\n",
       "      <td>단란주점</td>\n",
       "      <td>유흥업소밀집지역</td>\n",
       "      <td>127.299671</td>\n",
       "      <td>36.602782</td>\n",
       "      <td>POINT (127.29967 36.60278)</td>\n",
       "      <td>세종경찰서</td>\n",
       "      <td>2002</td>\n",
       "      <td>4</td>\n",
       "      <td>2002(상반기)</td>\n",
       "    </tr>\n",
       "    <tr>\n",
       "      <th>4</th>\n",
       "      <td>19990804</td>\n",
       "      <td>영업/정상</td>\n",
       "      <td>단란주점</td>\n",
       "      <td>학교정화(상대)</td>\n",
       "      <td>127.205025</td>\n",
       "      <td>36.678746</td>\n",
       "      <td>POINT (127.20503 36.67875)</td>\n",
       "      <td>세종경찰서</td>\n",
       "      <td>1999</td>\n",
       "      <td>8</td>\n",
       "      <td>1999(하반기)</td>\n",
       "    </tr>\n",
       "  </tbody>\n",
       "</table>\n",
       "</div>"
      ],
      "text/plain": [
       "   license_date open_gbn  type surroundings         lon        lat  \\\n",
       "0      19951012    영업/정상  단란주점          NaN  127.300127  36.601953   \n",
       "1      20181127    영업/정상  단란주점          NaN  127.301023  36.601199   \n",
       "2      20021121    영업/정상  단란주점     유흥업소밀집지역  127.300940  36.601856   \n",
       "3      20020409    영업/정상  단란주점     유흥업소밀집지역  127.299671  36.602782   \n",
       "4      19990804    영업/정상  단란주점     학교정화(상대)  127.205025  36.678746   \n",
       "\n",
       "                     geometry jur_stn  year  month       date  \n",
       "0  POINT (127.30013 36.60195)   세종경찰서  1995     10  1995(하반기)  \n",
       "1  POINT (127.30102 36.60120)   세종경찰서  2018     11  2018(하반기)  \n",
       "2  POINT (127.30094 36.60186)   세종경찰서  2002     11  2002(하반기)  \n",
       "3  POINT (127.29967 36.60278)   세종경찰서  2002      4  2002(상반기)  \n",
       "4  POINT (127.20503 36.67875)   세종경찰서  1999      8  1999(하반기)  "
      ]
     },
     "execution_count": 24,
     "metadata": {},
     "output_type": "execute_result"
    }
   ],
   "source": [
    "pub_con.head()"
   ]
  },
  {
   "cell_type": "code",
   "execution_count": 25,
   "id": "overall-ecuador",
   "metadata": {},
   "outputs": [],
   "source": [
    "# 2020년 이후 허가받은 업소 제외\n",
    "pub_con= pub_con[pub_con['year']<2021]"
   ]
  },
  {
   "cell_type": "code",
   "execution_count": 26,
   "id": "close-peace",
   "metadata": {},
   "outputs": [
    {
     "data": {
      "text/html": [
       "<div>\n",
       "<style scoped>\n",
       "    .dataframe tbody tr th:only-of-type {\n",
       "        vertical-align: middle;\n",
       "    }\n",
       "\n",
       "    .dataframe tbody tr th {\n",
       "        vertical-align: top;\n",
       "    }\n",
       "\n",
       "    .dataframe thead th {\n",
       "        text-align: right;\n",
       "    }\n",
       "</style>\n",
       "<table border=\"1\" class=\"dataframe\">\n",
       "  <thead>\n",
       "    <tr style=\"text-align: right;\">\n",
       "      <th></th>\n",
       "      <th>license_date</th>\n",
       "      <th>open_gbn</th>\n",
       "      <th>type</th>\n",
       "      <th>surroundings</th>\n",
       "      <th>lon</th>\n",
       "      <th>lat</th>\n",
       "      <th>geometry</th>\n",
       "      <th>jur_stn</th>\n",
       "      <th>year</th>\n",
       "      <th>month</th>\n",
       "      <th>date</th>\n",
       "      <th>set_year</th>\n",
       "    </tr>\n",
       "  </thead>\n",
       "  <tbody>\n",
       "    <tr>\n",
       "      <th>0</th>\n",
       "      <td>19951012</td>\n",
       "      <td>영업/정상</td>\n",
       "      <td>단란주점</td>\n",
       "      <td>NaN</td>\n",
       "      <td>127.300127</td>\n",
       "      <td>36.601953</td>\n",
       "      <td>POINT (127.30013 36.60195)</td>\n",
       "      <td>세종경찰서</td>\n",
       "      <td>1995</td>\n",
       "      <td>10</td>\n",
       "      <td>1995(하반기)</td>\n",
       "      <td>2017</td>\n",
       "    </tr>\n",
       "    <tr>\n",
       "      <th>1</th>\n",
       "      <td>20181127</td>\n",
       "      <td>영업/정상</td>\n",
       "      <td>단란주점</td>\n",
       "      <td>NaN</td>\n",
       "      <td>127.301023</td>\n",
       "      <td>36.601199</td>\n",
       "      <td>POINT (127.30102 36.60120)</td>\n",
       "      <td>세종경찰서</td>\n",
       "      <td>2018</td>\n",
       "      <td>11</td>\n",
       "      <td>2018(하반기)</td>\n",
       "      <td>2018</td>\n",
       "    </tr>\n",
       "    <tr>\n",
       "      <th>2</th>\n",
       "      <td>20021121</td>\n",
       "      <td>영업/정상</td>\n",
       "      <td>단란주점</td>\n",
       "      <td>유흥업소밀집지역</td>\n",
       "      <td>127.300940</td>\n",
       "      <td>36.601856</td>\n",
       "      <td>POINT (127.30094 36.60186)</td>\n",
       "      <td>세종경찰서</td>\n",
       "      <td>2002</td>\n",
       "      <td>11</td>\n",
       "      <td>2002(하반기)</td>\n",
       "      <td>2017</td>\n",
       "    </tr>\n",
       "  </tbody>\n",
       "</table>\n",
       "</div>"
      ],
      "text/plain": [
       "   license_date open_gbn  type surroundings         lon        lat  \\\n",
       "0      19951012    영업/정상  단란주점          NaN  127.300127  36.601953   \n",
       "1      20181127    영업/정상  단란주점          NaN  127.301023  36.601199   \n",
       "2      20021121    영업/정상  단란주점     유흥업소밀집지역  127.300940  36.601856   \n",
       "\n",
       "                     geometry jur_stn  year  month       date  set_year  \n",
       "0  POINT (127.30013 36.60195)   세종경찰서  1995     10  1995(하반기)      2017  \n",
       "1  POINT (127.30102 36.60120)   세종경찰서  2018     11  2018(하반기)      2018  \n",
       "2  POINT (127.30094 36.60186)   세종경찰서  2002     11  2002(하반기)      2017  "
      ]
     },
     "execution_count": 26,
     "metadata": {},
     "output_type": "execute_result"
    }
   ],
   "source": [
    "# 17년 이전 허가받은 업소는 다 17년도로 지정(누적 count하기 위함)\n",
    "pub_con['set_year'] = pub_con['year'].apply(lambda x : 2017 if x<2017 else x)\n",
    "pub_con.head(3)"
   ]
  },
  {
   "cell_type": "code",
   "execution_count": 38,
   "id": "guilty-hampshire",
   "metadata": {
    "scrolled": false
   },
   "outputs": [],
   "source": [
    "# license data에서 인덱싱하여 year, month 생성\n",
    "pub_con['year'] = pub_con['license_date'].apply(lambda x :int(str(x)[:4]))\n",
    "pub_con['month'] = pub_con['license_date'].apply(lambda x :int(str(x)[4:6]))"
   ]
  },
  {
   "cell_type": "code",
   "execution_count": 40,
   "id": "exclusive-immigration",
   "metadata": {},
   "outputs": [
    {
     "data": {
      "text/html": [
       "<div>\n",
       "<style scoped>\n",
       "    .dataframe tbody tr th:only-of-type {\n",
       "        vertical-align: middle;\n",
       "    }\n",
       "\n",
       "    .dataframe tbody tr th {\n",
       "        vertical-align: top;\n",
       "    }\n",
       "\n",
       "    .dataframe thead th {\n",
       "        text-align: right;\n",
       "    }\n",
       "</style>\n",
       "<table border=\"1\" class=\"dataframe\">\n",
       "  <thead>\n",
       "    <tr style=\"text-align: right;\">\n",
       "      <th></th>\n",
       "      <th>jur_stn</th>\n",
       "      <th>set_year</th>\n",
       "      <th>type</th>\n",
       "    </tr>\n",
       "  </thead>\n",
       "  <tbody>\n",
       "    <tr>\n",
       "      <th>0</th>\n",
       "      <td>마산동부경찰서</td>\n",
       "      <td>2017</td>\n",
       "      <td>329</td>\n",
       "    </tr>\n",
       "    <tr>\n",
       "      <th>1</th>\n",
       "      <td>마산동부경찰서</td>\n",
       "      <td>2018</td>\n",
       "      <td>1</td>\n",
       "    </tr>\n",
       "    <tr>\n",
       "      <th>2</th>\n",
       "      <td>마산동부경찰서</td>\n",
       "      <td>2019</td>\n",
       "      <td>2</td>\n",
       "    </tr>\n",
       "  </tbody>\n",
       "</table>\n",
       "</div>"
      ],
      "text/plain": [
       "   jur_stn  set_year  type\n",
       "0  마산동부경찰서      2017   329\n",
       "1  마산동부경찰서      2018     1\n",
       "2  마산동부경찰서      2019     2"
      ]
     },
     "execution_count": 40,
     "metadata": {},
     "output_type": "execute_result"
    }
   ],
   "source": [
    "# 관할서의 연도별 유흥업소 count\n",
    "pub_cnt = pub_con.groupby(['jur_stn','set_year']).count().unstack(fill_value=0).stack()[['type']]\n",
    "pub_cnt.reset_index(inplace=True)\n",
    "pub_cnt.head(3)"
   ]
  },
  {
   "cell_type": "code",
   "execution_count": 41,
   "id": "binary-design",
   "metadata": {
    "scrolled": true
   },
   "outputs": [
    {
     "data": {
      "text/html": [
       "<div>\n",
       "<style scoped>\n",
       "    .dataframe tbody tr th:only-of-type {\n",
       "        vertical-align: middle;\n",
       "    }\n",
       "\n",
       "    .dataframe tbody tr th {\n",
       "        vertical-align: top;\n",
       "    }\n",
       "\n",
       "    .dataframe thead th {\n",
       "        text-align: right;\n",
       "    }\n",
       "</style>\n",
       "<table border=\"1\" class=\"dataframe\">\n",
       "  <thead>\n",
       "    <tr style=\"text-align: right;\">\n",
       "      <th></th>\n",
       "      <th>jur_stn</th>\n",
       "      <th>set_year</th>\n",
       "      <th>type</th>\n",
       "    </tr>\n",
       "  </thead>\n",
       "  <tbody>\n",
       "    <tr>\n",
       "      <th>0</th>\n",
       "      <td>마산동부경찰서</td>\n",
       "      <td>2017</td>\n",
       "      <td>329</td>\n",
       "    </tr>\n",
       "    <tr>\n",
       "      <th>1</th>\n",
       "      <td>마산동부경찰서</td>\n",
       "      <td>2018</td>\n",
       "      <td>330</td>\n",
       "    </tr>\n",
       "    <tr>\n",
       "      <th>2</th>\n",
       "      <td>마산동부경찰서</td>\n",
       "      <td>2019</td>\n",
       "      <td>331</td>\n",
       "    </tr>\n",
       "    <tr>\n",
       "      <th>3</th>\n",
       "      <td>마산동부경찰서</td>\n",
       "      <td>2020</td>\n",
       "      <td>331</td>\n",
       "    </tr>\n",
       "    <tr>\n",
       "      <th>4</th>\n",
       "      <td>마산중부경찰서</td>\n",
       "      <td>2017</td>\n",
       "      <td>466</td>\n",
       "    </tr>\n",
       "  </tbody>\n",
       "</table>\n",
       "</div>"
      ],
      "text/plain": [
       "   jur_stn  set_year  type\n",
       "0  마산동부경찰서      2017   329\n",
       "1  마산동부경찰서      2018   330\n",
       "2  마산동부경찰서      2019   331\n",
       "3  마산동부경찰서      2020   331\n",
       "4  마산중부경찰서      2017   466"
      ]
     },
     "execution_count": 41,
     "metadata": {},
     "output_type": "execute_result"
    }
   ],
   "source": [
    "# 2017년의 count를 이후 년도에 누적해주어야 함. \n",
    "# 2017년 이후의 값 = 2017 값 + a을 해주는 작업\n",
    "for j in pub_cnt['jur_stn'].unique() :\n",
    "    type_2017 = pub_cnt[(pub_cnt['jur_stn']==j) & (pub_cnt['set_year'] == 2017)]['type'].values[0]\n",
    "    pub_cnt['type'] = pub_cnt.apply(lambda x : x['type'] + type_2017 if x['jur_stn']==j and x['set_year'] != 2017 else x['type'], axis=1)\n",
    "pub_cnt.head()"
   ]
  },
  {
   "cell_type": "code",
   "execution_count": 44,
   "id": "close-payroll",
   "metadata": {},
   "outputs": [
    {
     "data": {
      "text/html": [
       "<div>\n",
       "<style scoped>\n",
       "    .dataframe tbody tr th:only-of-type {\n",
       "        vertical-align: middle;\n",
       "    }\n",
       "\n",
       "    .dataframe tbody tr th {\n",
       "        vertical-align: top;\n",
       "    }\n",
       "\n",
       "    .dataframe thead th {\n",
       "        text-align: right;\n",
       "    }\n",
       "</style>\n",
       "<table border=\"1\" class=\"dataframe\">\n",
       "  <thead>\n",
       "    <tr style=\"text-align: right;\">\n",
       "      <th></th>\n",
       "      <th>jur_stn</th>\n",
       "      <th>year</th>\n",
       "      <th>pub_cnt</th>\n",
       "    </tr>\n",
       "  </thead>\n",
       "  <tbody>\n",
       "    <tr>\n",
       "      <th>0</th>\n",
       "      <td>마산동부경찰서</td>\n",
       "      <td>2017</td>\n",
       "      <td>329</td>\n",
       "    </tr>\n",
       "    <tr>\n",
       "      <th>1</th>\n",
       "      <td>마산동부경찰서</td>\n",
       "      <td>2018</td>\n",
       "      <td>330</td>\n",
       "    </tr>\n",
       "    <tr>\n",
       "      <th>2</th>\n",
       "      <td>마산동부경찰서</td>\n",
       "      <td>2019</td>\n",
       "      <td>331</td>\n",
       "    </tr>\n",
       "    <tr>\n",
       "      <th>3</th>\n",
       "      <td>마산동부경찰서</td>\n",
       "      <td>2020</td>\n",
       "      <td>331</td>\n",
       "    </tr>\n",
       "    <tr>\n",
       "      <th>4</th>\n",
       "      <td>마산중부경찰서</td>\n",
       "      <td>2017</td>\n",
       "      <td>466</td>\n",
       "    </tr>\n",
       "  </tbody>\n",
       "</table>\n",
       "</div>"
      ],
      "text/plain": [
       "   jur_stn  year  pub_cnt\n",
       "0  마산동부경찰서  2017      329\n",
       "1  마산동부경찰서  2018      330\n",
       "2  마산동부경찰서  2019      331\n",
       "3  마산동부경찰서  2020      331\n",
       "4  마산중부경찰서  2017      466"
      ]
     },
     "execution_count": 44,
     "metadata": {},
     "output_type": "execute_result"
    }
   ],
   "source": [
    "pub_cnt = pub_cnt.rename(columns={'set_year' :'year', 'type' : 'pub_cnt'})\n",
    "pub_cnt.head()"
   ]
  },
  {
   "cell_type": "code",
   "execution_count": 45,
   "id": "civilian-monitoring",
   "metadata": {},
   "outputs": [],
   "source": [
    "pub_cnt.to_csv('pub_cnt.csv')"
   ]
  },
  {
   "cell_type": "markdown",
   "id": "offshore-tsunami",
   "metadata": {},
   "source": [
    "### 상, 하반기에 나눠 담기\n",
    "- year 기준으로 cnt 되어있으므로 상, 하반기에 각 각 담아준다"
   ]
  },
  {
   "cell_type": "code",
   "execution_count": 47,
   "id": "sufficient-court",
   "metadata": {
    "scrolled": true
   },
   "outputs": [
    {
     "name": "stderr",
     "output_type": "stream",
     "text": [
      "/opt/app-root/lib/python3.6/site-packages/ipykernel_launcher.py:4: SettingWithCopyWarning: \n",
      "A value is trying to be set on a copy of a slice from a DataFrame.\n",
      "Try using .loc[row_indexer,col_indexer] = value instead\n",
      "\n",
      "See the caveats in the documentation: https://pandas.pydata.org/pandas-docs/stable/user_guide/indexing.html#returning-a-view-versus-a-copy\n",
      "  after removing the cwd from sys.path.\n"
     ]
    },
    {
     "data": {
      "text/html": [
       "<div>\n",
       "<style scoped>\n",
       "    .dataframe tbody tr th:only-of-type {\n",
       "        vertical-align: middle;\n",
       "    }\n",
       "\n",
       "    .dataframe tbody tr th {\n",
       "        vertical-align: top;\n",
       "    }\n",
       "\n",
       "    .dataframe thead th {\n",
       "        text-align: right;\n",
       "    }\n",
       "</style>\n",
       "<table border=\"1\" class=\"dataframe\">\n",
       "  <thead>\n",
       "    <tr style=\"text-align: right;\">\n",
       "      <th></th>\n",
       "      <th>jur_stn</th>\n",
       "      <th>date</th>\n",
       "      <th>year</th>\n",
       "    </tr>\n",
       "  </thead>\n",
       "  <tbody>\n",
       "    <tr>\n",
       "      <th>0</th>\n",
       "      <td>서울중부경찰서</td>\n",
       "      <td>2017(상반기)</td>\n",
       "      <td>2017</td>\n",
       "    </tr>\n",
       "    <tr>\n",
       "      <th>1</th>\n",
       "      <td>서울종로경찰서</td>\n",
       "      <td>2017(상반기)</td>\n",
       "      <td>2017</td>\n",
       "    </tr>\n",
       "    <tr>\n",
       "      <th>2</th>\n",
       "      <td>서울남대문경찰서</td>\n",
       "      <td>2017(상반기)</td>\n",
       "      <td>2017</td>\n",
       "    </tr>\n",
       "  </tbody>\n",
       "</table>\n",
       "</div>"
      ],
      "text/plain": [
       "    jur_stn       date  year\n",
       "0   서울중부경찰서  2017(상반기)  2017\n",
       "1   서울종로경찰서  2017(상반기)  2017\n",
       "2  서울남대문경찰서  2017(상반기)  2017"
      ]
     },
     "execution_count": 47,
     "metadata": {},
     "output_type": "execute_result"
    }
   ],
   "source": [
    "## 인구종합.csv를 불러와서 merge할수 있도록 year 컬럼을 만들어준다.\n",
    "total_pop = pd.read_csv('인구정보종합.csv')\n",
    "jur_date_df = total_pop[['jur_stn','date']]\n",
    "jur_date_df['year'] = jur_date_df['date'].apply(lambda x : int(x[:4]))\n",
    "jur_date_df.head(3)"
   ]
  },
  {
   "cell_type": "code",
   "execution_count": 48,
   "id": "molecular-click",
   "metadata": {},
   "outputs": [
    {
     "data": {
      "text/plain": [
       "2020    82\n",
       "2019    82\n",
       "2018    82\n",
       "2017    82\n",
       "Name: year, dtype: int64"
      ]
     },
     "execution_count": 48,
     "metadata": {},
     "output_type": "execute_result"
    }
   ],
   "source": [
    "jur_date_df['year'].value_counts()"
   ]
  },
  {
   "cell_type": "code",
   "execution_count": 49,
   "id": "billion-search",
   "metadata": {},
   "outputs": [
    {
     "data": {
      "text/html": [
       "<div>\n",
       "<style scoped>\n",
       "    .dataframe tbody tr th:only-of-type {\n",
       "        vertical-align: middle;\n",
       "    }\n",
       "\n",
       "    .dataframe tbody tr th {\n",
       "        vertical-align: top;\n",
       "    }\n",
       "\n",
       "    .dataframe thead th {\n",
       "        text-align: right;\n",
       "    }\n",
       "</style>\n",
       "<table border=\"1\" class=\"dataframe\">\n",
       "  <thead>\n",
       "    <tr style=\"text-align: right;\">\n",
       "      <th></th>\n",
       "      <th>jur_stn</th>\n",
       "      <th>date</th>\n",
       "      <th>year</th>\n",
       "      <th>pub_cnt</th>\n",
       "    </tr>\n",
       "  </thead>\n",
       "  <tbody>\n",
       "    <tr>\n",
       "      <th>0</th>\n",
       "      <td>서울중부경찰서</td>\n",
       "      <td>2017(상반기)</td>\n",
       "      <td>2017</td>\n",
       "      <td>201</td>\n",
       "    </tr>\n",
       "    <tr>\n",
       "      <th>1</th>\n",
       "      <td>서울중부경찰서</td>\n",
       "      <td>2017(하반기)</td>\n",
       "      <td>2017</td>\n",
       "      <td>201</td>\n",
       "    </tr>\n",
       "    <tr>\n",
       "      <th>2</th>\n",
       "      <td>서울종로경찰서</td>\n",
       "      <td>2017(상반기)</td>\n",
       "      <td>2017</td>\n",
       "      <td>149</td>\n",
       "    </tr>\n",
       "    <tr>\n",
       "      <th>3</th>\n",
       "      <td>서울종로경찰서</td>\n",
       "      <td>2017(하반기)</td>\n",
       "      <td>2017</td>\n",
       "      <td>149</td>\n",
       "    </tr>\n",
       "    <tr>\n",
       "      <th>4</th>\n",
       "      <td>서울남대문경찰서</td>\n",
       "      <td>2017(상반기)</td>\n",
       "      <td>2017</td>\n",
       "      <td>87</td>\n",
       "    </tr>\n",
       "  </tbody>\n",
       "</table>\n",
       "</div>"
      ],
      "text/plain": [
       "    jur_stn       date  year  pub_cnt\n",
       "0   서울중부경찰서  2017(상반기)  2017      201\n",
       "1   서울중부경찰서  2017(하반기)  2017      201\n",
       "2   서울종로경찰서  2017(상반기)  2017      149\n",
       "3   서울종로경찰서  2017(하반기)  2017      149\n",
       "4  서울남대문경찰서  2017(상반기)  2017       87"
      ]
     },
     "execution_count": 49,
     "metadata": {},
     "output_type": "execute_result"
    }
   ],
   "source": [
    "# 만든 base_df에 관할서, 연도 기준으로 Merge\n",
    "pub_con_df = pd.merge(jur_date_df, pub_cnt, on=['jur_stn','year'])\n",
    "pub_con_df.head()"
   ]
  },
  {
   "cell_type": "code",
   "execution_count": 55,
   "id": "reliable-brave",
   "metadata": {},
   "outputs": [
    {
     "data": {
      "text/plain": [
       "2018(하반기)    41\n",
       "2017(상반기)    41\n",
       "2017(하반기)    41\n",
       "2019(상반기)    41\n",
       "2020(하반기)    41\n",
       "2019(하반기)    41\n",
       "2018(상반기)    41\n",
       "2020(상반기)    41\n",
       "Name: date, dtype: int64"
      ]
     },
     "execution_count": 55,
     "metadata": {},
     "output_type": "execute_result"
    }
   ],
   "source": [
    "pub_con_df['date'].value_counts() # 데이터 개수 확인"
   ]
  },
  {
   "cell_type": "code",
   "execution_count": 56,
   "id": "frequent-iraqi",
   "metadata": {},
   "outputs": [
    {
     "data": {
      "text/html": [
       "<div>\n",
       "<style scoped>\n",
       "    .dataframe tbody tr th:only-of-type {\n",
       "        vertical-align: middle;\n",
       "    }\n",
       "\n",
       "    .dataframe tbody tr th {\n",
       "        vertical-align: top;\n",
       "    }\n",
       "\n",
       "    .dataframe thead th {\n",
       "        text-align: right;\n",
       "    }\n",
       "</style>\n",
       "<table border=\"1\" class=\"dataframe\">\n",
       "  <thead>\n",
       "    <tr style=\"text-align: right;\">\n",
       "      <th></th>\n",
       "      <th>jur_stn</th>\n",
       "      <th>date</th>\n",
       "      <th>year</th>\n",
       "      <th>pub_cnt</th>\n",
       "    </tr>\n",
       "  </thead>\n",
       "  <tbody>\n",
       "    <tr>\n",
       "      <th>0</th>\n",
       "      <td>서울중부경찰서</td>\n",
       "      <td>2017(상반기)</td>\n",
       "      <td>2017</td>\n",
       "      <td>201</td>\n",
       "    </tr>\n",
       "    <tr>\n",
       "      <th>1</th>\n",
       "      <td>서울중부경찰서</td>\n",
       "      <td>2017(하반기)</td>\n",
       "      <td>2017</td>\n",
       "      <td>201</td>\n",
       "    </tr>\n",
       "    <tr>\n",
       "      <th>2</th>\n",
       "      <td>서울종로경찰서</td>\n",
       "      <td>2017(상반기)</td>\n",
       "      <td>2017</td>\n",
       "      <td>149</td>\n",
       "    </tr>\n",
       "    <tr>\n",
       "      <th>3</th>\n",
       "      <td>서울종로경찰서</td>\n",
       "      <td>2017(하반기)</td>\n",
       "      <td>2017</td>\n",
       "      <td>149</td>\n",
       "    </tr>\n",
       "    <tr>\n",
       "      <th>4</th>\n",
       "      <td>서울남대문경찰서</td>\n",
       "      <td>2017(상반기)</td>\n",
       "      <td>2017</td>\n",
       "      <td>87</td>\n",
       "    </tr>\n",
       "  </tbody>\n",
       "</table>\n",
       "</div>"
      ],
      "text/plain": [
       "    jur_stn       date  year  pub_cnt\n",
       "0   서울중부경찰서  2017(상반기)  2017      201\n",
       "1   서울중부경찰서  2017(하반기)  2017      201\n",
       "2   서울종로경찰서  2017(상반기)  2017      149\n",
       "3   서울종로경찰서  2017(하반기)  2017      149\n",
       "4  서울남대문경찰서  2017(상반기)  2017       87"
      ]
     },
     "execution_count": 56,
     "metadata": {},
     "output_type": "execute_result"
    }
   ],
   "source": [
    "pub_con_df.head()"
   ]
  },
  {
   "cell_type": "code",
   "execution_count": 57,
   "id": "passive-brass",
   "metadata": {},
   "outputs": [],
   "source": [
    "# 추후 활용을 위해 csv file로 저장\n",
    "pub_con_df.to_csv('유흥업소현황.csv')"
   ]
  },
  {
   "cell_type": "code",
   "execution_count": null,
   "id": "connected-confidence",
   "metadata": {},
   "outputs": [],
   "source": []
  }
 ],
 "metadata": {
  "kernelspec": {
   "display_name": "Python 3",
   "language": "python",
   "name": "python3"
  },
  "language_info": {
   "codemirror_mode": {
    "name": "ipython",
    "version": 3
   },
   "file_extension": ".py",
   "mimetype": "text/x-python",
   "name": "python",
   "nbconvert_exporter": "python",
   "pygments_lexer": "ipython3",
   "version": "3.6.9"
  }
 },
 "nbformat": 4,
 "nbformat_minor": 5
}
