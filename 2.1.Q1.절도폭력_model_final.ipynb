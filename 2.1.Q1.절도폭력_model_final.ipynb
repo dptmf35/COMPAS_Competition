{
 "cells": [
  {
   "cell_type": "code",
   "execution_count": 1,
   "id": "drawn-headset",
   "metadata": {},
   "outputs": [
    {
     "name": "stderr",
     "output_type": "stream",
     "text": [
      "C:\\Users\\PC\\anaconda3\\envs\\yeseul\\lib\\site-packages\\numpy\\_distributor_init.py:32: UserWarning: loaded more than 1 DLL from .libs:\n",
      "C:\\Users\\PC\\anaconda3\\envs\\yeseul\\lib\\site-packages\\numpy\\.libs\\libopenblas.NOIJJG62EMASZI6NYURL6JBKM4EVBGM7.gfortran-win_amd64.dll\n",
      "C:\\Users\\PC\\anaconda3\\envs\\yeseul\\lib\\site-packages\\numpy\\.libs\\libopenblas.WCDJNK7YVMPZQ2ME2ZZHJJRJ3JIKNDB7.gfortran-win_amd64.dll\n",
      "  stacklevel=1)\n"
     ]
    }
   ],
   "source": [
    "import pandas as pd\n",
    "import numpy as np\n",
    "import seaborn as sns\n",
    "from sklearn import *\n",
    "from catboost import CatBoostRegressor\n",
    "import warnings as w\n",
    "w.filterwarnings('ignore')\n",
    "\n",
    "import matplotlib.pyplot as plt\n",
    "%matplotlib inline"
   ]
  },
  {
   "cell_type": "code",
   "execution_count": 2,
   "id": "scheduled-camera",
   "metadata": {},
   "outputs": [
    {
     "ename": "FileNotFoundError",
     "evalue": "[Errno 2] No such file or directory: '../data/4.체감안전도_통계(2017~2019).csv'",
     "output_type": "error",
     "traceback": [
      "\u001b[1;31m---------------------------------------------------------------------------\u001b[0m",
      "\u001b[1;31mFileNotFoundError\u001b[0m                         Traceback (most recent call last)",
      "\u001b[1;32m<ipython-input-2-594eb7717568>\u001b[0m in \u001b[0;36m<module>\u001b[1;34m\u001b[0m\n\u001b[1;32m----> 1\u001b[1;33m \u001b[0manswer\u001b[0m \u001b[1;33m=\u001b[0m \u001b[0mpd\u001b[0m\u001b[1;33m.\u001b[0m\u001b[0mread_csv\u001b[0m\u001b[1;33m(\u001b[0m\u001b[1;34m\"../data/4.체감안전도_통계(2017~2019).csv\"\u001b[0m\u001b[1;33m)\u001b[0m\u001b[1;33m\u001b[0m\u001b[1;33m\u001b[0m\u001b[0m\n\u001b[0m",
      "\u001b[1;32m~\\anaconda3\\envs\\yeseul\\lib\\site-packages\\pandas\\io\\parsers.py\u001b[0m in \u001b[0;36mread_csv\u001b[1;34m(filepath_or_buffer, sep, delimiter, header, names, index_col, usecols, squeeze, prefix, mangle_dupe_cols, dtype, engine, converters, true_values, false_values, skipinitialspace, skiprows, skipfooter, nrows, na_values, keep_default_na, na_filter, verbose, skip_blank_lines, parse_dates, infer_datetime_format, keep_date_col, date_parser, dayfirst, cache_dates, iterator, chunksize, compression, thousands, decimal, lineterminator, quotechar, quoting, doublequote, escapechar, comment, encoding, dialect, error_bad_lines, warn_bad_lines, delim_whitespace, low_memory, memory_map, float_precision)\u001b[0m\n\u001b[0;32m    686\u001b[0m     )\n\u001b[0;32m    687\u001b[0m \u001b[1;33m\u001b[0m\u001b[0m\n\u001b[1;32m--> 688\u001b[1;33m     \u001b[1;32mreturn\u001b[0m \u001b[0m_read\u001b[0m\u001b[1;33m(\u001b[0m\u001b[0mfilepath_or_buffer\u001b[0m\u001b[1;33m,\u001b[0m \u001b[0mkwds\u001b[0m\u001b[1;33m)\u001b[0m\u001b[1;33m\u001b[0m\u001b[1;33m\u001b[0m\u001b[0m\n\u001b[0m\u001b[0;32m    689\u001b[0m \u001b[1;33m\u001b[0m\u001b[0m\n\u001b[0;32m    690\u001b[0m \u001b[1;33m\u001b[0m\u001b[0m\n",
      "\u001b[1;32m~\\anaconda3\\envs\\yeseul\\lib\\site-packages\\pandas\\io\\parsers.py\u001b[0m in \u001b[0;36m_read\u001b[1;34m(filepath_or_buffer, kwds)\u001b[0m\n\u001b[0;32m    452\u001b[0m \u001b[1;33m\u001b[0m\u001b[0m\n\u001b[0;32m    453\u001b[0m     \u001b[1;31m# Create the parser.\u001b[0m\u001b[1;33m\u001b[0m\u001b[1;33m\u001b[0m\u001b[1;33m\u001b[0m\u001b[0m\n\u001b[1;32m--> 454\u001b[1;33m     \u001b[0mparser\u001b[0m \u001b[1;33m=\u001b[0m \u001b[0mTextFileReader\u001b[0m\u001b[1;33m(\u001b[0m\u001b[0mfp_or_buf\u001b[0m\u001b[1;33m,\u001b[0m \u001b[1;33m**\u001b[0m\u001b[0mkwds\u001b[0m\u001b[1;33m)\u001b[0m\u001b[1;33m\u001b[0m\u001b[1;33m\u001b[0m\u001b[0m\n\u001b[0m\u001b[0;32m    455\u001b[0m \u001b[1;33m\u001b[0m\u001b[0m\n\u001b[0;32m    456\u001b[0m     \u001b[1;32mif\u001b[0m \u001b[0mchunksize\u001b[0m \u001b[1;32mor\u001b[0m \u001b[0miterator\u001b[0m\u001b[1;33m:\u001b[0m\u001b[1;33m\u001b[0m\u001b[1;33m\u001b[0m\u001b[0m\n",
      "\u001b[1;32m~\\anaconda3\\envs\\yeseul\\lib\\site-packages\\pandas\\io\\parsers.py\u001b[0m in \u001b[0;36m__init__\u001b[1;34m(self, f, engine, **kwds)\u001b[0m\n\u001b[0;32m    946\u001b[0m             \u001b[0mself\u001b[0m\u001b[1;33m.\u001b[0m\u001b[0moptions\u001b[0m\u001b[1;33m[\u001b[0m\u001b[1;34m\"has_index_names\"\u001b[0m\u001b[1;33m]\u001b[0m \u001b[1;33m=\u001b[0m \u001b[0mkwds\u001b[0m\u001b[1;33m[\u001b[0m\u001b[1;34m\"has_index_names\"\u001b[0m\u001b[1;33m]\u001b[0m\u001b[1;33m\u001b[0m\u001b[1;33m\u001b[0m\u001b[0m\n\u001b[0;32m    947\u001b[0m \u001b[1;33m\u001b[0m\u001b[0m\n\u001b[1;32m--> 948\u001b[1;33m         \u001b[0mself\u001b[0m\u001b[1;33m.\u001b[0m\u001b[0m_make_engine\u001b[0m\u001b[1;33m(\u001b[0m\u001b[0mself\u001b[0m\u001b[1;33m.\u001b[0m\u001b[0mengine\u001b[0m\u001b[1;33m)\u001b[0m\u001b[1;33m\u001b[0m\u001b[1;33m\u001b[0m\u001b[0m\n\u001b[0m\u001b[0;32m    949\u001b[0m \u001b[1;33m\u001b[0m\u001b[0m\n\u001b[0;32m    950\u001b[0m     \u001b[1;32mdef\u001b[0m \u001b[0mclose\u001b[0m\u001b[1;33m(\u001b[0m\u001b[0mself\u001b[0m\u001b[1;33m)\u001b[0m\u001b[1;33m:\u001b[0m\u001b[1;33m\u001b[0m\u001b[1;33m\u001b[0m\u001b[0m\n",
      "\u001b[1;32m~\\anaconda3\\envs\\yeseul\\lib\\site-packages\\pandas\\io\\parsers.py\u001b[0m in \u001b[0;36m_make_engine\u001b[1;34m(self, engine)\u001b[0m\n\u001b[0;32m   1178\u001b[0m     \u001b[1;32mdef\u001b[0m \u001b[0m_make_engine\u001b[0m\u001b[1;33m(\u001b[0m\u001b[0mself\u001b[0m\u001b[1;33m,\u001b[0m \u001b[0mengine\u001b[0m\u001b[1;33m=\u001b[0m\u001b[1;34m\"c\"\u001b[0m\u001b[1;33m)\u001b[0m\u001b[1;33m:\u001b[0m\u001b[1;33m\u001b[0m\u001b[1;33m\u001b[0m\u001b[0m\n\u001b[0;32m   1179\u001b[0m         \u001b[1;32mif\u001b[0m \u001b[0mengine\u001b[0m \u001b[1;33m==\u001b[0m \u001b[1;34m\"c\"\u001b[0m\u001b[1;33m:\u001b[0m\u001b[1;33m\u001b[0m\u001b[1;33m\u001b[0m\u001b[0m\n\u001b[1;32m-> 1180\u001b[1;33m             \u001b[0mself\u001b[0m\u001b[1;33m.\u001b[0m\u001b[0m_engine\u001b[0m \u001b[1;33m=\u001b[0m \u001b[0mCParserWrapper\u001b[0m\u001b[1;33m(\u001b[0m\u001b[0mself\u001b[0m\u001b[1;33m.\u001b[0m\u001b[0mf\u001b[0m\u001b[1;33m,\u001b[0m \u001b[1;33m**\u001b[0m\u001b[0mself\u001b[0m\u001b[1;33m.\u001b[0m\u001b[0moptions\u001b[0m\u001b[1;33m)\u001b[0m\u001b[1;33m\u001b[0m\u001b[1;33m\u001b[0m\u001b[0m\n\u001b[0m\u001b[0;32m   1181\u001b[0m         \u001b[1;32melse\u001b[0m\u001b[1;33m:\u001b[0m\u001b[1;33m\u001b[0m\u001b[1;33m\u001b[0m\u001b[0m\n\u001b[0;32m   1182\u001b[0m             \u001b[1;32mif\u001b[0m \u001b[0mengine\u001b[0m \u001b[1;33m==\u001b[0m \u001b[1;34m\"python\"\u001b[0m\u001b[1;33m:\u001b[0m\u001b[1;33m\u001b[0m\u001b[1;33m\u001b[0m\u001b[0m\n",
      "\u001b[1;32m~\\anaconda3\\envs\\yeseul\\lib\\site-packages\\pandas\\io\\parsers.py\u001b[0m in \u001b[0;36m__init__\u001b[1;34m(self, src, **kwds)\u001b[0m\n\u001b[0;32m   2008\u001b[0m         \u001b[0mkwds\u001b[0m\u001b[1;33m[\u001b[0m\u001b[1;34m\"usecols\"\u001b[0m\u001b[1;33m]\u001b[0m \u001b[1;33m=\u001b[0m \u001b[0mself\u001b[0m\u001b[1;33m.\u001b[0m\u001b[0musecols\u001b[0m\u001b[1;33m\u001b[0m\u001b[1;33m\u001b[0m\u001b[0m\n\u001b[0;32m   2009\u001b[0m \u001b[1;33m\u001b[0m\u001b[0m\n\u001b[1;32m-> 2010\u001b[1;33m         \u001b[0mself\u001b[0m\u001b[1;33m.\u001b[0m\u001b[0m_reader\u001b[0m \u001b[1;33m=\u001b[0m \u001b[0mparsers\u001b[0m\u001b[1;33m.\u001b[0m\u001b[0mTextReader\u001b[0m\u001b[1;33m(\u001b[0m\u001b[0msrc\u001b[0m\u001b[1;33m,\u001b[0m \u001b[1;33m**\u001b[0m\u001b[0mkwds\u001b[0m\u001b[1;33m)\u001b[0m\u001b[1;33m\u001b[0m\u001b[1;33m\u001b[0m\u001b[0m\n\u001b[0m\u001b[0;32m   2011\u001b[0m         \u001b[0mself\u001b[0m\u001b[1;33m.\u001b[0m\u001b[0munnamed_cols\u001b[0m \u001b[1;33m=\u001b[0m \u001b[0mself\u001b[0m\u001b[1;33m.\u001b[0m\u001b[0m_reader\u001b[0m\u001b[1;33m.\u001b[0m\u001b[0munnamed_cols\u001b[0m\u001b[1;33m\u001b[0m\u001b[1;33m\u001b[0m\u001b[0m\n\u001b[0;32m   2012\u001b[0m \u001b[1;33m\u001b[0m\u001b[0m\n",
      "\u001b[1;32mpandas\\_libs\\parsers.pyx\u001b[0m in \u001b[0;36mpandas._libs.parsers.TextReader.__cinit__\u001b[1;34m()\u001b[0m\n",
      "\u001b[1;32mpandas\\_libs\\parsers.pyx\u001b[0m in \u001b[0;36mpandas._libs.parsers.TextReader._setup_parser_source\u001b[1;34m()\u001b[0m\n",
      "\u001b[1;31mFileNotFoundError\u001b[0m: [Errno 2] No such file or directory: '../data/4.체감안전도_통계(2017~2019).csv'"
     ]
    }
   ],
   "source": [
    "answer = pd.read_csv(\"../data/4.체감안전도_통계(2017~2019).csv\")"
   ]
  },
  {
   "cell_type": "code",
   "execution_count": null,
   "id": "treated-angel",
   "metadata": {},
   "outputs": [],
   "source": [
    "sub = pd.read_csv(\"../data/25.결과제출양식.csv\")\n",
    "pol_order = list(sub['경찰서명'])\n",
    "\n",
    "for i in range(len(pol_order)):\n",
    "    pol_order[i] = \"jur_stn_\"+pol_order[i]\n",
    "    pol_order[i] = pol_order[i].replace(\" \",\"\")"
   ]
  },
  {
   "cell_type": "code",
   "execution_count": null,
   "id": "rational-development",
   "metadata": {},
   "outputs": [],
   "source": [
    "tqq = pd.read_csv(\"q1_train.csv\")#,index_col=0)"
   ]
  },
  {
   "cell_type": "code",
   "execution_count": null,
   "id": "extensive-mouth",
   "metadata": {},
   "outputs": [],
   "source": [
    "train_data = pd.read_csv(\"q1_train.csv\")#,index_col=0)\n",
    "target_data = pd.read_csv(\"q1_target.csv\")#,index_col=0)\n",
    "\n",
    "target_data.reset_index(drop=True,inplace=True)"
   ]
  },
  {
   "cell_type": "code",
   "execution_count": null,
   "id": "dominant-injection",
   "metadata": {},
   "outputs": [],
   "source": [
    "train_data = pd.get_dummies(train_data)\n",
    "target_data = pd.get_dummies(target_data)"
   ]
  },
  {
   "cell_type": "code",
   "execution_count": null,
   "id": "nervous-being",
   "metadata": {},
   "outputs": [],
   "source": [
    "train_data.loc[151,'cctv_cnt'] = 2527.0\n",
    "train_data.loc[151,'bell_us'] = 200\n",
    "train_data.loc[151,'light_cnt'] = 10410.0"
   ]
  },
  {
   "cell_type": "code",
   "execution_count": null,
   "id": "dirty-purse",
   "metadata": {},
   "outputs": [],
   "source": [
    "target_data['상반기'] =target_data['date_2020(상반기)']\n",
    "del target_data['date_2020(상반기)'],target_data['date_2020(하반기)']\n",
    "\n",
    "train_data['상반기'] = ( train_data['date_2018(상반기)'] | train_data['date_2019(상반기)'] )\n",
    "del train_data['date_2018(상반기)'],train_data['date_2018(하반기)'],train_data['date_2019(상반기)'],train_data['date_2019(하반기)']"
   ]
  },
  {
   "cell_type": "code",
   "execution_count": null,
   "id": "blank-summit",
   "metadata": {},
   "outputs": [],
   "source": [
    "for i in pol_order:\n",
    "    del train_data[i]"
   ]
  },
  {
   "cell_type": "code",
   "execution_count": null,
   "id": "eight-following",
   "metadata": {},
   "outputs": [],
   "source": [
    "tar_sang = target_data[target_data['상반기']==1]\n",
    "tar_ha = target_data[target_data['상반기']!=1]\n",
    "\n",
    "tar_sang.reset_index(drop=True,inplace=True)\n",
    "tar_ha.reset_index(drop=True,inplace=True)\n",
    "\n",
    "# del tar_sang['jur_stn']\n",
    "# del tar_sang['date']\n",
    "# del tar_ha['jur_stn']\n",
    "# del tar_ha['date']"
   ]
  },
  {
   "cell_type": "code",
   "execution_count": null,
   "id": "acting-curtis",
   "metadata": {},
   "outputs": [],
   "source": [
    "for i in pol_order:\n",
    "    del tar_sang[i],tar_ha[i]"
   ]
  },
  {
   "cell_type": "code",
   "execution_count": null,
   "id": "sunset-dubai",
   "metadata": {},
   "outputs": [],
   "source": [
    "tar_sang.columns"
   ]
  },
  {
   "cell_type": "code",
   "execution_count": null,
   "id": "accessible-membership",
   "metadata": {},
   "outputs": [],
   "source": [
    "y = train_data['rob_safety_q1']\n",
    "X = train_data\n",
    "del X['rob_safety_q1']"
   ]
  },
  {
   "cell_type": "markdown",
   "id": "organizational-dispute",
   "metadata": {},
   "source": [
    "<hr>"
   ]
  },
  {
   "cell_type": "code",
   "execution_count": null,
   "id": "current-insertion",
   "metadata": {},
   "outputs": [],
   "source": [
    "model = CatBoostRegressor(iterations=2500,silent=True,learning_rate=0.005072).fit(X, y)"
   ]
  },
  {
   "cell_type": "code",
   "execution_count": null,
   "id": "invisible-davis",
   "metadata": {},
   "outputs": [],
   "source": [
    "impotances = model.feature_importances_\n",
    "feature_list = list(zip(model.feature_importances_,X.columns))\n",
    "feature_list.sort(reverse=True)\n",
    "feature_list=feature_list[:20]\n",
    "feature_list.sort(reverse=False)\n",
    "feature_df = pd.DataFrame(feature_list,columns=[\"score\",\"feature\"])\n",
    "plt.figure(figsize=(8,6),facecolor=\"#F0FDFF\")\n",
    "plt.title(\"Feature_Importances : {}\".format(str(model).split('.')[0].split('<')[-1]), fontsize=\"xx-large\")\n",
    "plt.barh(feature_df[\"feature\"],feature_df[\"score\"],color=\"#C00000\")\n",
    "plt.grid(color=\"#CFE8E1\")"
   ]
  },
  {
   "cell_type": "code",
   "execution_count": null,
   "id": "expanded-wound",
   "metadata": {},
   "outputs": [],
   "source": [
    "df = pd.DataFrame(list(zip(model.feature_importances_,X.columns)))\n",
    "df.columns = ['weight','columns']\n",
    "df.sort_values(['weight'],axis=0,ascending=False)"
   ]
  },
  {
   "cell_type": "code",
   "execution_count": null,
   "id": "blank-florence",
   "metadata": {},
   "outputs": [],
   "source": [
    "# col_num = 23\n",
    "# row=103\n",
    "# print(tqq.loc[row,'jur_stn'])\n",
    "# tester = (X.loc[row,:]).copy()\n",
    "# target_col_value = X.columns[col_num]\n",
    "# print(\"- 타겟 피쳐 : \",target_col_value,\"\\n- 값 : \", tester[target_col_value])\n",
    "# print(\"- 기존 만족도 : \",y[row])\n",
    "# print(\"- Feature Importance : \",model.feature_importances_[col_num])\n",
    "# target_var_value = 1.1\n",
    "# tester[target_col_value] = tester[target_col_value] * target_var_value\n",
    "# print(\"- 수치 10% 증가 시 예측 만족도 : \",model.predict(np.array(tester)))\n",
    "# print(\"* 변화량 : \",(model.predict(np.array(tester))-y[row]))"
   ]
  },
  {
   "cell_type": "code",
   "execution_count": null,
   "id": "expected-straight",
   "metadata": {},
   "outputs": [],
   "source": [
    "pred = (model.predict(tar_ha)* 0.85525 + model.predict(tar_sang) * 0.15525)"
   ]
  },
  {
   "cell_type": "code",
   "execution_count": null,
   "id": "unauthorized-leisure",
   "metadata": {},
   "outputs": [],
   "source": [
    "prediction = pd.Series(pred)"
   ]
  },
  {
   "cell_type": "code",
   "execution_count": null,
   "id": "designing-general",
   "metadata": {},
   "outputs": [],
   "source": [
    "prediction.to_csv(\"q1_result.csv\")"
   ]
  }
 ],
 "metadata": {
  "kernelspec": {
   "display_name": "Python 3",
   "language": "python",
   "name": "python3"
  },
  "language_info": {
   "codemirror_mode": {
    "name": "ipython",
    "version": 3
   },
   "file_extension": ".py",
   "mimetype": "text/x-python",
   "name": "python",
   "nbconvert_exporter": "python",
   "pygments_lexer": "ipython3",
   "version": "3.7.10"
  }
 },
 "nbformat": 4,
 "nbformat_minor": 5
}
