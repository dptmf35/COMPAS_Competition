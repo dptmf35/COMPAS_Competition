{
 "cells": [
  {
   "cell_type": "code",
   "execution_count": 4,
   "id": "empty-sequence",
   "metadata": {},
   "outputs": [],
   "source": [
    "import pandas as pd"
   ]
  },
  {
   "cell_type": "markdown",
   "id": "damaged-overview",
   "metadata": {},
   "source": [
    "## Data Load"
   ]
  },
  {
   "cell_type": "code",
   "execution_count": 3,
   "id": "appreciated-partnership",
   "metadata": {
    "scrolled": true
   },
   "outputs": [
    {
     "data": {
      "text/html": [
       "<div>\n",
       "<style scoped>\n",
       "    .dataframe tbody tr th:only-of-type {\n",
       "        vertical-align: middle;\n",
       "    }\n",
       "\n",
       "    .dataframe tbody tr th {\n",
       "        vertical-align: top;\n",
       "    }\n",
       "\n",
       "    .dataframe thead th {\n",
       "        text-align: right;\n",
       "    }\n",
       "</style>\n",
       "<table border=\"1\" class=\"dataframe\">\n",
       "  <thead>\n",
       "    <tr style=\"text-align: right;\">\n",
       "      <th></th>\n",
       "      <th>Unnamed: 0</th>\n",
       "      <th>year</th>\n",
       "      <th>address</th>\n",
       "      <th>light_cnt</th>\n",
       "      <th>lon</th>\n",
       "      <th>lat</th>\n",
       "      <th>geometry</th>\n",
       "      <th>jur_stn</th>\n",
       "    </tr>\n",
       "  </thead>\n",
       "  <tbody>\n",
       "    <tr>\n",
       "      <th>0</th>\n",
       "      <td>0</td>\n",
       "      <td>NaN</td>\n",
       "      <td>세종특별자치시 금남면 감성리 64-2</td>\n",
       "      <td>1</td>\n",
       "      <td>127.287690</td>\n",
       "      <td>36.443467</td>\n",
       "      <td>POINT (127.28769 36.443467)</td>\n",
       "      <td>세종경찰서</td>\n",
       "    </tr>\n",
       "    <tr>\n",
       "      <th>1</th>\n",
       "      <td>1</td>\n",
       "      <td>NaN</td>\n",
       "      <td>세종특별자치시 금남면 감성리 267</td>\n",
       "      <td>1</td>\n",
       "      <td>127.288812</td>\n",
       "      <td>36.444181</td>\n",
       "      <td>POINT (127.288812 36.444181)</td>\n",
       "      <td>세종경찰서</td>\n",
       "    </tr>\n",
       "    <tr>\n",
       "      <th>2</th>\n",
       "      <td>2</td>\n",
       "      <td>NaN</td>\n",
       "      <td>세종특별자치시 금남면 감성리 40-1</td>\n",
       "      <td>1</td>\n",
       "      <td>127.289575</td>\n",
       "      <td>36.444711</td>\n",
       "      <td>POINT (127.289575 36.444711)</td>\n",
       "      <td>세종경찰서</td>\n",
       "    </tr>\n",
       "    <tr>\n",
       "      <th>3</th>\n",
       "      <td>3</td>\n",
       "      <td>NaN</td>\n",
       "      <td>세종특별자치시 금남면 감성리 26</td>\n",
       "      <td>1</td>\n",
       "      <td>127.290071</td>\n",
       "      <td>36.444455</td>\n",
       "      <td>POINT (127.290071 36.444455)</td>\n",
       "      <td>세종경찰서</td>\n",
       "    </tr>\n",
       "    <tr>\n",
       "      <th>4</th>\n",
       "      <td>4</td>\n",
       "      <td>NaN</td>\n",
       "      <td>세종특별자치시 금남면 감성리 267</td>\n",
       "      <td>1</td>\n",
       "      <td>127.290002</td>\n",
       "      <td>36.444188</td>\n",
       "      <td>POINT (127.290002 36.444188)</td>\n",
       "      <td>세종경찰서</td>\n",
       "    </tr>\n",
       "  </tbody>\n",
       "</table>\n",
       "</div>"
      ],
      "text/plain": [
       "   Unnamed: 0  year               address  light_cnt         lon        lat  \\\n",
       "0           0   NaN  세종특별자치시 금남면 감성리 64-2          1  127.287690  36.443467   \n",
       "1           1   NaN   세종특별자치시 금남면 감성리 267          1  127.288812  36.444181   \n",
       "2           2   NaN  세종특별자치시 금남면 감성리 40-1          1  127.289575  36.444711   \n",
       "3           3   NaN    세종특별자치시 금남면 감성리 26          1  127.290071  36.444455   \n",
       "4           4   NaN   세종특별자치시 금남면 감성리 267          1  127.290002  36.444188   \n",
       "\n",
       "                       geometry jur_stn  \n",
       "0   POINT (127.28769 36.443467)   세종경찰서  \n",
       "1  POINT (127.288812 36.444181)   세종경찰서  \n",
       "2  POINT (127.289575 36.444711)   세종경찰서  \n",
       "3  POINT (127.290071 36.444455)   세종경찰서  \n",
       "4  POINT (127.290002 36.444188)   세종경찰서  "
      ]
     },
     "execution_count": 3,
     "metadata": {},
     "output_type": "execute_result"
    }
   ],
   "source": [
    "security_con = pd.read_csv('./security_con.csv')\n",
    "security_con.head()"
   ]
  },
  {
   "cell_type": "code",
   "execution_count": 52,
   "id": "hybrid-elevation",
   "metadata": {},
   "outputs": [
    {
     "data": {
      "text/html": [
       "<div>\n",
       "<style scoped>\n",
       "    .dataframe tbody tr th:only-of-type {\n",
       "        vertical-align: middle;\n",
       "    }\n",
       "\n",
       "    .dataframe tbody tr th {\n",
       "        vertical-align: top;\n",
       "    }\n",
       "\n",
       "    .dataframe thead th {\n",
       "        text-align: right;\n",
       "    }\n",
       "</style>\n",
       "<table border=\"1\" class=\"dataframe\">\n",
       "  <thead>\n",
       "    <tr style=\"text-align: right;\">\n",
       "      <th></th>\n",
       "      <th>Unnamed: 0</th>\n",
       "      <th>address</th>\n",
       "      <th>purpose</th>\n",
       "      <th>cctv_cnt</th>\n",
       "      <th>set_yr</th>\n",
       "      <th>lat</th>\n",
       "      <th>lon</th>\n",
       "      <th>geometry</th>\n",
       "      <th>jur_stn</th>\n",
       "    </tr>\n",
       "  </thead>\n",
       "  <tbody>\n",
       "    <tr>\n",
       "      <th>0</th>\n",
       "      <td>0</td>\n",
       "      <td>세종특별자치시 조치원읍 교리 129-1</td>\n",
       "      <td>다목적</td>\n",
       "      <td>3</td>\n",
       "      <td>NaN</td>\n",
       "      <td>36.605060</td>\n",
       "      <td>127.296286</td>\n",
       "      <td>POINT (127.296286 36.6050595)</td>\n",
       "      <td>세종경찰서</td>\n",
       "    </tr>\n",
       "    <tr>\n",
       "      <th>1</th>\n",
       "      <td>1</td>\n",
       "      <td>세종특별자치시 조치원읍 남리144</td>\n",
       "      <td>다목적</td>\n",
       "      <td>2</td>\n",
       "      <td>NaN</td>\n",
       "      <td>36.597678</td>\n",
       "      <td>127.302452</td>\n",
       "      <td>POINT (127.3024523 36.597678)</td>\n",
       "      <td>세종경찰서</td>\n",
       "    </tr>\n",
       "    <tr>\n",
       "      <th>2</th>\n",
       "      <td>2</td>\n",
       "      <td>세종특별자치시 조치원읍 남리 425</td>\n",
       "      <td>다목적</td>\n",
       "      <td>3</td>\n",
       "      <td>NaN</td>\n",
       "      <td>36.594863</td>\n",
       "      <td>127.300492</td>\n",
       "      <td>POINT (127.300492 36.594863)</td>\n",
       "      <td>세종경찰서</td>\n",
       "    </tr>\n",
       "    <tr>\n",
       "      <th>3</th>\n",
       "      <td>3</td>\n",
       "      <td>세종특별자치시 조치원읍 명리82</td>\n",
       "      <td>다목적</td>\n",
       "      <td>3</td>\n",
       "      <td>NaN</td>\n",
       "      <td>36.600620</td>\n",
       "      <td>127.301301</td>\n",
       "      <td>POINT (127.301301 36.60062)</td>\n",
       "      <td>세종경찰서</td>\n",
       "    </tr>\n",
       "    <tr>\n",
       "      <th>4</th>\n",
       "      <td>4</td>\n",
       "      <td>세종특별자치시 조치원읍 상리18-10</td>\n",
       "      <td>다목적</td>\n",
       "      <td>4</td>\n",
       "      <td>NaN</td>\n",
       "      <td>36.602434</td>\n",
       "      <td>127.303145</td>\n",
       "      <td>POINT (127.3031453 36.6024343)</td>\n",
       "      <td>세종경찰서</td>\n",
       "    </tr>\n",
       "  </tbody>\n",
       "</table>\n",
       "</div>"
      ],
      "text/plain": [
       "   Unnamed: 0                address purpose  cctv_cnt set_yr        lat  \\\n",
       "0           0  세종특별자치시 조치원읍 교리 129-1     다목적         3    NaN  36.605060   \n",
       "1           1     세종특별자치시 조치원읍 남리144     다목적         2    NaN  36.597678   \n",
       "2           2    세종특별자치시 조치원읍 남리 425     다목적         3    NaN  36.594863   \n",
       "3           3      세종특별자치시 조치원읍 명리82     다목적         3    NaN  36.600620   \n",
       "4           4   세종특별자치시 조치원읍 상리18-10     다목적         4    NaN  36.602434   \n",
       "\n",
       "          lon                        geometry jur_stn  \n",
       "0  127.296286   POINT (127.296286 36.6050595)   세종경찰서  \n",
       "1  127.302452   POINT (127.3024523 36.597678)   세종경찰서  \n",
       "2  127.300492    POINT (127.300492 36.594863)   세종경찰서  \n",
       "3  127.301301     POINT (127.301301 36.60062)   세종경찰서  \n",
       "4  127.303145  POINT (127.3031453 36.6024343)   세종경찰서  "
      ]
     },
     "execution_count": 52,
     "metadata": {},
     "output_type": "execute_result"
    }
   ],
   "source": [
    "cctv_con = pd.read_csv('./cctv_con.csv')\n",
    "cctv_con.head()"
   ]
  },
  {
   "cell_type": "code",
   "execution_count": 81,
   "id": "tired-infrastructure",
   "metadata": {},
   "outputs": [
    {
     "data": {
      "text/html": [
       "<div>\n",
       "<style scoped>\n",
       "    .dataframe tbody tr th:only-of-type {\n",
       "        vertical-align: middle;\n",
       "    }\n",
       "\n",
       "    .dataframe tbody tr th {\n",
       "        vertical-align: top;\n",
       "    }\n",
       "\n",
       "    .dataframe thead th {\n",
       "        text-align: right;\n",
       "    }\n",
       "</style>\n",
       "<table border=\"1\" class=\"dataframe\">\n",
       "  <thead>\n",
       "    <tr style=\"text-align: right;\">\n",
       "      <th></th>\n",
       "      <th>Unnamed: 0</th>\n",
       "      <th>bell_us</th>\n",
       "      <th>bell_set_fac</th>\n",
       "      <th>bell_loc</th>\n",
       "      <th>bell_set_yr</th>\n",
       "      <th>geometry</th>\n",
       "      <th>jur_stn</th>\n",
       "    </tr>\n",
       "  </thead>\n",
       "  <tbody>\n",
       "    <tr>\n",
       "      <th>0</th>\n",
       "      <td>0</td>\n",
       "      <td>기타</td>\n",
       "      <td>화장실</td>\n",
       "      <td>오가낭뜰 근린공원(간이)</td>\n",
       "      <td>2017</td>\n",
       "      <td>MULTIPOINT (127.2488021850586 36.51229858398438)</td>\n",
       "      <td>세종경찰서</td>\n",
       "    </tr>\n",
       "    <tr>\n",
       "      <th>1</th>\n",
       "      <td>1</td>\n",
       "      <td>기타</td>\n",
       "      <td>화장실</td>\n",
       "      <td>어진동음악분수</td>\n",
       "      <td>2017</td>\n",
       "      <td>MULTIPOINT (127.2565994262695 36.50189971923828)</td>\n",
       "      <td>세종경찰서</td>\n",
       "    </tr>\n",
       "    <tr>\n",
       "      <th>2</th>\n",
       "      <td>2</td>\n",
       "      <td>기타</td>\n",
       "      <td>화장실</td>\n",
       "      <td>제천(간이)</td>\n",
       "      <td>2017</td>\n",
       "      <td>MULTIPOINT (127.2565994262695 36.50189971923828)</td>\n",
       "      <td>세종경찰서</td>\n",
       "    </tr>\n",
       "    <tr>\n",
       "      <th>3</th>\n",
       "      <td>3</td>\n",
       "      <td>기타</td>\n",
       "      <td>화장실</td>\n",
       "      <td>도시공원1(남리도시 공원화장실1)</td>\n",
       "      <td>2017</td>\n",
       "      <td>MULTIPOINT (127.3025970458984 36.59780120849609)</td>\n",
       "      <td>세종경찰서</td>\n",
       "    </tr>\n",
       "    <tr>\n",
       "      <th>4</th>\n",
       "      <td>4</td>\n",
       "      <td>기타</td>\n",
       "      <td>화장실</td>\n",
       "      <td>부강면 전통시장 화장실</td>\n",
       "      <td>2017</td>\n",
       "      <td>MULTIPOINT (127.3674011230469 36.52949905395508)</td>\n",
       "      <td>세종경찰서</td>\n",
       "    </tr>\n",
       "  </tbody>\n",
       "</table>\n",
       "</div>"
      ],
      "text/plain": [
       "   Unnamed: 0 bell_us bell_set_fac            bell_loc  bell_set_yr  \\\n",
       "0           0      기타          화장실       오가낭뜰 근린공원(간이)         2017   \n",
       "1           1      기타          화장실             어진동음악분수         2017   \n",
       "2           2      기타          화장실              제천(간이)         2017   \n",
       "3           3      기타          화장실  도시공원1(남리도시 공원화장실1)         2017   \n",
       "4           4      기타          화장실        부강면 전통시장 화장실         2017   \n",
       "\n",
       "                                           geometry jur_stn  \n",
       "0  MULTIPOINT (127.2488021850586 36.51229858398438)   세종경찰서  \n",
       "1  MULTIPOINT (127.2565994262695 36.50189971923828)   세종경찰서  \n",
       "2  MULTIPOINT (127.2565994262695 36.50189971923828)   세종경찰서  \n",
       "3  MULTIPOINT (127.3025970458984 36.59780120849609)   세종경찰서  \n",
       "4  MULTIPOINT (127.3674011230469 36.52949905395508)   세종경찰서  "
      ]
     },
     "execution_count": 81,
     "metadata": {},
     "output_type": "execute_result"
    }
   ],
   "source": [
    "bell_con = pd.read_csv('./emergency_bell.csv')\n",
    "bell_con.head()"
   ]
  },
  {
   "cell_type": "code",
   "execution_count": 39,
   "id": "smaller-contrary",
   "metadata": {},
   "outputs": [
    {
     "data": {
      "text/html": [
       "<div>\n",
       "<style scoped>\n",
       "    .dataframe tbody tr th:only-of-type {\n",
       "        vertical-align: middle;\n",
       "    }\n",
       "\n",
       "    .dataframe tbody tr th {\n",
       "        vertical-align: top;\n",
       "    }\n",
       "\n",
       "    .dataframe thead th {\n",
       "        text-align: right;\n",
       "    }\n",
       "</style>\n",
       "<table border=\"1\" class=\"dataframe\">\n",
       "  <thead>\n",
       "    <tr style=\"text-align: right;\">\n",
       "      <th></th>\n",
       "      <th>Unnamed: 0</th>\n",
       "      <th>jur_stn</th>\n",
       "      <th>date</th>\n",
       "      <th>sgg_nm</th>\n",
       "      <th>year</th>\n",
       "      <th>age_합계</th>\n",
       "      <th>age_15세미만</th>\n",
       "      <th>age_15~64세</th>\n",
       "      <th>age_65세이상</th>\n",
       "      <th>age_평균연령</th>\n",
       "      <th>sx_rate_합계</th>\n",
       "      <th>sx_rate_15세미만</th>\n",
       "      <th>sx_rate_15~64세</th>\n",
       "      <th>sx_rate_65세이상</th>\n",
       "      <th>foreign_num</th>\n",
       "    </tr>\n",
       "  </thead>\n",
       "  <tbody>\n",
       "    <tr>\n",
       "      <th>0</th>\n",
       "      <td>0</td>\n",
       "      <td>서울중부경찰서</td>\n",
       "      <td>2017(상반기)</td>\n",
       "      <td>중구</td>\n",
       "      <td>2017.0</td>\n",
       "      <td>127896.0</td>\n",
       "      <td>11035.0</td>\n",
       "      <td>97649.0</td>\n",
       "      <td>19212.0</td>\n",
       "      <td>42.8</td>\n",
       "      <td>94.7</td>\n",
       "      <td>103.2</td>\n",
       "      <td>98.0</td>\n",
       "      <td>75.4</td>\n",
       "      <td>10265.0</td>\n",
       "    </tr>\n",
       "    <tr>\n",
       "      <th>1</th>\n",
       "      <td>1</td>\n",
       "      <td>서울종로경찰서</td>\n",
       "      <td>2017(상반기)</td>\n",
       "      <td>종로구</td>\n",
       "      <td>2017.0</td>\n",
       "      <td>157277.0</td>\n",
       "      <td>13733.0</td>\n",
       "      <td>119870.0</td>\n",
       "      <td>23674.0</td>\n",
       "      <td>42.1</td>\n",
       "      <td>95.1</td>\n",
       "      <td>104.9</td>\n",
       "      <td>98.1</td>\n",
       "      <td>76.6</td>\n",
       "      <td>10979.0</td>\n",
       "    </tr>\n",
       "    <tr>\n",
       "      <th>2</th>\n",
       "      <td>2</td>\n",
       "      <td>서울남대문경찰서</td>\n",
       "      <td>2017(상반기)</td>\n",
       "      <td>중구</td>\n",
       "      <td>2017.0</td>\n",
       "      <td>127896.0</td>\n",
       "      <td>11035.0</td>\n",
       "      <td>97649.0</td>\n",
       "      <td>19212.0</td>\n",
       "      <td>42.8</td>\n",
       "      <td>94.7</td>\n",
       "      <td>103.2</td>\n",
       "      <td>98.0</td>\n",
       "      <td>75.4</td>\n",
       "      <td>10265.0</td>\n",
       "    </tr>\n",
       "    <tr>\n",
       "      <th>3</th>\n",
       "      <td>3</td>\n",
       "      <td>서울서대문경찰서</td>\n",
       "      <td>2017(상반기)</td>\n",
       "      <td>서대문구</td>\n",
       "      <td>2017.0</td>\n",
       "      <td>321345.0</td>\n",
       "      <td>32337.0</td>\n",
       "      <td>242443.0</td>\n",
       "      <td>46565.0</td>\n",
       "      <td>41.3</td>\n",
       "      <td>88.8</td>\n",
       "      <td>102.8</td>\n",
       "      <td>90.2</td>\n",
       "      <td>73.6</td>\n",
       "      <td>13152.0</td>\n",
       "    </tr>\n",
       "    <tr>\n",
       "      <th>4</th>\n",
       "      <td>4</td>\n",
       "      <td>서울혜화경찰서</td>\n",
       "      <td>2017(상반기)</td>\n",
       "      <td>종로구</td>\n",
       "      <td>2017.0</td>\n",
       "      <td>157277.0</td>\n",
       "      <td>13733.0</td>\n",
       "      <td>119870.0</td>\n",
       "      <td>23674.0</td>\n",
       "      <td>42.1</td>\n",
       "      <td>95.1</td>\n",
       "      <td>104.9</td>\n",
       "      <td>98.1</td>\n",
       "      <td>76.6</td>\n",
       "      <td>10979.0</td>\n",
       "    </tr>\n",
       "  </tbody>\n",
       "</table>\n",
       "</div>"
      ],
      "text/plain": [
       "   Unnamed: 0   jur_stn       date sgg_nm    year    age_합계  age_15세미만  \\\n",
       "0           0   서울중부경찰서  2017(상반기)     중구  2017.0  127896.0    11035.0   \n",
       "1           1   서울종로경찰서  2017(상반기)    종로구  2017.0  157277.0    13733.0   \n",
       "2           2  서울남대문경찰서  2017(상반기)     중구  2017.0  127896.0    11035.0   \n",
       "3           3  서울서대문경찰서  2017(상반기)   서대문구  2017.0  321345.0    32337.0   \n",
       "4           4   서울혜화경찰서  2017(상반기)    종로구  2017.0  157277.0    13733.0   \n",
       "\n",
       "   age_15~64세  age_65세이상  age_평균연령  sx_rate_합계  sx_rate_15세미만  sx_rate_15~64세  \\\n",
       "0     97649.0    19212.0      42.8        94.7          103.2            98.0   \n",
       "1    119870.0    23674.0      42.1        95.1          104.9            98.1   \n",
       "2     97649.0    19212.0      42.8        94.7          103.2            98.0   \n",
       "3    242443.0    46565.0      41.3        88.8          102.8            90.2   \n",
       "4    119870.0    23674.0      42.1        95.1          104.9            98.1   \n",
       "\n",
       "   sx_rate_65세이상  foreign_num  \n",
       "0           75.4      10265.0  \n",
       "1           76.6      10979.0  \n",
       "2           75.4      10265.0  \n",
       "3           73.6      13152.0  \n",
       "4           76.6      10979.0  "
      ]
     },
     "execution_count": 39,
     "metadata": {},
     "output_type": "execute_result"
    }
   ],
   "source": [
    "pop_df= pd.read_csv('./인구정보종합.csv')\n",
    "pop_df.head()"
   ]
  },
  {
   "cell_type": "markdown",
   "id": "present-project",
   "metadata": {},
   "source": [
    "# ----------------------------------------------------"
   ]
  },
  {
   "cell_type": "markdown",
   "id": "better-rough",
   "metadata": {},
   "source": [
    "## ※ 목표 Q1 ~ Q5 예측 시 X값으로 보안등, 비상벨, CCTV 개수를 활용\n",
    "- 0.1, 0.2 에서 관할서 넣은 csv file을 로드하여 관할서별 상,하반기 count"
   ]
  },
  {
   "cell_type": "markdown",
   "id": "governing-inspection",
   "metadata": {},
   "source": [
    "### 1. 보안등"
   ]
  },
  {
   "cell_type": "code",
   "execution_count": 27,
   "id": "identical-blackjack",
   "metadata": {
    "scrolled": true
   },
   "outputs": [
    {
     "data": {
      "text/html": [
       "<div>\n",
       "<style scoped>\n",
       "    .dataframe tbody tr th:only-of-type {\n",
       "        vertical-align: middle;\n",
       "    }\n",
       "\n",
       "    .dataframe tbody tr th {\n",
       "        vertical-align: top;\n",
       "    }\n",
       "\n",
       "    .dataframe thead th {\n",
       "        text-align: right;\n",
       "    }\n",
       "</style>\n",
       "<table border=\"1\" class=\"dataframe\">\n",
       "  <thead>\n",
       "    <tr style=\"text-align: right;\">\n",
       "      <th></th>\n",
       "      <th>jur_stn</th>\n",
       "      <th>light_cnt</th>\n",
       "    </tr>\n",
       "  </thead>\n",
       "  <tbody>\n",
       "    <tr>\n",
       "      <th>0</th>\n",
       "      <td>마산동부경찰서</td>\n",
       "      <td>5647</td>\n",
       "    </tr>\n",
       "    <tr>\n",
       "      <th>1</th>\n",
       "      <td>마산중부경찰서</td>\n",
       "      <td>6821</td>\n",
       "    </tr>\n",
       "    <tr>\n",
       "      <th>2</th>\n",
       "      <td>서울강남경찰서</td>\n",
       "      <td>5029</td>\n",
       "    </tr>\n",
       "    <tr>\n",
       "      <th>3</th>\n",
       "      <td>서울강동경찰서</td>\n",
       "      <td>7500</td>\n",
       "    </tr>\n",
       "    <tr>\n",
       "      <th>4</th>\n",
       "      <td>서울강북경찰서</td>\n",
       "      <td>8431</td>\n",
       "    </tr>\n",
       "  </tbody>\n",
       "</table>\n",
       "</div>"
      ],
      "text/plain": [
       "   jur_stn  light_cnt\n",
       "0  마산동부경찰서       5647\n",
       "1  마산중부경찰서       6821\n",
       "2  서울강남경찰서       5029\n",
       "3  서울강동경찰서       7500\n",
       "4  서울강북경찰서       8431"
      ]
     },
     "execution_count": 27,
     "metadata": {},
     "output_type": "execute_result"
    }
   ],
   "source": [
    "# 보안등 개수 (light_cnt) 관할서별 count\n",
    "sec_cnt = security_con.groupby('jur_stn').sum()[['light_cnt']]\n",
    "sec_cnt.reset_index(inplace=True)\n",
    "sec_cnt.head()"
   ]
  },
  {
   "cell_type": "code",
   "execution_count": 28,
   "id": "motivated-rebound",
   "metadata": {},
   "outputs": [
    {
     "data": {
      "text/plain": [
       "39"
      ]
     },
     "execution_count": 28,
     "metadata": {},
     "output_type": "execute_result"
    }
   ],
   "source": [
    "len(sec_cnt['jur_stn'].unique()) # 2개 관할서 누락되어있음"
   ]
  },
  {
   "cell_type": "code",
   "execution_count": 29,
   "id": "trained-reader",
   "metadata": {},
   "outputs": [
    {
     "data": {
      "text/plain": [
       "count       39.000000\n",
       "mean      5985.256410\n",
       "std       2530.969512\n",
       "min          1.000000\n",
       "25%       4143.000000\n",
       "50%       6153.000000\n",
       "75%       7722.000000\n",
       "max      11882.000000\n",
       "Name: light_cnt, dtype: float64"
      ]
     },
     "execution_count": 29,
     "metadata": {},
     "output_type": "execute_result"
    }
   ],
   "source": [
    "# data check\n",
    "sec_cnt['light_cnt'].describe()"
   ]
  },
  {
   "cell_type": "code",
   "execution_count": 30,
   "id": "mineral-james",
   "metadata": {
    "scrolled": true
   },
   "outputs": [
    {
     "data": {
      "text/plain": [
       "<AxesSubplot:>"
      ]
     },
     "execution_count": 30,
     "metadata": {},
     "output_type": "execute_result"
    },
    {
     "data": {
      "image/png": "[encoded data removed]",
      "text/plain": [
       "<Figure size 432x288 with 1 Axes>"
      ]
     },
     "metadata": {
      "needs_background": "light"
     },
     "output_type": "display_data"
    }
   ],
   "source": [
    "sec_cnt['light_cnt'].describe().plot(kind='box')"
   ]
  },
  {
   "cell_type": "code",
   "execution_count": 33,
   "id": "running-pepper",
   "metadata": {},
   "outputs": [
    {
     "name": "stdout",
     "output_type": "stream",
     "text": [
      "비수도권 평균 : 5558.3\n"
     ]
    }
   ],
   "source": [
    "# 비수도권 현황 확인\n",
    "not_seoul = sec_cnt.drop(sec_cnt[sec_cnt['jur_stn'].str.contains('서울')].index)\n",
    "print('비수도권 평균 :' , not_seoul['light_cnt'].mean())"
   ]
  },
  {
   "cell_type": "code",
   "execution_count": 48,
   "id": "endangered-religion",
   "metadata": {},
   "outputs": [
    {
     "name": "stdout",
     "output_type": "stream",
     "text": [
      "수도권 평균 : 6300.137931034483\n"
     ]
    }
   ],
   "source": [
    "# 서울권 현황 확인\n",
    "seoul = sec_cnt[sec_cnt['jur_stn'].str.contains('서울')]\n",
    "print('수도권 평균 :' , seoul['light_cnt'].mean())"
   ]
  },
  {
   "cell_type": "code",
   "execution_count": 38,
   "id": "after-delaware",
   "metadata": {},
   "outputs": [
    {
     "data": {
      "text/html": [
       "<div>\n",
       "<style scoped>\n",
       "    .dataframe tbody tr th:only-of-type {\n",
       "        vertical-align: middle;\n",
       "    }\n",
       "\n",
       "    .dataframe tbody tr th {\n",
       "        vertical-align: top;\n",
       "    }\n",
       "\n",
       "    .dataframe thead th {\n",
       "        text-align: right;\n",
       "    }\n",
       "</style>\n",
       "<table border=\"1\" class=\"dataframe\">\n",
       "  <thead>\n",
       "    <tr style=\"text-align: right;\">\n",
       "      <th></th>\n",
       "      <th>jur_stn</th>\n",
       "      <th>light_cnt</th>\n",
       "    </tr>\n",
       "  </thead>\n",
       "  <tbody>\n",
       "    <tr>\n",
       "      <th>13</th>\n",
       "      <td>서울동대문경찰서</td>\n",
       "      <td>1</td>\n",
       "    </tr>\n",
       "    <tr>\n",
       "      <th>10</th>\n",
       "      <td>서울남대문경찰서</td>\n",
       "      <td>1137</td>\n",
       "    </tr>\n",
       "    <tr>\n",
       "      <th>38</th>\n",
       "      <td>창원중부경찰서</td>\n",
       "      <td>2895</td>\n",
       "    </tr>\n",
       "    <tr>\n",
       "      <th>22</th>\n",
       "      <td>서울수서경찰서</td>\n",
       "      <td>3031</td>\n",
       "    </tr>\n",
       "    <tr>\n",
       "      <th>36</th>\n",
       "      <td>진해경찰서</td>\n",
       "      <td>3218</td>\n",
       "    </tr>\n",
       "  </tbody>\n",
       "</table>\n",
       "</div>"
      ],
      "text/plain": [
       "     jur_stn  light_cnt\n",
       "13  서울동대문경찰서          1\n",
       "10  서울남대문경찰서       1137\n",
       "38   창원중부경찰서       2895\n",
       "22   서울수서경찰서       3031\n",
       "36     진해경찰서       3218"
      ]
     },
     "execution_count": 38,
     "metadata": {},
     "output_type": "execute_result"
    }
   ],
   "source": [
    "sec_cnt[sec_cnt['light_cnt'] < 4000].sort_values('light_cnt').head() # 4000 이하 값 확인(하위 25% 미만)\n",
    "# --> 지나치게 낮은 값이 발견됨.(동대문 1, 남대문 1137)"
   ]
  },
  {
   "cell_type": "code",
   "execution_count": 41,
   "id": "checked-panel",
   "metadata": {},
   "outputs": [],
   "source": [
    "### light_cnt 수치 교정\n",
    "sec_cnt['light_cnt'] = sec_cnt['light_cnt'].apply(lambda x : 3000 if x < 3000 else x)\n",
    "#sec_cnt['light_cnt'].fillna(3000, inplace=True)"
   ]
  },
  {
   "cell_type": "markdown",
   "id": "welcome-arrow",
   "metadata": {},
   "source": [
    "#### merge"
   ]
  },
  {
   "cell_type": "code",
   "execution_count": 43,
   "id": "statistical-federation",
   "metadata": {},
   "outputs": [
    {
     "data": {
      "text/html": [
       "<div>\n",
       "<style scoped>\n",
       "    .dataframe tbody tr th:only-of-type {\n",
       "        vertical-align: middle;\n",
       "    }\n",
       "\n",
       "    .dataframe tbody tr th {\n",
       "        vertical-align: top;\n",
       "    }\n",
       "\n",
       "    .dataframe thead th {\n",
       "        text-align: right;\n",
       "    }\n",
       "</style>\n",
       "<table border=\"1\" class=\"dataframe\">\n",
       "  <thead>\n",
       "    <tr style=\"text-align: right;\">\n",
       "      <th></th>\n",
       "      <th>jur_stn</th>\n",
       "      <th>date</th>\n",
       "      <th>light_cnt</th>\n",
       "    </tr>\n",
       "  </thead>\n",
       "  <tbody>\n",
       "    <tr>\n",
       "      <th>0</th>\n",
       "      <td>서울중부경찰서</td>\n",
       "      <td>2017(상반기)</td>\n",
       "      <td>4933.0</td>\n",
       "    </tr>\n",
       "    <tr>\n",
       "      <th>1</th>\n",
       "      <td>서울종로경찰서</td>\n",
       "      <td>2017(상반기)</td>\n",
       "      <td>5259.0</td>\n",
       "    </tr>\n",
       "    <tr>\n",
       "      <th>2</th>\n",
       "      <td>서울남대문경찰서</td>\n",
       "      <td>2017(상반기)</td>\n",
       "      <td>3000.0</td>\n",
       "    </tr>\n",
       "    <tr>\n",
       "      <th>3</th>\n",
       "      <td>서울서대문경찰서</td>\n",
       "      <td>2017(상반기)</td>\n",
       "      <td>6938.0</td>\n",
       "    </tr>\n",
       "    <tr>\n",
       "      <th>4</th>\n",
       "      <td>서울혜화경찰서</td>\n",
       "      <td>2017(상반기)</td>\n",
       "      <td>4256.0</td>\n",
       "    </tr>\n",
       "  </tbody>\n",
       "</table>\n",
       "</div>"
      ],
      "text/plain": [
       "    jur_stn       date  light_cnt\n",
       "0   서울중부경찰서  2017(상반기)     4933.0\n",
       "1   서울종로경찰서  2017(상반기)     5259.0\n",
       "2  서울남대문경찰서  2017(상반기)     3000.0\n",
       "3  서울서대문경찰서  2017(상반기)     6938.0\n",
       "4   서울혜화경찰서  2017(상반기)     4256.0"
      ]
     },
     "execution_count": 43,
     "metadata": {},
     "output_type": "execute_result"
    }
   ],
   "source": [
    "# 관할서별 상, 하반기 구분을 위해 pop data의 jur_stn, date 컬럼과 merge 함\n",
    "sec_df = pd.merge(pop_df[['jur_stn','date']] , sec_cnt , on='jur_stn' ,how='left')\n",
    "sec_df.head()"
   ]
  },
  {
   "cell_type": "code",
   "execution_count": 44,
   "id": "casual-clinic",
   "metadata": {},
   "outputs": [
    {
     "data": {
      "text/plain": [
       "2020(상반기)    41\n",
       "2019(상반기)    41\n",
       "2017(하반기)    41\n",
       "2020(하반기)    41\n",
       "2018(상반기)    41\n",
       "2017(상반기)    41\n",
       "2018(하반기)    41\n",
       "2019(하반기)    41\n",
       "Name: date, dtype: int64"
      ]
     },
     "execution_count": 44,
     "metadata": {},
     "output_type": "execute_result"
    }
   ],
   "source": [
    "sec_df['date'].value_counts()"
   ]
  },
  {
   "cell_type": "code",
   "execution_count": 45,
   "id": "premium-baseball",
   "metadata": {},
   "outputs": [
    {
     "data": {
      "text/plain": [
       "jur_stn       0\n",
       "date          0\n",
       "light_cnt    16\n",
       "dtype: int64"
      ]
     },
     "execution_count": 45,
     "metadata": {},
     "output_type": "execute_result"
    }
   ],
   "source": [
    "## NA check\n",
    "sec_df.isnull().sum()"
   ]
  },
  {
   "cell_type": "code",
   "execution_count": 47,
   "id": "regular-canberra",
   "metadata": {
    "scrolled": true
   },
   "outputs": [
    {
     "data": {
      "text/html": [
       "<div>\n",
       "<style scoped>\n",
       "    .dataframe tbody tr th:only-of-type {\n",
       "        vertical-align: middle;\n",
       "    }\n",
       "\n",
       "    .dataframe tbody tr th {\n",
       "        vertical-align: top;\n",
       "    }\n",
       "\n",
       "    .dataframe thead th {\n",
       "        text-align: right;\n",
       "    }\n",
       "</style>\n",
       "<table border=\"1\" class=\"dataframe\">\n",
       "  <thead>\n",
       "    <tr style=\"text-align: right;\">\n",
       "      <th></th>\n",
       "      <th>jur_stn</th>\n",
       "      <th>date</th>\n",
       "      <th>light_cnt</th>\n",
       "    </tr>\n",
       "  </thead>\n",
       "  <tbody>\n",
       "    <tr>\n",
       "      <th>24</th>\n",
       "      <td>서울양천경찰서</td>\n",
       "      <td>2017(상반기)</td>\n",
       "      <td>NaN</td>\n",
       "    </tr>\n",
       "    <tr>\n",
       "      <th>25</th>\n",
       "      <td>서울송파경찰서</td>\n",
       "      <td>2017(상반기)</td>\n",
       "      <td>NaN</td>\n",
       "    </tr>\n",
       "    <tr>\n",
       "      <th>65</th>\n",
       "      <td>서울양천경찰서</td>\n",
       "      <td>2017(하반기)</td>\n",
       "      <td>NaN</td>\n",
       "    </tr>\n",
       "    <tr>\n",
       "      <th>66</th>\n",
       "      <td>서울송파경찰서</td>\n",
       "      <td>2017(하반기)</td>\n",
       "      <td>NaN</td>\n",
       "    </tr>\n",
       "    <tr>\n",
       "      <th>106</th>\n",
       "      <td>서울양천경찰서</td>\n",
       "      <td>2018(상반기)</td>\n",
       "      <td>NaN</td>\n",
       "    </tr>\n",
       "  </tbody>\n",
       "</table>\n",
       "</div>"
      ],
      "text/plain": [
       "     jur_stn       date  light_cnt\n",
       "24   서울양천경찰서  2017(상반기)        NaN\n",
       "25   서울송파경찰서  2017(상반기)        NaN\n",
       "65   서울양천경찰서  2017(하반기)        NaN\n",
       "66   서울송파경찰서  2017(하반기)        NaN\n",
       "106  서울양천경찰서  2018(상반기)        NaN"
      ]
     },
     "execution_count": 47,
     "metadata": {},
     "output_type": "execute_result"
    }
   ],
   "source": [
    "sec_df[sec_df['light_cnt'].isnull()].head()\n",
    "# --> 서울송파, 서울양천 데이터가 비어있음"
   ]
  },
  {
   "cell_type": "code",
   "execution_count": 49,
   "id": "analyzed-monitoring",
   "metadata": {},
   "outputs": [
    {
     "data": {
      "text/plain": [
       "0"
      ]
     },
     "execution_count": 49,
     "metadata": {},
     "output_type": "execute_result"
    }
   ],
   "source": [
    "# fill na --> 수도권 평균으로 fillNa\n",
    "sec_df.fillna(seoul['light_cnt'].mean(), inplace=True)\n",
    "sec_df.isnull().sum().sum()"
   ]
  },
  {
   "cell_type": "code",
   "execution_count": null,
   "id": "critical-utility",
   "metadata": {},
   "outputs": [],
   "source": []
  },
  {
   "cell_type": "code",
   "execution_count": null,
   "id": "advised-warren",
   "metadata": {},
   "outputs": [],
   "source": []
  },
  {
   "cell_type": "markdown",
   "id": "annoying-destruction",
   "metadata": {},
   "source": [
    "### 2. CCTV"
   ]
  },
  {
   "cell_type": "code",
   "execution_count": 53,
   "id": "suffering-montreal",
   "metadata": {},
   "outputs": [
    {
     "data": {
      "text/html": [
       "<div>\n",
       "<style scoped>\n",
       "    .dataframe tbody tr th:only-of-type {\n",
       "        vertical-align: middle;\n",
       "    }\n",
       "\n",
       "    .dataframe tbody tr th {\n",
       "        vertical-align: top;\n",
       "    }\n",
       "\n",
       "    .dataframe thead th {\n",
       "        text-align: right;\n",
       "    }\n",
       "</style>\n",
       "<table border=\"1\" class=\"dataframe\">\n",
       "  <thead>\n",
       "    <tr style=\"text-align: right;\">\n",
       "      <th></th>\n",
       "      <th>jur_stn</th>\n",
       "      <th>cctv_cnt</th>\n",
       "    </tr>\n",
       "  </thead>\n",
       "  <tbody>\n",
       "    <tr>\n",
       "      <th>0</th>\n",
       "      <td>마산동부경찰서</td>\n",
       "      <td>1218</td>\n",
       "    </tr>\n",
       "    <tr>\n",
       "      <th>1</th>\n",
       "      <td>마산중부경찰서</td>\n",
       "      <td>911</td>\n",
       "    </tr>\n",
       "    <tr>\n",
       "      <th>2</th>\n",
       "      <td>서울강남경찰서</td>\n",
       "      <td>3095</td>\n",
       "    </tr>\n",
       "    <tr>\n",
       "      <th>3</th>\n",
       "      <td>서울강북경찰서</td>\n",
       "      <td>2299</td>\n",
       "    </tr>\n",
       "    <tr>\n",
       "      <th>4</th>\n",
       "      <td>서울강서경찰서</td>\n",
       "      <td>2377</td>\n",
       "    </tr>\n",
       "  </tbody>\n",
       "</table>\n",
       "</div>"
      ],
      "text/plain": [
       "   jur_stn  cctv_cnt\n",
       "0  마산동부경찰서      1218\n",
       "1  마산중부경찰서       911\n",
       "2  서울강남경찰서      3095\n",
       "3  서울강북경찰서      2299\n",
       "4  서울강서경찰서      2377"
      ]
     },
     "execution_count": 53,
     "metadata": {},
     "output_type": "execute_result"
    }
   ],
   "source": [
    "# cctv 개수 (cctv_cnt) 관할서별 count\n",
    "cctv_cnt = cctv_con.groupby('jur_stn').sum()[['cctv_cnt']]\n",
    "cctv_cnt.reset_index(inplace=True)\n",
    "cctv_cnt.head()"
   ]
  },
  {
   "cell_type": "code",
   "execution_count": 55,
   "id": "northern-aging",
   "metadata": {},
   "outputs": [
    {
     "data": {
      "text/plain": [
       "40"
      ]
     },
     "execution_count": 55,
     "metadata": {},
     "output_type": "execute_result"
    }
   ],
   "source": [
    "len(cctv_cnt['jur_stn'].unique()) # 관할서 한개 비어있음"
   ]
  },
  {
   "cell_type": "code",
   "execution_count": 58,
   "id": "associate-palestine",
   "metadata": {
    "scrolled": true
   },
   "outputs": [
    {
     "data": {
      "text/plain": [
       "count      40.000000\n",
       "mean     2483.550000\n",
       "std      1417.847465\n",
       "min        10.000000\n",
       "25%      1529.500000\n",
       "50%      2308.000000\n",
       "75%      3153.250000\n",
       "max      6459.000000\n",
       "Name: cctv_cnt, dtype: float64"
      ]
     },
     "execution_count": 58,
     "metadata": {},
     "output_type": "execute_result"
    }
   ],
   "source": [
    "# data check\n",
    "cctv_cnt['cctv_cnt'].describe()"
   ]
  },
  {
   "cell_type": "code",
   "execution_count": 59,
   "id": "cardiovascular-matrix",
   "metadata": {},
   "outputs": [
    {
     "data": {
      "text/plain": [
       "<AxesSubplot:>"
      ]
     },
     "execution_count": 59,
     "metadata": {},
     "output_type": "execute_result"
    },
    {
     "data": {
      "image/png": "[encoded data removed]",
      "text/plain": [
       "<Figure size 432x288 with 1 Axes>"
      ]
     },
     "metadata": {
      "needs_background": "light"
     },
     "output_type": "display_data"
    }
   ],
   "source": [
    "cctv_cnt['cctv_cnt'].describe().plot(kind='box')"
   ]
  },
  {
   "cell_type": "code",
   "execution_count": 63,
   "id": "german-integrity",
   "metadata": {},
   "outputs": [
    {
     "name": "stdout",
     "output_type": "stream",
     "text": [
      "비수도권 평균 : 2306.3\n"
     ]
    }
   ],
   "source": [
    "# 비수도권 현황 확인\n",
    "not_seoul = cctv_cnt.drop(cctv_cnt[cctv_cnt['jur_stn'].str.contains('서울')].index)\n",
    "print('비수도권 평균 :' , not_seoul['cctv_cnt'].mean())"
   ]
  },
  {
   "cell_type": "code",
   "execution_count": 65,
   "id": "maritime-large",
   "metadata": {},
   "outputs": [
    {
     "name": "stdout",
     "output_type": "stream",
     "text": [
      "수도권 평균 : 2542.633333333333\n"
     ]
    }
   ],
   "source": [
    "# 서울권 현황 확인\n",
    "seoul = cctv_cnt[cctv_cnt['jur_stn'].str.contains('서울')]\n",
    "print('수도권 평균 :' , seoul['cctv_cnt'].mean())"
   ]
  },
  {
   "cell_type": "code",
   "execution_count": 62,
   "id": "intense-innocent",
   "metadata": {},
   "outputs": [
    {
     "data": {
      "text/html": [
       "<div>\n",
       "<style scoped>\n",
       "    .dataframe tbody tr th:only-of-type {\n",
       "        vertical-align: middle;\n",
       "    }\n",
       "\n",
       "    .dataframe tbody tr th {\n",
       "        vertical-align: top;\n",
       "    }\n",
       "\n",
       "    .dataframe thead th {\n",
       "        text-align: right;\n",
       "    }\n",
       "</style>\n",
       "<table border=\"1\" class=\"dataframe\">\n",
       "  <thead>\n",
       "    <tr style=\"text-align: right;\">\n",
       "      <th></th>\n",
       "      <th>jur_stn</th>\n",
       "      <th>cctv_cnt</th>\n",
       "    </tr>\n",
       "  </thead>\n",
       "  <tbody>\n",
       "    <tr>\n",
       "      <th>0</th>\n",
       "      <td>마산동부경찰서</td>\n",
       "      <td>1218</td>\n",
       "    </tr>\n",
       "    <tr>\n",
       "      <th>1</th>\n",
       "      <td>마산중부경찰서</td>\n",
       "      <td>911</td>\n",
       "    </tr>\n",
       "    <tr>\n",
       "      <th>9</th>\n",
       "      <td>서울남대문경찰서</td>\n",
       "      <td>725</td>\n",
       "    </tr>\n",
       "    <tr>\n",
       "      <th>11</th>\n",
       "      <td>서울도봉경찰서</td>\n",
       "      <td>10</td>\n",
       "    </tr>\n",
       "    <tr>\n",
       "      <th>12</th>\n",
       "      <td>서울동대문경찰서</td>\n",
       "      <td>26</td>\n",
       "    </tr>\n",
       "  </tbody>\n",
       "</table>\n",
       "</div>"
      ],
      "text/plain": [
       "     jur_stn  cctv_cnt\n",
       "0    마산동부경찰서      1218\n",
       "1    마산중부경찰서       911\n",
       "9   서울남대문경찰서       725\n",
       "11   서울도봉경찰서        10\n",
       "12  서울동대문경찰서        26"
      ]
     },
     "execution_count": 62,
     "metadata": {},
     "output_type": "execute_result"
    }
   ],
   "source": [
    "cctv_cnt[cctv_cnt['cctv_cnt']<1500].head() # 1500 이하 값 확인(하위 25% 미만)\n",
    "# --> 지나치게 낮은 값이 발견됨.(도봉, 동대문 등)"
   ]
  },
  {
   "cell_type": "code",
   "execution_count": 70,
   "id": "signal-inquiry",
   "metadata": {},
   "outputs": [],
   "source": [
    "# cctv_cnt 수치 교정\n",
    "# 1000 미만 값 1500으로 교정\n",
    "cctv_cnt['cctv_cnt'] = cctv_cnt['cctv_cnt'].apply(lambda x : 1500 if x < 1000 else x)"
   ]
  },
  {
   "cell_type": "markdown",
   "id": "mounted-awareness",
   "metadata": {},
   "source": [
    "#### merge"
   ]
  },
  {
   "cell_type": "code",
   "execution_count": 71,
   "id": "defined-convention",
   "metadata": {},
   "outputs": [
    {
     "data": {
      "text/html": [
       "<div>\n",
       "<style scoped>\n",
       "    .dataframe tbody tr th:only-of-type {\n",
       "        vertical-align: middle;\n",
       "    }\n",
       "\n",
       "    .dataframe tbody tr th {\n",
       "        vertical-align: top;\n",
       "    }\n",
       "\n",
       "    .dataframe thead th {\n",
       "        text-align: right;\n",
       "    }\n",
       "</style>\n",
       "<table border=\"1\" class=\"dataframe\">\n",
       "  <thead>\n",
       "    <tr style=\"text-align: right;\">\n",
       "      <th></th>\n",
       "      <th>jur_stn</th>\n",
       "      <th>date</th>\n",
       "      <th>cctv_cnt</th>\n",
       "    </tr>\n",
       "  </thead>\n",
       "  <tbody>\n",
       "    <tr>\n",
       "      <th>0</th>\n",
       "      <td>서울중부경찰서</td>\n",
       "      <td>2017(상반기)</td>\n",
       "      <td>1563.0</td>\n",
       "    </tr>\n",
       "    <tr>\n",
       "      <th>1</th>\n",
       "      <td>서울종로경찰서</td>\n",
       "      <td>2017(상반기)</td>\n",
       "      <td>1500.0</td>\n",
       "    </tr>\n",
       "    <tr>\n",
       "      <th>2</th>\n",
       "      <td>서울남대문경찰서</td>\n",
       "      <td>2017(상반기)</td>\n",
       "      <td>1500.0</td>\n",
       "    </tr>\n",
       "    <tr>\n",
       "      <th>3</th>\n",
       "      <td>서울서대문경찰서</td>\n",
       "      <td>2017(상반기)</td>\n",
       "      <td>2938.0</td>\n",
       "    </tr>\n",
       "    <tr>\n",
       "      <th>4</th>\n",
       "      <td>서울혜화경찰서</td>\n",
       "      <td>2017(상반기)</td>\n",
       "      <td>1500.0</td>\n",
       "    </tr>\n",
       "  </tbody>\n",
       "</table>\n",
       "</div>"
      ],
      "text/plain": [
       "    jur_stn       date  cctv_cnt\n",
       "0   서울중부경찰서  2017(상반기)    1563.0\n",
       "1   서울종로경찰서  2017(상반기)    1500.0\n",
       "2  서울남대문경찰서  2017(상반기)    1500.0\n",
       "3  서울서대문경찰서  2017(상반기)    2938.0\n",
       "4   서울혜화경찰서  2017(상반기)    1500.0"
      ]
     },
     "execution_count": 71,
     "metadata": {},
     "output_type": "execute_result"
    }
   ],
   "source": [
    "# 관할서별 상, 하반기 구분을 위해 pop data의 jur_stn, date 컬럼과 merge 함\n",
    "cctv_df = pd.merge(pop_df[['jur_stn','date']] , cctv_cnt , on='jur_stn' ,how='left')\n",
    "cctv_df.head()"
   ]
  },
  {
   "cell_type": "code",
   "execution_count": 72,
   "id": "quarterly-destruction",
   "metadata": {},
   "outputs": [
    {
     "data": {
      "text/plain": [
       "2020(상반기)    41\n",
       "2019(상반기)    41\n",
       "2017(하반기)    41\n",
       "2020(하반기)    41\n",
       "2018(상반기)    41\n",
       "2017(상반기)    41\n",
       "2018(하반기)    41\n",
       "2019(하반기)    41\n",
       "Name: date, dtype: int64"
      ]
     },
     "execution_count": 72,
     "metadata": {},
     "output_type": "execute_result"
    }
   ],
   "source": [
    "cctv_df['date'].value_counts()"
   ]
  },
  {
   "cell_type": "code",
   "execution_count": 73,
   "id": "funny-bonus",
   "metadata": {},
   "outputs": [
    {
     "data": {
      "text/plain": [
       "jur_stn     0\n",
       "date        0\n",
       "cctv_cnt    8\n",
       "dtype: int64"
      ]
     },
     "execution_count": 73,
     "metadata": {},
     "output_type": "execute_result"
    }
   ],
   "source": [
    "## NA check\n",
    "cctv_df.isnull().sum()"
   ]
  },
  {
   "cell_type": "code",
   "execution_count": 77,
   "id": "prostate-solid",
   "metadata": {
    "scrolled": true
   },
   "outputs": [
    {
     "data": {
      "text/html": [
       "<div>\n",
       "<style scoped>\n",
       "    .dataframe tbody tr th:only-of-type {\n",
       "        vertical-align: middle;\n",
       "    }\n",
       "\n",
       "    .dataframe tbody tr th {\n",
       "        vertical-align: top;\n",
       "    }\n",
       "\n",
       "    .dataframe thead th {\n",
       "        text-align: right;\n",
       "    }\n",
       "</style>\n",
       "<table border=\"1\" class=\"dataframe\">\n",
       "  <thead>\n",
       "    <tr style=\"text-align: right;\">\n",
       "      <th></th>\n",
       "      <th>jur_stn</th>\n",
       "      <th>date</th>\n",
       "      <th>cctv_cnt</th>\n",
       "    </tr>\n",
       "  </thead>\n",
       "  <tbody>\n",
       "    <tr>\n",
       "      <th>20</th>\n",
       "      <td>서울강동경찰서</td>\n",
       "      <td>2017(상반기)</td>\n",
       "      <td>NaN</td>\n",
       "    </tr>\n",
       "    <tr>\n",
       "      <th>61</th>\n",
       "      <td>서울강동경찰서</td>\n",
       "      <td>2017(하반기)</td>\n",
       "      <td>NaN</td>\n",
       "    </tr>\n",
       "    <tr>\n",
       "      <th>102</th>\n",
       "      <td>서울강동경찰서</td>\n",
       "      <td>2018(상반기)</td>\n",
       "      <td>NaN</td>\n",
       "    </tr>\n",
       "    <tr>\n",
       "      <th>143</th>\n",
       "      <td>서울강동경찰서</td>\n",
       "      <td>2018(하반기)</td>\n",
       "      <td>NaN</td>\n",
       "    </tr>\n",
       "    <tr>\n",
       "      <th>184</th>\n",
       "      <td>서울강동경찰서</td>\n",
       "      <td>2019(상반기)</td>\n",
       "      <td>NaN</td>\n",
       "    </tr>\n",
       "  </tbody>\n",
       "</table>\n",
       "</div>"
      ],
      "text/plain": [
       "     jur_stn       date  cctv_cnt\n",
       "20   서울강동경찰서  2017(상반기)       NaN\n",
       "61   서울강동경찰서  2017(하반기)       NaN\n",
       "102  서울강동경찰서  2018(상반기)       NaN\n",
       "143  서울강동경찰서  2018(하반기)       NaN\n",
       "184  서울강동경찰서  2019(상반기)       NaN"
      ]
     },
     "execution_count": 77,
     "metadata": {},
     "output_type": "execute_result"
    }
   ],
   "source": [
    "cctv_df[cctv_df['cctv_cnt'].isnull()].head()\n",
    "# --> 서울강동 데이터가 비어있음"
   ]
  },
  {
   "cell_type": "code",
   "execution_count": 78,
   "id": "funded-memory",
   "metadata": {},
   "outputs": [
    {
     "data": {
      "text/plain": [
       "0"
      ]
     },
     "execution_count": 78,
     "metadata": {},
     "output_type": "execute_result"
    }
   ],
   "source": [
    "# fill na --> 수도권 평균으로 fillNa\n",
    "cctv_df.fillna(seoul['cctv_cnt'].mean(), inplace=True)\n",
    "cctv_df.isnull().sum().sum()"
   ]
  },
  {
   "cell_type": "code",
   "execution_count": null,
   "id": "progressive-college",
   "metadata": {},
   "outputs": [],
   "source": []
  },
  {
   "cell_type": "markdown",
   "id": "continuous-passenger",
   "metadata": {},
   "source": [
    "### 3. 비상벨"
   ]
  },
  {
   "cell_type": "code",
   "execution_count": 83,
   "id": "fallen-accent",
   "metadata": {
    "scrolled": true
   },
   "outputs": [
    {
     "data": {
      "text/html": [
       "<div>\n",
       "<style scoped>\n",
       "    .dataframe tbody tr th:only-of-type {\n",
       "        vertical-align: middle;\n",
       "    }\n",
       "\n",
       "    .dataframe tbody tr th {\n",
       "        vertical-align: top;\n",
       "    }\n",
       "\n",
       "    .dataframe thead th {\n",
       "        text-align: right;\n",
       "    }\n",
       "</style>\n",
       "<table border=\"1\" class=\"dataframe\">\n",
       "  <thead>\n",
       "    <tr style=\"text-align: right;\">\n",
       "      <th></th>\n",
       "      <th>jur_stn</th>\n",
       "      <th>bell_cnt</th>\n",
       "    </tr>\n",
       "  </thead>\n",
       "  <tbody>\n",
       "    <tr>\n",
       "      <th>0</th>\n",
       "      <td>마산동부경찰서</td>\n",
       "      <td>11</td>\n",
       "    </tr>\n",
       "    <tr>\n",
       "      <th>1</th>\n",
       "      <td>마산중부경찰서</td>\n",
       "      <td>14</td>\n",
       "    </tr>\n",
       "    <tr>\n",
       "      <th>2</th>\n",
       "      <td>서울강남경찰서</td>\n",
       "      <td>649</td>\n",
       "    </tr>\n",
       "    <tr>\n",
       "      <th>3</th>\n",
       "      <td>서울강동경찰서</td>\n",
       "      <td>2</td>\n",
       "    </tr>\n",
       "    <tr>\n",
       "      <th>4</th>\n",
       "      <td>서울강북경찰서</td>\n",
       "      <td>22</td>\n",
       "    </tr>\n",
       "  </tbody>\n",
       "</table>\n",
       "</div>"
      ],
      "text/plain": [
       "   jur_stn  bell_cnt\n",
       "0  마산동부경찰서        11\n",
       "1  마산중부경찰서        14\n",
       "2  서울강남경찰서       649\n",
       "3  서울강동경찰서         2\n",
       "4  서울강북경찰서        22"
      ]
     },
     "execution_count": 83,
     "metadata": {},
     "output_type": "execute_result"
    }
   ],
   "source": [
    "# 비상벨 개수 (bell_cnt) 관할서별 count\n",
    "bell_cnt= bell_con.groupby('jur_stn').count()[['bell_us']]\n",
    "bell_cnt= bell_cnt.rename(columns={'bell_us' : 'bell_cnt'})\n",
    "bell_cnt = bell_cnt.reset_index()\n",
    "bell_cnt.head()"
   ]
  },
  {
   "cell_type": "code",
   "execution_count": 85,
   "id": "needed-today",
   "metadata": {},
   "outputs": [
    {
     "data": {
      "text/plain": [
       "40"
      ]
     },
     "execution_count": 85,
     "metadata": {},
     "output_type": "execute_result"
    }
   ],
   "source": [
    "len(bell_cnt['jur_stn'].unique()) # 1개 관할서 누락"
   ]
  },
  {
   "cell_type": "code",
   "execution_count": 87,
   "id": "italic-devices",
   "metadata": {},
   "outputs": [
    {
     "data": {
      "text/plain": [
       "count      40.000000\n",
       "mean      458.350000\n",
       "std       468.895459\n",
       "min         2.000000\n",
       "25%        39.000000\n",
       "50%       346.000000\n",
       "75%       818.500000\n",
       "max      1780.000000\n",
       "Name: bell_cnt, dtype: float64"
      ]
     },
     "execution_count": 87,
     "metadata": {},
     "output_type": "execute_result"
    }
   ],
   "source": [
    "# data check\n",
    "bell_cnt['bell_cnt'].describe()"
   ]
  },
  {
   "cell_type": "code",
   "execution_count": 89,
   "id": "threatened-treaty",
   "metadata": {
    "scrolled": true
   },
   "outputs": [
    {
     "data": {
      "text/plain": [
       "<AxesSubplot:>"
      ]
     },
     "execution_count": 89,
     "metadata": {},
     "output_type": "execute_result"
    },
    {
     "data": {
      "image/png": "[encoded data removed]",
      "text/plain": [
       "<Figure size 432x288 with 1 Axes>"
      ]
     },
     "metadata": {
      "needs_background": "light"
     },
     "output_type": "display_data"
    }
   ],
   "source": [
    "bell_cnt['bell_cnt'].describe().plot(kind='box')"
   ]
  },
  {
   "cell_type": "code",
   "execution_count": 93,
   "id": "lovely-comment",
   "metadata": {},
   "outputs": [
    {
     "name": "stdout",
     "output_type": "stream",
     "text": [
      "비수도권 평균 : 110.8\n"
     ]
    }
   ],
   "source": [
    "# 비수도권 현황 확인\n",
    "not_seoul = bell_cnt.drop(bell_cnt[bell_cnt['jur_stn'].str.contains('서울')].index)\n",
    "print('비수도권 평균 :' , not_seoul['bell_cnt'].mean())"
   ]
  },
  {
   "cell_type": "code",
   "execution_count": 94,
   "id": "surrounded-correspondence",
   "metadata": {},
   "outputs": [
    {
     "name": "stdout",
     "output_type": "stream",
     "text": [
      "수도권 평균 : 574.2\n"
     ]
    }
   ],
   "source": [
    "# 서울권 현황 확인\n",
    "seoul = bell_cnt[bell_cnt['jur_stn'].str.contains('서울')]\n",
    "print('수도권 평균 :' , seoul['bell_cnt'].mean())\n",
    "\n",
    "# --> 수도권, 비수도권 격차가 큼"
   ]
  },
  {
   "cell_type": "code",
   "execution_count": 96,
   "id": "minus-freedom",
   "metadata": {
    "scrolled": true
   },
   "outputs": [
    {
     "data": {
      "text/html": [
       "<div>\n",
       "<style scoped>\n",
       "    .dataframe tbody tr th:only-of-type {\n",
       "        vertical-align: middle;\n",
       "    }\n",
       "\n",
       "    .dataframe tbody tr th {\n",
       "        vertical-align: top;\n",
       "    }\n",
       "\n",
       "    .dataframe thead th {\n",
       "        text-align: right;\n",
       "    }\n",
       "</style>\n",
       "<table border=\"1\" class=\"dataframe\">\n",
       "  <thead>\n",
       "    <tr style=\"text-align: right;\">\n",
       "      <th></th>\n",
       "      <th>jur_stn</th>\n",
       "      <th>bell_cnt</th>\n",
       "    </tr>\n",
       "  </thead>\n",
       "  <tbody>\n",
       "    <tr>\n",
       "      <th>0</th>\n",
       "      <td>마산동부경찰서</td>\n",
       "      <td>11</td>\n",
       "    </tr>\n",
       "    <tr>\n",
       "      <th>1</th>\n",
       "      <td>마산중부경찰서</td>\n",
       "      <td>14</td>\n",
       "    </tr>\n",
       "    <tr>\n",
       "      <th>3</th>\n",
       "      <td>서울강동경찰서</td>\n",
       "      <td>2</td>\n",
       "    </tr>\n",
       "    <tr>\n",
       "      <th>4</th>\n",
       "      <td>서울강북경찰서</td>\n",
       "      <td>22</td>\n",
       "    </tr>\n",
       "    <tr>\n",
       "      <th>12</th>\n",
       "      <td>서울동대문경찰서</td>\n",
       "      <td>4</td>\n",
       "    </tr>\n",
       "  </tbody>\n",
       "</table>\n",
       "</div>"
      ],
      "text/plain": [
       "     jur_stn  bell_cnt\n",
       "0    마산동부경찰서        11\n",
       "1    마산중부경찰서        14\n",
       "3    서울강동경찰서         2\n",
       "4    서울강북경찰서        22\n",
       "12  서울동대문경찰서         4"
      ]
     },
     "execution_count": 96,
     "metadata": {},
     "output_type": "execute_result"
    }
   ],
   "source": [
    "bell_cnt[bell_cnt['bell_cnt']<40].head() # 40 이하 값 확인(하위 25% 미만)\n",
    "# --> 지나치게 낮은 값이 발견됨.(강동, 동대문 등)"
   ]
  },
  {
   "cell_type": "code",
   "execution_count": 110,
   "id": "noted-mining",
   "metadata": {},
   "outputs": [],
   "source": [
    "## bell_cnt 수치 교정\n",
    "## 비수도권은 비수도권 평균, 수도권은 수도권 평균보다 살짝 낮게 채움\n",
    "for i in not_seoul.index :\n",
    "    if bell_cnt.loc[i, 'bell_cnt'] < 100 :\n",
    "        bell_cnt.loc[i, 'bell_cnt'] = 100\n",
    "for i in seoul.index :\n",
    "    if bell_cnt.loc[i, 'bell_cnt'] < 100 :\n",
    "        bell_cnt.loc[i, 'bell_cnt'] = 450"
   ]
  },
  {
   "cell_type": "code",
   "execution_count": null,
   "id": "matched-character",
   "metadata": {},
   "outputs": [],
   "source": []
  },
  {
   "cell_type": "markdown",
   "id": "reserved-buddy",
   "metadata": {},
   "source": [
    "#### merge"
   ]
  },
  {
   "cell_type": "code",
   "execution_count": 111,
   "id": "disabled-reconstruction",
   "metadata": {},
   "outputs": [
    {
     "data": {
      "text/html": [
       "<div>\n",
       "<style scoped>\n",
       "    .dataframe tbody tr th:only-of-type {\n",
       "        vertical-align: middle;\n",
       "    }\n",
       "\n",
       "    .dataframe tbody tr th {\n",
       "        vertical-align: top;\n",
       "    }\n",
       "\n",
       "    .dataframe thead th {\n",
       "        text-align: right;\n",
       "    }\n",
       "</style>\n",
       "<table border=\"1\" class=\"dataframe\">\n",
       "  <thead>\n",
       "    <tr style=\"text-align: right;\">\n",
       "      <th></th>\n",
       "      <th>jur_stn</th>\n",
       "      <th>date</th>\n",
       "      <th>bell_cnt</th>\n",
       "    </tr>\n",
       "  </thead>\n",
       "  <tbody>\n",
       "    <tr>\n",
       "      <th>0</th>\n",
       "      <td>서울중부경찰서</td>\n",
       "      <td>2017(상반기)</td>\n",
       "      <td>406.0</td>\n",
       "    </tr>\n",
       "    <tr>\n",
       "      <th>1</th>\n",
       "      <td>서울종로경찰서</td>\n",
       "      <td>2017(상반기)</td>\n",
       "      <td>450.0</td>\n",
       "    </tr>\n",
       "    <tr>\n",
       "      <th>2</th>\n",
       "      <td>서울남대문경찰서</td>\n",
       "      <td>2017(상반기)</td>\n",
       "      <td>203.0</td>\n",
       "    </tr>\n",
       "    <tr>\n",
       "      <th>3</th>\n",
       "      <td>서울서대문경찰서</td>\n",
       "      <td>2017(상반기)</td>\n",
       "      <td>401.0</td>\n",
       "    </tr>\n",
       "    <tr>\n",
       "      <th>4</th>\n",
       "      <td>서울혜화경찰서</td>\n",
       "      <td>2017(상반기)</td>\n",
       "      <td>450.0</td>\n",
       "    </tr>\n",
       "  </tbody>\n",
       "</table>\n",
       "</div>"
      ],
      "text/plain": [
       "    jur_stn       date  bell_cnt\n",
       "0   서울중부경찰서  2017(상반기)     406.0\n",
       "1   서울종로경찰서  2017(상반기)     450.0\n",
       "2  서울남대문경찰서  2017(상반기)     203.0\n",
       "3  서울서대문경찰서  2017(상반기)     401.0\n",
       "4   서울혜화경찰서  2017(상반기)     450.0"
      ]
     },
     "execution_count": 111,
     "metadata": {},
     "output_type": "execute_result"
    }
   ],
   "source": [
    "# 관할서별 상, 하반기 구분을 위해 pop data의 jur_stn, date 컬럼과 merge 함\n",
    "bell_df = pd.merge(pop_df[['jur_stn','date']] , bell_cnt , on='jur_stn' ,how='left')\n",
    "bell_df.head()"
   ]
  },
  {
   "cell_type": "code",
   "execution_count": 112,
   "id": "supposed-lease",
   "metadata": {},
   "outputs": [
    {
     "data": {
      "text/plain": [
       "2020(상반기)    41\n",
       "2019(상반기)    41\n",
       "2017(하반기)    41\n",
       "2020(하반기)    41\n",
       "2018(상반기)    41\n",
       "2017(상반기)    41\n",
       "2018(하반기)    41\n",
       "2019(하반기)    41\n",
       "Name: date, dtype: int64"
      ]
     },
     "execution_count": 112,
     "metadata": {},
     "output_type": "execute_result"
    }
   ],
   "source": [
    "bell_df['date'].value_counts()"
   ]
  },
  {
   "cell_type": "code",
   "execution_count": 113,
   "id": "eight-motel",
   "metadata": {},
   "outputs": [
    {
     "data": {
      "text/plain": [
       "jur_stn     0\n",
       "date        0\n",
       "bell_cnt    8\n",
       "dtype: int64"
      ]
     },
     "execution_count": 113,
     "metadata": {},
     "output_type": "execute_result"
    }
   ],
   "source": [
    "## NA check\n",
    "bell_df.isnull().sum()"
   ]
  },
  {
   "cell_type": "code",
   "execution_count": 114,
   "id": "imperial-complexity",
   "metadata": {
    "scrolled": true
   },
   "outputs": [
    {
     "data": {
      "text/html": [
       "<div>\n",
       "<style scoped>\n",
       "    .dataframe tbody tr th:only-of-type {\n",
       "        vertical-align: middle;\n",
       "    }\n",
       "\n",
       "    .dataframe tbody tr th {\n",
       "        vertical-align: top;\n",
       "    }\n",
       "\n",
       "    .dataframe thead th {\n",
       "        text-align: right;\n",
       "    }\n",
       "</style>\n",
       "<table border=\"1\" class=\"dataframe\">\n",
       "  <thead>\n",
       "    <tr style=\"text-align: right;\">\n",
       "      <th></th>\n",
       "      <th>jur_stn</th>\n",
       "      <th>date</th>\n",
       "      <th>bell_cnt</th>\n",
       "    </tr>\n",
       "  </thead>\n",
       "  <tbody>\n",
       "    <tr>\n",
       "      <th>29</th>\n",
       "      <td>서울도봉경찰서</td>\n",
       "      <td>2017(상반기)</td>\n",
       "      <td>NaN</td>\n",
       "    </tr>\n",
       "    <tr>\n",
       "      <th>70</th>\n",
       "      <td>서울도봉경찰서</td>\n",
       "      <td>2017(하반기)</td>\n",
       "      <td>NaN</td>\n",
       "    </tr>\n",
       "    <tr>\n",
       "      <th>111</th>\n",
       "      <td>서울도봉경찰서</td>\n",
       "      <td>2018(상반기)</td>\n",
       "      <td>NaN</td>\n",
       "    </tr>\n",
       "    <tr>\n",
       "      <th>152</th>\n",
       "      <td>서울도봉경찰서</td>\n",
       "      <td>2018(하반기)</td>\n",
       "      <td>NaN</td>\n",
       "    </tr>\n",
       "    <tr>\n",
       "      <th>193</th>\n",
       "      <td>서울도봉경찰서</td>\n",
       "      <td>2019(상반기)</td>\n",
       "      <td>NaN</td>\n",
       "    </tr>\n",
       "  </tbody>\n",
       "</table>\n",
       "</div>"
      ],
      "text/plain": [
       "     jur_stn       date  bell_cnt\n",
       "29   서울도봉경찰서  2017(상반기)       NaN\n",
       "70   서울도봉경찰서  2017(하반기)       NaN\n",
       "111  서울도봉경찰서  2018(상반기)       NaN\n",
       "152  서울도봉경찰서  2018(하반기)       NaN\n",
       "193  서울도봉경찰서  2019(상반기)       NaN"
      ]
     },
     "execution_count": 114,
     "metadata": {},
     "output_type": "execute_result"
    }
   ],
   "source": [
    "bell_df[bell_df['bell_cnt'].isnull()].head()\n",
    "# --> 서울도봉 데이터가 비어있음"
   ]
  },
  {
   "cell_type": "code",
   "execution_count": 115,
   "id": "collective-summary",
   "metadata": {},
   "outputs": [
    {
     "data": {
      "text/plain": [
       "0"
      ]
     },
     "execution_count": 115,
     "metadata": {},
     "output_type": "execute_result"
    }
   ],
   "source": [
    "# fill na --> 수도권 평균으로 fillNa\n",
    "bell_df.fillna(seoul['bell_cnt'].mean(), inplace=True)\n",
    "bell_df.isnull().sum().sum()"
   ]
  },
  {
   "cell_type": "code",
   "execution_count": null,
   "id": "royal-navigator",
   "metadata": {},
   "outputs": [],
   "source": []
  },
  {
   "cell_type": "markdown",
   "id": "national-trial",
   "metadata": {},
   "source": [
    "## 4. 최종(Merge)"
   ]
  },
  {
   "cell_type": "code",
   "execution_count": 119,
   "id": "useful-timing",
   "metadata": {},
   "outputs": [],
   "source": [
    "# 위에서 실행하여 얻은 최종 df merge\n",
    "temp_df = pd.merge(sec_df, cctv_df, on=['jur_stn','date'])\n",
    "final_df = pd.merge(temp_df, bell_df, on=['jur_stn','date'])"
   ]
  },
  {
   "cell_type": "code",
   "execution_count": 120,
   "id": "comfortable-headline",
   "metadata": {},
   "outputs": [
    {
     "data": {
      "text/plain": [
       "2020(상반기)    41\n",
       "2019(상반기)    41\n",
       "2017(하반기)    41\n",
       "2020(하반기)    41\n",
       "2018(상반기)    41\n",
       "2017(상반기)    41\n",
       "2018(하반기)    41\n",
       "2019(하반기)    41\n",
       "Name: date, dtype: int64"
      ]
     },
     "execution_count": 120,
     "metadata": {},
     "output_type": "execute_result"
    }
   ],
   "source": [
    "final_df['date'].value_counts()"
   ]
  },
  {
   "cell_type": "code",
   "execution_count": 121,
   "id": "medieval-compression",
   "metadata": {},
   "outputs": [],
   "source": [
    "final_df.to_csv('cctv_보안등_비상벨현황.csv')"
   ]
  },
  {
   "cell_type": "code",
   "execution_count": null,
   "id": "leading-protection",
   "metadata": {},
   "outputs": [],
   "source": []
  }
 ],
 "metadata": {
  "kernelspec": {
   "display_name": "Python 3",
   "language": "python",
   "name": "python3"
  },
  "language_info": {
   "codemirror_mode": {
    "name": "ipython",
    "version": 3
   },
   "file_extension": ".py",
   "mimetype": "text/x-python",
   "name": "python",
   "nbconvert_exporter": "python",
   "pygments_lexer": "ipython3",
   "version": "3.6.9"
  }
 },
 "nbformat": 4,
 "nbformat_minor": 5
}
