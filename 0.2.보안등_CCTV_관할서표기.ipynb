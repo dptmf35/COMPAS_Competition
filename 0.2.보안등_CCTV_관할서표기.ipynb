{
 "cells": [
  {
   "cell_type": "markdown",
   "id": "first-linux",
   "metadata": {},
   "source": [
    "## Library Import"
   ]
  },
  {
   "cell_type": "code",
   "execution_count": 1,
   "id": "ranging-executive",
   "metadata": {},
   "outputs": [
    {
     "name": "stderr",
     "output_type": "stream",
     "text": [
      "/opt/app-root/lib/python3.6/site-packages/geopandas/_compat.py:110: UserWarning: The Shapely GEOS version (3.8.0-CAPI-1.13.1 ) is incompatible with the GEOS version PyGEOS was compiled with (3.9.0-CAPI-1.16.2). Conversions between both will be slow.\n",
      "  shapely_geos_version, geos_capi_version_string\n"
     ]
    }
   ],
   "source": [
    "import pandas as pd\n",
    "import geopandas as gpd\n",
    "from shapely.geometry import Point, Polygon, LineString\n",
    "import matplotlib.pyplot as plt\n",
    "import matplotlib\n",
    "import matplotlib.font_manager as fm"
   ]
  },
  {
   "cell_type": "markdown",
   "id": "nominated-richards",
   "metadata": {},
   "source": [
    "## Data Load"
   ]
  },
  {
   "cell_type": "code",
   "execution_count": 2,
   "id": "exempt-thriller",
   "metadata": {},
   "outputs": [
    {
     "data": {
      "text/html": [
       "<div>\n",
       "<style scoped>\n",
       "    .dataframe tbody tr th:only-of-type {\n",
       "        vertical-align: middle;\n",
       "    }\n",
       "\n",
       "    .dataframe tbody tr th {\n",
       "        vertical-align: top;\n",
       "    }\n",
       "\n",
       "    .dataframe thead th {\n",
       "        text-align: right;\n",
       "    }\n",
       "</style>\n",
       "<table border=\"1\" class=\"dataframe\">\n",
       "  <thead>\n",
       "    <tr style=\"text-align: right;\">\n",
       "      <th></th>\n",
       "      <th>NAME</th>\n",
       "      <th>PNAME</th>\n",
       "      <th>geometry</th>\n",
       "    </tr>\n",
       "  </thead>\n",
       "  <tbody>\n",
       "    <tr>\n",
       "      <th>0</th>\n",
       "      <td>세종경찰서</td>\n",
       "      <td>충남청</td>\n",
       "      <td>MULTIPOLYGON (((127.17202 36.73106, 127.17202 ...</td>\n",
       "    </tr>\n",
       "    <tr>\n",
       "      <th>1</th>\n",
       "      <td>진주경찰서</td>\n",
       "      <td>경남청</td>\n",
       "      <td>MULTIPOLYGON (((128.26697 35.12927, 128.26697 ...</td>\n",
       "    </tr>\n",
       "    <tr>\n",
       "      <th>2</th>\n",
       "      <td>창원서부경찰서</td>\n",
       "      <td>경남청</td>\n",
       "      <td>MULTIPOLYGON (((128.63363 35.22152, 128.63357 ...</td>\n",
       "    </tr>\n",
       "  </tbody>\n",
       "</table>\n",
       "</div>"
      ],
      "text/plain": [
       "      NAME PNAME                                           geometry\n",
       "0    세종경찰서   충남청  MULTIPOLYGON (((127.17202 36.73106, 127.17202 ...\n",
       "1    진주경찰서   경남청  MULTIPOLYGON (((128.26697 35.12927, 128.26697 ...\n",
       "2  창원서부경찰서   경남청  MULTIPOLYGON (((128.63363 35.22152, 128.63357 ..."
      ]
     },
     "execution_count": 2,
     "metadata": {},
     "output_type": "execute_result"
    }
   ],
   "source": [
    "police_border = gpd.read_file('./data/1.5개시도_경찰서_관할경계.geojson')\n",
    "police_border.head(3)"
   ]
  },
  {
   "cell_type": "code",
   "execution_count": 3,
   "id": "affected-vermont",
   "metadata": {
    "scrolled": true
   },
   "outputs": [
    {
     "data": {
      "text/html": [
       "<div>\n",
       "<style scoped>\n",
       "    .dataframe tbody tr th:only-of-type {\n",
       "        vertical-align: middle;\n",
       "    }\n",
       "\n",
       "    .dataframe tbody tr th {\n",
       "        vertical-align: top;\n",
       "    }\n",
       "\n",
       "    .dataframe thead th {\n",
       "        text-align: right;\n",
       "    }\n",
       "</style>\n",
       "<table border=\"1\" class=\"dataframe\">\n",
       "  <thead>\n",
       "    <tr style=\"text-align: right;\">\n",
       "      <th></th>\n",
       "      <th>year</th>\n",
       "      <th>address</th>\n",
       "      <th>\\nsecuritylight_cnt</th>\n",
       "      <th>lon</th>\n",
       "      <th>lat</th>\n",
       "    </tr>\n",
       "  </thead>\n",
       "  <tbody>\n",
       "    <tr>\n",
       "      <th>0</th>\n",
       "      <td>NaN</td>\n",
       "      <td>세종특별자치시 금남면 감성리 64-2</td>\n",
       "      <td>1</td>\n",
       "      <td>127.287690</td>\n",
       "      <td>36.443467</td>\n",
       "    </tr>\n",
       "    <tr>\n",
       "      <th>1</th>\n",
       "      <td>NaN</td>\n",
       "      <td>세종특별자치시 금남면 감성리 267</td>\n",
       "      <td>1</td>\n",
       "      <td>127.288812</td>\n",
       "      <td>36.444181</td>\n",
       "    </tr>\n",
       "    <tr>\n",
       "      <th>2</th>\n",
       "      <td>NaN</td>\n",
       "      <td>세종특별자치시 금남면 감성리 40-1</td>\n",
       "      <td>1</td>\n",
       "      <td>127.289575</td>\n",
       "      <td>36.444711</td>\n",
       "    </tr>\n",
       "  </tbody>\n",
       "</table>\n",
       "</div>"
      ],
      "text/plain": [
       "   year               address  \\nsecuritylight_cnt         lon        lat\n",
       "0   NaN  세종특별자치시 금남면 감성리 64-2                    1  127.287690  36.443467\n",
       "1   NaN   세종특별자치시 금남면 감성리 267                    1  127.288812  36.444181\n",
       "2   NaN  세종특별자치시 금남면 감성리 40-1                    1  127.289575  36.444711"
      ]
     },
     "execution_count": 3,
     "metadata": {},
     "output_type": "execute_result"
    }
   ],
   "source": [
    "security_con = pd.read_csv('./data/9.5개시도_보안등현황.csv')\n",
    "security_con.head(3)"
   ]
  },
  {
   "cell_type": "code",
   "execution_count": 19,
   "id": "palestinian-essence",
   "metadata": {
    "scrolled": true
   },
   "outputs": [
    {
     "data": {
      "text/html": [
       "<div>\n",
       "<style scoped>\n",
       "    .dataframe tbody tr th:only-of-type {\n",
       "        vertical-align: middle;\n",
       "    }\n",
       "\n",
       "    .dataframe tbody tr th {\n",
       "        vertical-align: top;\n",
       "    }\n",
       "\n",
       "    .dataframe thead th {\n",
       "        text-align: right;\n",
       "    }\n",
       "</style>\n",
       "<table border=\"1\" class=\"dataframe\">\n",
       "  <thead>\n",
       "    <tr style=\"text-align: right;\">\n",
       "      <th></th>\n",
       "      <th>address</th>\n",
       "      <th>purpose</th>\n",
       "      <th>cctv_cnt</th>\n",
       "      <th>set_yr</th>\n",
       "      <th>lat</th>\n",
       "      <th>lon</th>\n",
       "    </tr>\n",
       "  </thead>\n",
       "  <tbody>\n",
       "    <tr>\n",
       "      <th>0</th>\n",
       "      <td>세종특별자치시 조치원읍 교리 129-1</td>\n",
       "      <td>다목적</td>\n",
       "      <td>3</td>\n",
       "      <td>NaN</td>\n",
       "      <td>36.605059</td>\n",
       "      <td>127.296286</td>\n",
       "    </tr>\n",
       "    <tr>\n",
       "      <th>1</th>\n",
       "      <td>세종특별자치시 조치원읍 남리144</td>\n",
       "      <td>다목적</td>\n",
       "      <td>2</td>\n",
       "      <td>NaN</td>\n",
       "      <td>36.597678</td>\n",
       "      <td>127.302452</td>\n",
       "    </tr>\n",
       "    <tr>\n",
       "      <th>2</th>\n",
       "      <td>세종특별자치시 조치원읍 남리 425</td>\n",
       "      <td>다목적</td>\n",
       "      <td>3</td>\n",
       "      <td>NaN</td>\n",
       "      <td>36.594863</td>\n",
       "      <td>127.300492</td>\n",
       "    </tr>\n",
       "  </tbody>\n",
       "</table>\n",
       "</div>"
      ],
      "text/plain": [
       "                 address purpose  cctv_cnt set_yr        lat         lon\n",
       "0  세종특별자치시 조치원읍 교리 129-1     다목적         3    NaN  36.605059  127.296286\n",
       "1     세종특별자치시 조치원읍 남리144     다목적         2    NaN  36.597678  127.302452\n",
       "2    세종특별자치시 조치원읍 남리 425     다목적         3    NaN  36.594863  127.300492"
      ]
     },
     "execution_count": 19,
     "metadata": {},
     "output_type": "execute_result"
    }
   ],
   "source": [
    "cctv_con = pd.read_csv('./data/10.5개시도_CCTV설치현황.csv')\n",
    "cctv_con.head(3)"
   ]
  },
  {
   "cell_type": "markdown",
   "id": "apart-anthony",
   "metadata": {},
   "source": [
    "## ---------------------------------"
   ]
  },
  {
   "cell_type": "markdown",
   "id": "endangered-brooklyn",
   "metadata": {},
   "source": [
    "## ※ 목표 : Q1 ~ Q5 예측 시 X값으로 보안등과 CCTV 개수를 활용\n",
    "- 각 lon, lat 데이터에 해당하는 관할서를 매칭시킨 결과를 새 컬럼에 표기"
   ]
  },
  {
   "cell_type": "markdown",
   "id": "solved-algorithm",
   "metadata": {},
   "source": [
    "### 1. 보안등 현황(security con)"
   ]
  },
  {
   "cell_type": "code",
   "execution_count": 32,
   "id": "divine-material",
   "metadata": {},
   "outputs": [
    {
     "name": "stdout",
     "output_type": "stream",
     "text": [
      "<class 'geopandas.geodataframe.GeoDataFrame'>\n",
      "RangeIndex: 229405 entries, 0 to 229404\n",
      "Data columns (total 7 columns):\n",
      " #   Column     Non-Null Count   Dtype   \n",
      "---  ------     --------------   -----   \n",
      " 0   year       87225 non-null   float64 \n",
      " 1   address    218426 non-null  object  \n",
      " 2   light_cnt  229405 non-null  int64   \n",
      " 3   lon        229405 non-null  float64 \n",
      " 4   lat        229405 non-null  float64 \n",
      " 5   geometry   229405 non-null  geometry\n",
      " 6   jur_stn    229369 non-null  object  \n",
      "dtypes: float64(3), geometry(1), int64(1), object(2)\n",
      "memory usage: 12.3+ MB\n"
     ]
    }
   ],
   "source": [
    "security_con.info()"
   ]
  },
  {
   "cell_type": "code",
   "execution_count": 4,
   "id": "substantial-parade",
   "metadata": {},
   "outputs": [],
   "source": [
    "# light cnt rename\n",
    "security_con.rename(columns={'\\nsecuritylight_cnt' : 'light_cnt'}, inplace=True)"
   ]
  },
  {
   "cell_type": "code",
   "execution_count": 5,
   "id": "unsigned-territory",
   "metadata": {},
   "outputs": [
    {
     "name": "stderr",
     "output_type": "stream",
     "text": [
      "/opt/app-root/lib/python3.6/site-packages/pyproj/crs/crs.py:53: FutureWarning: '+init=<authority>:<code>' syntax is deprecated. '<authority>:<code>' is the preferred initialization method. When making the change, be mindful of axis order changes: https://pyproj4.github.io/pyproj/stable/gotchas.html#axis-order-changes-in-proj-6\n",
      "  return _prepare_from_string(\" \".join(pjargs))\n"
     ]
    }
   ],
   "source": [
    "# csv to geopandas\n",
    "# lon, lat data를 geometry로 변경\n",
    "security_con['lat'] = security_con['lat'].astype(float)\n",
    "security_con['lon'] = security_con['lon'].astype(float)\n",
    "security_con['geometry'] = security_con.apply(lambda row : Point([row['lon'], row['lat']]), axis=1)\n",
    "security_con = gpd.GeoDataFrame(security_con, geometry='geometry')\n",
    "security_con.crs = {'init':'epsg:4326'}\n",
    "security_con = security_con.to_crs({'init':'epsg:4326'}) # 좌표계 epsg : 4326"
   ]
  },
  {
   "cell_type": "code",
   "execution_count": 6,
   "id": "instrumental-nowhere",
   "metadata": {},
   "outputs": [
    {
     "data": {
      "text/html": [
       "<div>\n",
       "<style scoped>\n",
       "    .dataframe tbody tr th:only-of-type {\n",
       "        vertical-align: middle;\n",
       "    }\n",
       "\n",
       "    .dataframe tbody tr th {\n",
       "        vertical-align: top;\n",
       "    }\n",
       "\n",
       "    .dataframe thead th {\n",
       "        text-align: right;\n",
       "    }\n",
       "</style>\n",
       "<table border=\"1\" class=\"dataframe\">\n",
       "  <thead>\n",
       "    <tr style=\"text-align: right;\">\n",
       "      <th></th>\n",
       "      <th>year</th>\n",
       "      <th>address</th>\n",
       "      <th>light_cnt</th>\n",
       "      <th>lon</th>\n",
       "      <th>lat</th>\n",
       "      <th>geometry</th>\n",
       "    </tr>\n",
       "  </thead>\n",
       "  <tbody>\n",
       "    <tr>\n",
       "      <th>0</th>\n",
       "      <td>NaN</td>\n",
       "      <td>세종특별자치시 금남면 감성리 64-2</td>\n",
       "      <td>1</td>\n",
       "      <td>127.287690</td>\n",
       "      <td>36.443467</td>\n",
       "      <td>POINT (127.28769 36.44347)</td>\n",
       "    </tr>\n",
       "    <tr>\n",
       "      <th>1</th>\n",
       "      <td>NaN</td>\n",
       "      <td>세종특별자치시 금남면 감성리 267</td>\n",
       "      <td>1</td>\n",
       "      <td>127.288812</td>\n",
       "      <td>36.444181</td>\n",
       "      <td>POINT (127.28881 36.44418)</td>\n",
       "    </tr>\n",
       "    <tr>\n",
       "      <th>2</th>\n",
       "      <td>NaN</td>\n",
       "      <td>세종특별자치시 금남면 감성리 40-1</td>\n",
       "      <td>1</td>\n",
       "      <td>127.289575</td>\n",
       "      <td>36.444711</td>\n",
       "      <td>POINT (127.28957 36.44471)</td>\n",
       "    </tr>\n",
       "  </tbody>\n",
       "</table>\n",
       "</div>"
      ],
      "text/plain": [
       "   year               address  light_cnt         lon        lat  \\\n",
       "0   NaN  세종특별자치시 금남면 감성리 64-2          1  127.287690  36.443467   \n",
       "1   NaN   세종특별자치시 금남면 감성리 267          1  127.288812  36.444181   \n",
       "2   NaN  세종특별자치시 금남면 감성리 40-1          1  127.289575  36.444711   \n",
       "\n",
       "                     geometry  \n",
       "0  POINT (127.28769 36.44347)  \n",
       "1  POINT (127.28881 36.44418)  \n",
       "2  POINT (127.28957 36.44471)  "
      ]
     },
     "execution_count": 6,
     "metadata": {},
     "output_type": "execute_result"
    }
   ],
   "source": [
    "security_con.head(3)"
   ]
  },
  {
   "cell_type": "code",
   "execution_count": 7,
   "id": "dated-observer",
   "metadata": {
    "scrolled": true
   },
   "outputs": [
    {
     "data": {
      "text/plain": [
       "array(['세종경찰서', '진주경찰서', '창원서부경찰서', '창원중부경찰서', '마산동부경찰서', '마산중부경찰서',\n",
       "       '진해경찰서', '서울강동경찰서', '서울송파경찰서', '서울수서경찰서', '서울방배경찰서', '서울남대문경찰서',\n",
       "       '서울서부경찰서', '서울양천경찰서', '서울강서경찰서', '서울성북경찰서', '서울용산경찰서', '서울광진경찰서',\n",
       "       '서울종암경찰서', '수원남부경찰서', '서울동대문경찰서', '서울성동경찰서', '서울중부경찰서', '서울혜화경찰서',\n",
       "       '서울중랑경찰서', '서울강남경찰서', '서울서초경찰서', '서울서대문경찰서', '서울종로경찰서', '서울마포경찰서',\n",
       "       '수원서부경찰서', '수원중부경찰서', '서울관악경찰서', '서울동작경찰서', '서울금천경찰서', '서울구로경찰서',\n",
       "       '서울영등포경찰서', '서울도봉경찰서', '서울은평경찰서', '서울강북경찰서', '서울노원경찰서'],\n",
       "      dtype=object)"
      ]
     },
     "execution_count": 7,
     "metadata": {},
     "output_type": "execute_result"
    }
   ],
   "source": [
    "# 관할서 리스트 확인\n",
    "police_border['NAME'].unique()"
   ]
  },
  {
   "cell_type": "code",
   "execution_count": 8,
   "id": "premier-willow",
   "metadata": {},
   "outputs": [],
   "source": [
    "def detect_police_name(geometry) :\n",
    "    for i in range(len(police_border['NAME'].unique())) :    # 보안등 위치의 geometry 와 관할서의 geometry를 비교하여\n",
    "        if geometry.within(police_border.iloc[i].geometry) :             #  매칭된 관할서명을 return하는 함수\n",
    "            return police_border.iloc[i].NAME            "
   ]
  },
  {
   "cell_type": "code",
   "execution_count": 9,
   "id": "crude-membership",
   "metadata": {
    "scrolled": true
   },
   "outputs": [
    {
     "data": {
      "text/plain": [
       "'세종경찰서'"
      ]
     },
     "execution_count": 9,
     "metadata": {},
     "output_type": "execute_result"
    }
   ],
   "source": [
    "detect_police_name(security_con.iloc[0].geometry)"
   ]
  },
  {
   "cell_type": "code",
   "execution_count": 10,
   "id": "moving-disposition",
   "metadata": {},
   "outputs": [],
   "source": [
    "from tqdm import tqdm\n",
    "tqdm.pandas()"
   ]
  },
  {
   "cell_type": "code",
   "execution_count": 11,
   "id": "standing-element",
   "metadata": {},
   "outputs": [
    {
     "name": "stderr",
     "output_type": "stream",
     "text": [
      "100%|██████████| 229405/229405 [1:29:47<00:00, 42.58it/s]  \n"
     ]
    }
   ],
   "source": [
    "# 위에서 만든 함수 적용 및 결과 확인\n",
    "security_con['jur_stn'] = '' \n",
    "security_con['jur_stn'] = security_con.progress_apply(lambda x : detect_police_name(x['geometry']) , axis=1 )"
   ]
  },
  {
   "cell_type": "code",
   "execution_count": 12,
   "id": "wanted-teddy",
   "metadata": {},
   "outputs": [
    {
     "data": {
      "text/html": [
       "<div>\n",
       "<style scoped>\n",
       "    .dataframe tbody tr th:only-of-type {\n",
       "        vertical-align: middle;\n",
       "    }\n",
       "\n",
       "    .dataframe tbody tr th {\n",
       "        vertical-align: top;\n",
       "    }\n",
       "\n",
       "    .dataframe thead th {\n",
       "        text-align: right;\n",
       "    }\n",
       "</style>\n",
       "<table border=\"1\" class=\"dataframe\">\n",
       "  <thead>\n",
       "    <tr style=\"text-align: right;\">\n",
       "      <th></th>\n",
       "      <th>year</th>\n",
       "      <th>address</th>\n",
       "      <th>light_cnt</th>\n",
       "      <th>lon</th>\n",
       "      <th>lat</th>\n",
       "      <th>geometry</th>\n",
       "      <th>jur_stn</th>\n",
       "    </tr>\n",
       "  </thead>\n",
       "  <tbody>\n",
       "    <tr>\n",
       "      <th>0</th>\n",
       "      <td>NaN</td>\n",
       "      <td>세종특별자치시 금남면 감성리 64-2</td>\n",
       "      <td>1</td>\n",
       "      <td>127.287690</td>\n",
       "      <td>36.443467</td>\n",
       "      <td>POINT (127.28769 36.44347)</td>\n",
       "      <td>세종경찰서</td>\n",
       "    </tr>\n",
       "    <tr>\n",
       "      <th>1</th>\n",
       "      <td>NaN</td>\n",
       "      <td>세종특별자치시 금남면 감성리 267</td>\n",
       "      <td>1</td>\n",
       "      <td>127.288812</td>\n",
       "      <td>36.444181</td>\n",
       "      <td>POINT (127.28881 36.44418)</td>\n",
       "      <td>세종경찰서</td>\n",
       "    </tr>\n",
       "    <tr>\n",
       "      <th>2</th>\n",
       "      <td>NaN</td>\n",
       "      <td>세종특별자치시 금남면 감성리 40-1</td>\n",
       "      <td>1</td>\n",
       "      <td>127.289575</td>\n",
       "      <td>36.444711</td>\n",
       "      <td>POINT (127.28957 36.44471)</td>\n",
       "      <td>세종경찰서</td>\n",
       "    </tr>\n",
       "  </tbody>\n",
       "</table>\n",
       "</div>"
      ],
      "text/plain": [
       "   year               address  light_cnt         lon        lat  \\\n",
       "0   NaN  세종특별자치시 금남면 감성리 64-2          1  127.287690  36.443467   \n",
       "1   NaN   세종특별자치시 금남면 감성리 267          1  127.288812  36.444181   \n",
       "2   NaN  세종특별자치시 금남면 감성리 40-1          1  127.289575  36.444711   \n",
       "\n",
       "                     geometry jur_stn  \n",
       "0  POINT (127.28769 36.44347)   세종경찰서  \n",
       "1  POINT (127.28881 36.44418)   세종경찰서  \n",
       "2  POINT (127.28957 36.44471)   세종경찰서  "
      ]
     },
     "execution_count": 12,
     "metadata": {},
     "output_type": "execute_result"
    }
   ],
   "source": [
    "security_con.head(3)"
   ]
  },
  {
   "cell_type": "code",
   "execution_count": 13,
   "id": "grateful-spare",
   "metadata": {},
   "outputs": [],
   "source": [
    "# 추후 활용을 위해 csv file로 저장\n",
    "security_con.to_csv('security_con.csv')"
   ]
  },
  {
   "cell_type": "code",
   "execution_count": null,
   "id": "absolute-trial",
   "metadata": {},
   "outputs": [],
   "source": []
  },
  {
   "cell_type": "markdown",
   "id": "agricultural-burke",
   "metadata": {},
   "source": [
    "### 2. CCTV 현황(cctv_con)"
   ]
  },
  {
   "cell_type": "code",
   "execution_count": 30,
   "id": "educated-national",
   "metadata": {},
   "outputs": [
    {
     "name": "stdout",
     "output_type": "stream",
     "text": [
      "<class 'geopandas.geodataframe.GeoDataFrame'>\n",
      "RangeIndex: 46203 entries, 0 to 46202\n",
      "Data columns (total 8 columns):\n",
      " #   Column    Non-Null Count  Dtype   \n",
      "---  ------    --------------  -----   \n",
      " 0   address   40985 non-null  object  \n",
      " 1   purpose   46203 non-null  object  \n",
      " 2   cctv_cnt  46203 non-null  int64   \n",
      " 3   set_yr    29393 non-null  object  \n",
      " 4   lat       46203 non-null  float64 \n",
      " 5   lon       46203 non-null  float64 \n",
      " 6   geometry  46203 non-null  geometry\n",
      " 7   jur_stn   46197 non-null  object  \n",
      "dtypes: float64(2), geometry(1), int64(1), object(4)\n",
      "memory usage: 2.8+ MB\n"
     ]
    }
   ],
   "source": [
    "cctv_con.info()"
   ]
  },
  {
   "cell_type": "code",
   "execution_count": 22,
   "id": "fifth-compression",
   "metadata": {},
   "outputs": [
    {
     "name": "stderr",
     "output_type": "stream",
     "text": [
      "/opt/app-root/lib/python3.6/site-packages/pyproj/crs/crs.py:53: FutureWarning: '+init=<authority>:<code>' syntax is deprecated. '<authority>:<code>' is the preferred initialization method. When making the change, be mindful of axis order changes: https://pyproj4.github.io/pyproj/stable/gotchas.html#axis-order-changes-in-proj-6\n",
      "  return _prepare_from_string(\" \".join(pjargs))\n"
     ]
    }
   ],
   "source": [
    "# csv to geopandas\n",
    "# lon, lat data를 geometry로 변경\n",
    "cctv_con['lat'] = cctv_con['lat'].astype(float)\n",
    "cctv_con['lon'] = cctv_con['lon'].astype(float)\n",
    "cctv_con['geometry'] = cctv_con.apply(lambda row : Point([row['lon'], row['lat']]), axis=1)\n",
    "cctv_con = gpd.GeoDataFrame(cctv_con, geometry='geometry')\n",
    "cctv_con.crs = {'init':'epsg:4326'}\n",
    "cctv_con = cctv_con.to_crs({'init':'epsg:4326'}) # 좌표계 epsg : 4326"
   ]
  },
  {
   "cell_type": "code",
   "execution_count": 23,
   "id": "verbal-miami",
   "metadata": {},
   "outputs": [
    {
     "data": {
      "text/html": [
       "<div>\n",
       "<style scoped>\n",
       "    .dataframe tbody tr th:only-of-type {\n",
       "        vertical-align: middle;\n",
       "    }\n",
       "\n",
       "    .dataframe tbody tr th {\n",
       "        vertical-align: top;\n",
       "    }\n",
       "\n",
       "    .dataframe thead th {\n",
       "        text-align: right;\n",
       "    }\n",
       "</style>\n",
       "<table border=\"1\" class=\"dataframe\">\n",
       "  <thead>\n",
       "    <tr style=\"text-align: right;\">\n",
       "      <th></th>\n",
       "      <th>address</th>\n",
       "      <th>purpose</th>\n",
       "      <th>cctv_cnt</th>\n",
       "      <th>set_yr</th>\n",
       "      <th>lat</th>\n",
       "      <th>lon</th>\n",
       "      <th>geometry</th>\n",
       "    </tr>\n",
       "  </thead>\n",
       "  <tbody>\n",
       "    <tr>\n",
       "      <th>0</th>\n",
       "      <td>세종특별자치시 조치원읍 교리 129-1</td>\n",
       "      <td>다목적</td>\n",
       "      <td>3</td>\n",
       "      <td>NaN</td>\n",
       "      <td>36.605059</td>\n",
       "      <td>127.296286</td>\n",
       "      <td>POINT (127.29629 36.60506)</td>\n",
       "    </tr>\n",
       "    <tr>\n",
       "      <th>1</th>\n",
       "      <td>세종특별자치시 조치원읍 남리144</td>\n",
       "      <td>다목적</td>\n",
       "      <td>2</td>\n",
       "      <td>NaN</td>\n",
       "      <td>36.597678</td>\n",
       "      <td>127.302452</td>\n",
       "      <td>POINT (127.30245 36.59768)</td>\n",
       "    </tr>\n",
       "    <tr>\n",
       "      <th>2</th>\n",
       "      <td>세종특별자치시 조치원읍 남리 425</td>\n",
       "      <td>다목적</td>\n",
       "      <td>3</td>\n",
       "      <td>NaN</td>\n",
       "      <td>36.594863</td>\n",
       "      <td>127.300492</td>\n",
       "      <td>POINT (127.30049 36.59486)</td>\n",
       "    </tr>\n",
       "  </tbody>\n",
       "</table>\n",
       "</div>"
      ],
      "text/plain": [
       "                 address purpose  cctv_cnt set_yr        lat         lon  \\\n",
       "0  세종특별자치시 조치원읍 교리 129-1     다목적         3    NaN  36.605059  127.296286   \n",
       "1     세종특별자치시 조치원읍 남리144     다목적         2    NaN  36.597678  127.302452   \n",
       "2    세종특별자치시 조치원읍 남리 425     다목적         3    NaN  36.594863  127.300492   \n",
       "\n",
       "                     geometry  \n",
       "0  POINT (127.29629 36.60506)  \n",
       "1  POINT (127.30245 36.59768)  \n",
       "2  POINT (127.30049 36.59486)  "
      ]
     },
     "execution_count": 23,
     "metadata": {},
     "output_type": "execute_result"
    }
   ],
   "source": [
    "cctv_con.head(3)"
   ]
  },
  {
   "cell_type": "code",
   "execution_count": 25,
   "id": "seeing-flight",
   "metadata": {},
   "outputs": [
    {
     "name": "stderr",
     "output_type": "stream",
     "text": [
      "100%|██████████| 46203/46203 [15:50<00:00, 48.62it/s]\n"
     ]
    }
   ],
   "source": [
    "## 1과 동일한 작업을 거침\n",
    "cctv_con['jur_stn'] = ''\n",
    "cctv_con['jur_stn'] = cctv_con.progress_apply(lambda x : detect_police_name(x['geometry']) , axis=1 )"
   ]
  },
  {
   "cell_type": "code",
   "execution_count": 26,
   "id": "searching-apache",
   "metadata": {
    "scrolled": true
   },
   "outputs": [
    {
     "data": {
      "text/html": [
       "<div>\n",
       "<style scoped>\n",
       "    .dataframe tbody tr th:only-of-type {\n",
       "        vertical-align: middle;\n",
       "    }\n",
       "\n",
       "    .dataframe tbody tr th {\n",
       "        vertical-align: top;\n",
       "    }\n",
       "\n",
       "    .dataframe thead th {\n",
       "        text-align: right;\n",
       "    }\n",
       "</style>\n",
       "<table border=\"1\" class=\"dataframe\">\n",
       "  <thead>\n",
       "    <tr style=\"text-align: right;\">\n",
       "      <th></th>\n",
       "      <th>address</th>\n",
       "      <th>purpose</th>\n",
       "      <th>cctv_cnt</th>\n",
       "      <th>set_yr</th>\n",
       "      <th>lat</th>\n",
       "      <th>lon</th>\n",
       "      <th>geometry</th>\n",
       "      <th>jur_stn</th>\n",
       "    </tr>\n",
       "  </thead>\n",
       "  <tbody>\n",
       "    <tr>\n",
       "      <th>0</th>\n",
       "      <td>세종특별자치시 조치원읍 교리 129-1</td>\n",
       "      <td>다목적</td>\n",
       "      <td>3</td>\n",
       "      <td>NaN</td>\n",
       "      <td>36.605059</td>\n",
       "      <td>127.296286</td>\n",
       "      <td>POINT (127.29629 36.60506)</td>\n",
       "      <td>세종경찰서</td>\n",
       "    </tr>\n",
       "    <tr>\n",
       "      <th>1</th>\n",
       "      <td>세종특별자치시 조치원읍 남리144</td>\n",
       "      <td>다목적</td>\n",
       "      <td>2</td>\n",
       "      <td>NaN</td>\n",
       "      <td>36.597678</td>\n",
       "      <td>127.302452</td>\n",
       "      <td>POINT (127.30245 36.59768)</td>\n",
       "      <td>세종경찰서</td>\n",
       "    </tr>\n",
       "    <tr>\n",
       "      <th>2</th>\n",
       "      <td>세종특별자치시 조치원읍 남리 425</td>\n",
       "      <td>다목적</td>\n",
       "      <td>3</td>\n",
       "      <td>NaN</td>\n",
       "      <td>36.594863</td>\n",
       "      <td>127.300492</td>\n",
       "      <td>POINT (127.30049 36.59486)</td>\n",
       "      <td>세종경찰서</td>\n",
       "    </tr>\n",
       "  </tbody>\n",
       "</table>\n",
       "</div>"
      ],
      "text/plain": [
       "                 address purpose  cctv_cnt set_yr        lat         lon  \\\n",
       "0  세종특별자치시 조치원읍 교리 129-1     다목적         3    NaN  36.605059  127.296286   \n",
       "1     세종특별자치시 조치원읍 남리144     다목적         2    NaN  36.597678  127.302452   \n",
       "2    세종특별자치시 조치원읍 남리 425     다목적         3    NaN  36.594863  127.300492   \n",
       "\n",
       "                     geometry jur_stn  \n",
       "0  POINT (127.29629 36.60506)   세종경찰서  \n",
       "1  POINT (127.30245 36.59768)   세종경찰서  \n",
       "2  POINT (127.30049 36.59486)   세종경찰서  "
      ]
     },
     "execution_count": 26,
     "metadata": {},
     "output_type": "execute_result"
    }
   ],
   "source": [
    "cctv_con.head(3)"
   ]
  },
  {
   "cell_type": "code",
   "execution_count": 29,
   "id": "continental-dryer",
   "metadata": {},
   "outputs": [],
   "source": [
    "# 추후 활용을 위해 csv file로 저장\n",
    "cctv_con.to_csv('cctv_con.csv')"
   ]
  },
  {
   "cell_type": "code",
   "execution_count": null,
   "id": "combined-range",
   "metadata": {},
   "outputs": [],
   "source": []
  },
  {
   "cell_type": "code",
   "execution_count": null,
   "id": "conventional-montgomery",
   "metadata": {},
   "outputs": [],
   "source": []
  }
 ],
 "metadata": {
  "kernelspec": {
   "display_name": "Python 3",
   "language": "python",
   "name": "python3"
  },
  "language_info": {
   "codemirror_mode": {
    "name": "ipython",
    "version": 3
   },
   "file_extension": ".py",
   "mimetype": "text/x-python",
   "name": "python",
   "nbconvert_exporter": "python",
   "pygments_lexer": "ipython3",
   "version": "3.6.9"
  }
 },
 "nbformat": 4,
 "nbformat_minor": 5
}
